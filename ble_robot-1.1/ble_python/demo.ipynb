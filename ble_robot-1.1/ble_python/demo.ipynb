{
 "cells": [
  {
   "cell_type": "markdown",
   "metadata": {},
   "source": [
    "## Import necessary modules\n",
    "Run this cell before running any other cells"
   ]
  },
  {
   "cell_type": "code",
   "execution_count": null,
   "metadata": {},
   "outputs": [],
   "source": [
    "from uuid import uuid4\n",
    "uuid4()"
   ]
  },
  {
   "cell_type": "code",
   "execution_count": null,
   "metadata": {},
   "outputs": [],
   "source": [
    "%load_ext autoreload\n",
    "%autoreload 2\n",
    "\n",
    "from ble import get_ble_controller\n",
    "from base_ble import LOG\n",
    "from cmd_types import CMD\n",
    "import time\n",
    "import numpy as np\n",
    "\n",
    "LOG.propagate = False"
   ]
  },
  {
   "cell_type": "markdown",
   "metadata": {},
   "source": [
    "# Printing and Logging\n",
    "## Printing\n",
    "You can use the **print()** function in Python to print messages to the screen. <br>\n",
    "The message can be a string, or any other object, the object will be converted into a string before it is written to the screen. <br>\n",
    "\n",
    "## Logging\n",
    "You could use the logging module that is setup in *utils.py*. <br>\n",
    "It prints to both your screen (standard output) as well as to log files (*ble.log*) in the *logs* directory. <br>\n",
    "This is the recommended way to output messages, since the log files can help with debugging. <br>\n",
    "The logging module also provides different log levels as shown below, each formatted with a different color for increased visibility. <br>\n",
    "\n",
    "__**NOTE**__: You may notice that the DEBUG message is not printed to the screen but is printed in the log file. This is because the logging level for the screen is set to INFO and for the file is set to DEBUG. You can change the default log levels in *utils.py* (**STREAM_LOG_LEVEL** and **FILE_LOG_LEVEL**). \n",
    "\n",
    "## Formatting output\n",
    "To format your strings, you may use %-formatting, str.format() or f-strings. <br>\n",
    "The most \"pythonic\" way would be to use f-strings. [Here](https://realpython.com/python-f-strings/) is a good tutorial on f-strings. <br>"
   ]
  },
  {
   "cell_type": "code",
   "execution_count": null,
   "metadata": {},
   "outputs": [],
   "source": [
    "LOG.debug(\"debug\")\n",
    "LOG.info(\"info\")\n",
    "LOG.warning(\"warning\")\n",
    "LOG.error(\"error\")\n",
    "LOG.critical(\"critical\")"
   ]
  },
  {
   "cell_type": "markdown",
   "metadata": {},
   "source": [
    "<hr>\n",
    "\n",
    "# BLE\n",
    "## ArtemisBLEController\n",
    "The class **ArtemisBLEController** (defined in *ble.py*) provides member functions to handle various BLE operations to send and receive data to/from the Artemis board, provided the accompanying Arduino sketch is running on the Artemis board. <br>\n",
    "\n",
    "<table align=\"left\">\n",
    "     <tr>\n",
    "        <th style=\"text-align: left; font-size: medium\">Member Functions</th>\n",
    "        <th style=\"text-align: left; font-size: medium\">Description</th style=\"text-align: left\">\n",
    "    </tr>\n",
    "    <tr>\n",
    "        <th style=\"text-align: left\"><span style=\"color:rgb(201,152,4);font-family:monospace\">reload_config()</span></th>\n",
    "        <th style=\"text-align: left\"><span style=\"font-weight: normal\">Reload changes made in <em>connection.yaml.</em></span></th style=\"text-align: left\">\n",
    "    </tr>\n",
    "    <tr>\n",
    "        <th style=\"text-align: left\"><span style=\"color:rgb(201,152,4);font-family:monospace\">connect()</span></th>\n",
    "        <th style=\"text-align: left\"><span style=\"font-weight: normal\">Connect to the Artemis board, whose MAC address is specified in <em>connection.yaml</em>.</span></th>\n",
    "    </tr>\n",
    "    <tr>\n",
    "        <th style=\"text-align: left\"><span style=\"color:rgb(201,152,4);font-family:monospace\">disconnect()</span></th>\n",
    "        <th style=\"text-align: left\"><span style=\"font-weight: normal\">Disconnect from the Artemis board.</span></th>\n",
    "    </tr>\n",
    "    <tr>\n",
    "        <th style=\"text-align: left\"><span style=\"color:rgb(201,152,4);font-family:monospace\">is_connected()</span></th>\n",
    "        <th style=\"text-align: left\"><span style=\"font-weight: normal\">Return a boolean indicating whether your controller is connected to the Artemis board or not.</span></th>\n",
    "    </tr>\n",
    "    <tr>\n",
    "        <th style=\"text-align: left\"><span style=\"color:rgb(201,152,4);font-family:monospace\">send_command(cmd_type, data)</span></th>\n",
    "        <th style=\"text-align: left\"><span style=\"font-weight: normal\">Send the command <strong>cmd_type</strong> (integer) with <strong>data</strong> (string) to the Artemis board.</span></th>\n",
    "    </tr>\n",
    "    <tr>\n",
    "        <th style=\"text-align: left\"><span style=\"color:rgb(201,152,4);font-family:monospace\">receive_float(uuid) <br> receive_string(uuid) <br> receive_int(uuid)</span></th>\n",
    "        <th style=\"text-align: left\"><span style=\"font-weight: normal\">Read the GATT characteristic (specified by its <strong>uuid</strong>) of type float, string or int. <br> The type of the GATT\n",
    "            characteristic is determined by the classes BLEFloatCharacteristic, BLECStringCharacteristic or\n",
    "            BLEIntCharacteristic in the Arduino sketch.</span></th>\n",
    "    </tr>\n",
    "    <tr>\n",
    "        <th style=\"text-align: left\"><span style=\"color:rgb(201,152,4);font-family:monospace\">start_notify(uuid, notification_handler)</span></th>\n",
    "        <th style=\"text-align: left\"><span style=\"font-weight: normal\">Activate notifications on the GATT characteristic (specified by its <strong>uuid</strong>). <br> <strong>notification_handler</strong> is a\n",
    "            function callback which must accept two inputs; the first will be a uuid string object and the second will\n",
    "            be the bytearray of the characteristic value.</span></th>\n",
    "    </tr>\n",
    "    <tr>\n",
    "        <th style=\"text-align: left\"><span style=\"color:rgb(201,152,4);font-family:monospace\">bytearray_to_float(byte_array) <br> bytearray_to_string(byte_array) <br> bytearray_to_int(byte_array)</span></th>\n",
    "        <th style=\"text-align: left\"><span style=\"font-weight: normal\">Convert the <strong>bytearray</strong> to float, string or int, respectively. <br> You may use these functions inside your\n",
    "            notification callback function.</span></th>\n",
    "    </tr>\n",
    "    <tr>\n",
    "        <th style=\"text-align: left\"><span style=\"color:rgb(201,152,4);font-family:monospace\">stop_notify(uuid)</span></th>\n",
    "        <th style=\"text-align: left\"><span style=\"font-weight: normal\">Stop notifications on the GATT characteristic (specified by its <strong>uuid</strong>).</span></th>\n",
    "    </tr>\n",
    "</table>\n",
    "\n",
    "<table align=\"left\">\n",
    "     <tr>\n",
    "        <th style=\"text-align: left; font-size: medium\">Member Variables</th>\n",
    "        <th style=\"text-align: left; font-size: medium\">Description</th style=\"text-align: left\">\n",
    "    </tr>\n",
    "    <tr>\n",
    "        <th style=\"text-align: left\"><span style=\"color:rgb(201,152,4);font-family:monospace\">uuid</span></th>\n",
    "        <th style=\"text-align: left\"><span style=\"font-weight: normal\">A dictionary that stores the UUIDs of the various characteristics specified in <em>connection.yaml</em>.</span></th>\n",
    "    </tr>\n",
    "</table>"
   ]
  },
  {
   "cell_type": "markdown",
   "metadata": {},
   "source": [
    "## Configuration\n",
    "- The MAC address, Service UUID and GATT characteristic UUIDs are defined in the file: *connection.yaml*.\n",
    "- They should match the UUIDs used in the Arduino sketch.\n",
    "- The artemis board running the base code should display its MAC address in the serial monitor.\n",
    "- Update the **artemis_address** in *connection.yaml*, accordingly.\n",
    "- Make sure to call **ble.reload_config()** or **get_ble_controller()** (which internally calls **reload_config()**) after making any changes to your configuration file.\n",
    "\n",
    "<hr>"
   ]
  },
  {
   "cell_type": "markdown",
   "metadata": {},
   "source": [
    "In the below cell, we create an **ArtemisBLEController** object using **get_ble_controller()** (defined in *ble.py*), which creates and/or returns a single instance of **ArtemisBLEController**. <br>\n",
    "<span style=\"color:rgb(240,50,50)\"> __NOTE__: Do not use the class directly to instantiate an object. </span><br>"
   ]
  },
  {
   "cell_type": "code",
   "execution_count": null,
   "metadata": {},
   "outputs": [],
   "source": [
    "# Get ArtemisBLEController object\n",
    "ble = get_ble_controller()\n",
    "\n",
    "# Connect to the Artemis Device\n",
    "ble.connect()"
   ]
  },
  {
   "cell_type": "markdown",
   "metadata": {},
   "source": [
    "## Receive data from the Artemis board"
   ]
  },
  {
   "cell_type": "markdown",
   "metadata": {},
   "source": [
    "The cell below shows examples of reading different types (as defined in the Arduino sketch) of GATT characteristics."
   ]
  },
  {
   "cell_type": "code",
   "execution_count": null,
   "metadata": {},
   "outputs": [],
   "source": [
    "# Read a float GATT Charactersistic\n",
    "f = ble.receive_float(ble.uuid['RX_FLOAT'])\n",
    "print(f)"
   ]
  },
  {
   "cell_type": "code",
   "execution_count": null,
   "metadata": {},
   "outputs": [],
   "source": [
    "# Read a string GATT Charactersistic\n",
    "s = ble.receive_string(ble.uuid['RX_STRING'])\n",
    "print(s)"
   ]
  },
  {
   "cell_type": "markdown",
   "metadata": {},
   "source": [
    "## Send a command to the Artemis board\n",
    "Send the PING command and read the reply string from the string characteristic RX_STRING. <br>\n",
    "__NOTE__: The **send_command()** essentially sends a string data to the GATT characteristic (TX_CMD_STRING). The GATT characteristic in the Arduino sketch is of type BLECStringCharacteristic."
   ]
  },
  {
   "cell_type": "code",
   "execution_count": null,
   "metadata": {},
   "outputs": [],
   "source": [
    "ble.send_command(CMD.PING, \"\")"
   ]
  },
  {
   "cell_type": "code",
   "execution_count": null,
   "metadata": {},
   "outputs": [],
   "source": [
    "s = ble.receive_string(ble.uuid['RX_STRING'])\n",
    "print(s)"
   ]
  },
  {
   "cell_type": "markdown",
   "metadata": {},
   "source": [
    "The cell below shows an example of the SEND_TWO_INTS command. <br> The two values in the **data** are separated by a delimiter \"|\". <br>\n",
    "Refer Lab 2 documentation for more information on the command protocol."
   ]
  },
  {
   "cell_type": "code",
   "execution_count": null,
   "metadata": {},
   "outputs": [],
   "source": [
    "ble.send_command(CMD.SEND_TWO_INTS, \"2|-6\")"
   ]
  },
  {
   "cell_type": "markdown",
   "metadata": {},
   "source": [
    "The Artemis board should print the two integers to the serial monitor in the ArduinoIDE. "
   ]
  },
  {
   "cell_type": "markdown",
   "metadata": {},
   "source": [
    "## Disconnect"
   ]
  },
  {
   "cell_type": "code",
   "execution_count": null,
   "metadata": {
    "tags": []
   },
   "outputs": [],
   "source": [
    "# Disconnect\n",
    "ble.disconnect()"
   ]
  },
  {
   "cell_type": "markdown",
   "metadata": {},
   "source": [
    "# Lab"
   ]
  },
  {
   "cell_type": "markdown",
   "metadata": {},
   "source": [
    "## Imports"
   ]
  },
  {
   "cell_type": "code",
   "execution_count": null,
   "metadata": {},
   "outputs": [],
   "source": [
    "%load_ext autoreload\n",
    "%autoreload 2\n",
    "\n",
    "from ble import get_ble_controller\n",
    "from base_ble import LOG\n",
    "from cmd_types import CMD\n",
    "import time\n",
    "import numpy as np\n",
    "\n",
    "LOG.propagate = False"
   ]
  },
  {
   "cell_type": "markdown",
   "metadata": {
    "tags": []
   },
   "source": [
    "## Connect"
   ]
  },
  {
   "cell_type": "code",
   "execution_count": null,
   "metadata": {},
   "outputs": [],
   "source": [
    "# Get ArtemisBLEController object\n",
    "ble = get_ble_controller()\n",
    "\n",
    "# Connect to the Artemis Device\n",
    "ble.connect()"
   ]
  },
  {
   "cell_type": "markdown",
   "metadata": {},
   "source": [
    "## Task 1"
   ]
  },
  {
   "cell_type": "code",
   "execution_count": null,
   "metadata": {},
   "outputs": [],
   "source": [
    "ble.send_command(CMD.ECHO, \"QUACK!\")"
   ]
  },
  {
   "cell_type": "code",
   "execution_count": null,
   "metadata": {},
   "outputs": [],
   "source": [
    "echo = ble.receive_string(ble.uuid['RX_STRING'])\n",
    "print(echo)"
   ]
  },
  {
   "cell_type": "markdown",
   "metadata": {},
   "source": [
    "## Task 2"
   ]
  },
  {
   "cell_type": "code",
   "execution_count": null,
   "metadata": {},
   "outputs": [],
   "source": [
    "ble.send_command(CMD.GET_TIME_MILLIS, \"\")"
   ]
  },
  {
   "cell_type": "code",
   "execution_count": null,
   "metadata": {},
   "outputs": [],
   "source": [
    "millis = ble.receive_string(ble.uuid['RX_STRING'])\n",
    "print(millis)"
   ]
  },
  {
   "cell_type": "markdown",
   "metadata": {},
   "source": [
    "## Task 3"
   ]
  },
  {
   "cell_type": "code",
   "execution_count": null,
   "metadata": {},
   "outputs": [],
   "source": [
    "time = 0\n",
    "\n",
    "def str_notify_handler(uuid, byte_array):\n",
    "    global time\n",
    "    byte_array = ble.bytearray_to_string(byte_array)\n",
    "    time = byte_array[2:]\n",
    "    time = int(time)\n",
    "    print(\"Time:\", time, \"ms\")"
   ]
  },
  {
   "cell_type": "code",
   "execution_count": null,
   "metadata": {},
   "outputs": [],
   "source": [
    "ble.start_notify(ble.uuid['RX_STRING'], str_notify_handler)"
   ]
  },
  {
   "cell_type": "code",
   "execution_count": null,
   "metadata": {},
   "outputs": [],
   "source": [
    "ble.stop_notify(ble.uuid['RX_STRING'])"
   ]
  },
  {
   "cell_type": "markdown",
   "metadata": {},
   "source": [
    "## Task 4"
   ]
  },
  {
   "cell_type": "code",
   "execution_count": null,
   "metadata": {},
   "outputs": [],
   "source": [
    "times = []\n",
    "temps = []\n",
    "\n",
    "def str_notify_handler(uuid, byte_array):\n",
    "    lst = []\n",
    "    global times\n",
    "    global temps\n",
    "    byte_array = ble.bytearray_to_string(byte_array)\n",
    "\n",
    "    while(True):\n",
    "        try:\n",
    "            index = byte_array.index('|')\n",
    "            lst.append(byte_array[:index])\n",
    "            byte_array = byte_array[index+1:]\n",
    "        except:\n",
    "            lst.append(byte_array)\n",
    "            break\n",
    "\n",
    "    for i in range(len(lst)):\n",
    "        if i%2 == 0:\n",
    "            times.append(lst[i][2:])\n",
    "        else:\n",
    "            temps.append(lst[i][2:])\n",
    "\n",
    "    print(\"Time(ms)    \", \"Temperature(C)\")\n",
    "    for i in range(len(times)):\n",
    "        print(times[i], \"      \", temps[i])"
   ]
  },
  {
   "cell_type": "code",
   "execution_count": null,
   "metadata": {},
   "outputs": [],
   "source": [
    "ble.start_notify(ble.uuid['RX_STRING'], str_notify_handler)"
   ]
  },
  {
   "cell_type": "code",
   "execution_count": null,
   "metadata": {},
   "outputs": [],
   "source": [
    "ble.stop_notify(ble.uuid['RX_STRING'])"
   ]
  },
  {
   "cell_type": "code",
   "execution_count": null,
   "metadata": {},
   "outputs": [],
   "source": [
    "ble.send_command(CMD.GET_TEMP_5s, \"\")"
   ]
  },
  {
   "cell_type": "markdown",
   "metadata": {},
   "source": [
    "## Task 5"
   ]
  },
  {
   "cell_type": "code",
   "execution_count": null,
   "metadata": {},
   "outputs": [],
   "source": [
    "lst = []\n",
    "def str_notify_handler(uuid, byte_array):\n",
    "    global times\n",
    "    global temps\n",
    "    global lst\n",
    "    data = ble.bytearray_to_string(byte_array)\n",
    "    \n",
    "    while(True):\n",
    "        try:\n",
    "            index = data.index('|')\n",
    "            lst.append(data[:index])\n",
    "            data = data[index+1:]\n",
    "        except:\n",
    "            #lst.append(data)\n",
    "            break\n",
    "\n",
    "    #print(\"5s of temperature readings stored in temps list.\")"
   ]
  },
  {
   "cell_type": "code",
   "execution_count": null,
   "metadata": {},
   "outputs": [],
   "source": [
    "ble.start_notify(ble.uuid['RX_STRING'], str_notify_handler)"
   ]
  },
  {
   "cell_type": "code",
   "execution_count": null,
   "metadata": {},
   "outputs": [],
   "source": [
    "ble.stop_notify(ble.uuid['RX_STRING'])"
   ]
  },
  {
   "cell_type": "code",
   "execution_count": null,
   "metadata": {},
   "outputs": [],
   "source": [
    "ble.send_command(CMD.GET_TEMP_5s_RAPID, \"\")"
   ]
  },
  {
   "cell_type": "code",
   "execution_count": null,
   "metadata": {},
   "outputs": [],
   "source": [
    "times = []\n",
    "temps = []\n",
    "\n",
    "for i in range(len(lst)):\n",
    "    if i%2 == 0:\n",
    "        times.append(lst[i][2:])\n",
    "    else:\n",
    "        temps.append(lst[i][2:])\n",
    "\n",
    "print(\"Time(ms)    \", \"Temperature(C)\")\n",
    "for i in range(len(times)):\n",
    "    print(times[i], \"      \", temps[i])\n",
    "# print(lst)\n",
    "# print(times)\n",
    "# print(temps)\n",
    "print(\"Total # of temperature measurements taken:\", len(temps))"
   ]
  },
  {
   "cell_type": "markdown",
   "metadata": {},
   "source": [
    "## Lab 3 Task 9"
   ]
  },
  {
   "cell_type": "code",
   "execution_count": null,
   "metadata": {},
   "outputs": [],
   "source": [
    "import numpy as np\n",
    "lst = []\n",
    "means = np.zeros(15)\n",
    "stdevs = np.zeros(15)\n",
    "def str_notify_handler(uuid, byte_array):\n",
    "    global lst\n",
    "    data = ble.bytearray_to_string(byte_array)\n",
    "    print(data)\n",
    "    \n",
    "    while(True):\n",
    "        try:\n",
    "            index = data.index('|')\n",
    "            lst.append(data[:index])\n",
    "            data = data[index+1:]\n",
    "        except:\n",
    "            break"
   ]
  },
  {
   "cell_type": "code",
   "execution_count": null,
   "metadata": {},
   "outputs": [],
   "source": [
    "ble.start_notify(ble.uuid['RX_STRING'], str_notify_handler)"
   ]
  },
  {
   "cell_type": "code",
   "execution_count": null,
   "metadata": {},
   "outputs": [],
   "source": [
    "ble.stop_notify(ble.uuid['RX_STRING'])"
   ]
  },
  {
   "cell_type": "code",
   "execution_count": null,
   "metadata": {},
   "outputs": [],
   "source": [
    "ble.send_command(CMD.GET_DIST, \"5000\")"
   ]
  },
  {
   "cell_type": "code",
   "execution_count": null,
   "metadata": {},
   "outputs": [],
   "source": [
    "import statistics as stat\n",
    "times = []\n",
    "dist1 = []\n",
    "dist2 = []\n",
    "\n",
    "counter = 0\n",
    "for i in range(len(lst)):\n",
    "    if counter == 0:\n",
    "        times.append(int(lst[i][2:]))\n",
    "    elif counter == 1:\n",
    "        dist1.append(int(lst[i][3:]))\n",
    "    elif counter == 2:\n",
    "        dist2.append(int(lst[i][3:]))\n",
    "    counter += 1\n",
    "    counter = counter % 3\n",
    "\n",
    "print(\"Time(ms)    \", \"Distance 1(cm)    \", \"Distance 2(cm)    \")\n",
    "for i in range(len(times)):\n",
    "    print(times[i], \"      \", dist1[i], \"              \", dist2[i])\n",
    "\n",
    "print(\"Average distances: \", stat.mean(dist1), \"              \", stat.mean(dist2))\n",
    "print(\"Standard deviations: \", stat.stdev(dist1), \"              \", stat.stdev(dist2))\n",
    "\n",
    "index = 1 # CHANGE THIS for each distance\n",
    "means[index-1] = stat.mean(dist2)\n",
    "stdevs[index-1] = stat.stdev(dist2)\n",
    "print(means)\n",
    "print(stdevs)\n",
    "lst = []"
   ]
  },
  {
   "cell_type": "code",
   "execution_count": null,
   "metadata": {},
   "outputs": [],
   "source": [
    "savemeans = means\n",
    "savestdevs = stdevs"
   ]
  },
  {
   "cell_type": "code",
   "execution_count": null,
   "metadata": {},
   "outputs": [],
   "source": [
    "real_distances = [2,4,6,8,10,12,14,16,18,20,22,24,26,28,30]\n",
    "plt.plot(real_distances, means, label = 'Mean sensor reading')\n",
    "plt.plot(real_distances, stdevs, label = 'Standard deviation')\n",
    "plt.xlabel('Actual Distance(cm)')\n",
    "plt.ylabel('Sensor Distance(cm)')\n",
    "plt.legend()\n",
    "plt.show()"
   ]
  },
  {
   "cell_type": "code",
   "execution_count": null,
   "metadata": {},
   "outputs": [],
   "source": [
    "pip install matplotlib"
   ]
  },
  {
   "cell_type": "code",
   "execution_count": null,
   "metadata": {},
   "outputs": [],
   "source": [
    "import matplotlib.pyplot as plt\n",
    "plt.plot(times, dist1)\n",
    "plt.plot(times, dist2)\n",
    "plt.xlabel('Time(ms)')\n",
    "plt.ylabel('Distance(cm)')\n",
    "plt.show()"
   ]
  },
  {
   "cell_type": "markdown",
   "metadata": {},
   "source": [
    "### Imports and connect to BLE again for convenience"
   ]
  },
  {
   "cell_type": "code",
   "execution_count": null,
   "metadata": {},
   "outputs": [],
   "source": [
    "%load_ext autoreload\n",
    "%autoreload 2\n",
    "\n",
    "from ble import get_ble_controller\n",
    "from base_ble import LOG\n",
    "from cmd_types import CMD\n",
    "import time\n",
    "import numpy as np\n",
    "\n",
    "LOG.propagate = False"
   ]
  },
  {
   "cell_type": "code",
   "execution_count": null,
   "metadata": {},
   "outputs": [],
   "source": [
    "# Get ArtemisBLEController object\n",
    "ble = get_ble_controller()\n",
    "\n",
    "# Connect to the Artemis Device\n",
    "ble.connect()"
   ]
  },
  {
   "cell_type": "markdown",
   "metadata": {},
   "source": [
    "## Lab 4"
   ]
  },
  {
   "cell_type": "markdown",
   "metadata": {},
   "source": [
    "### IMU only"
   ]
  },
  {
   "cell_type": "code",
   "execution_count": null,
   "metadata": {},
   "outputs": [],
   "source": [
    "import numpy as np\n",
    "lst = []\n",
    "def str_notify_handler(uuid, byte_array):\n",
    "    global lst\n",
    "    data = ble.bytearray_to_string(byte_array)\n",
    "    print(data)\n",
    "    \n",
    "    while(True):\n",
    "        try:\n",
    "            index = data.index('|')\n",
    "            lst.append(data[:index])\n",
    "            data = data[index+1:]\n",
    "        except:\n",
    "            break"
   ]
  },
  {
   "cell_type": "code",
   "execution_count": null,
   "metadata": {},
   "outputs": [],
   "source": [
    "ble.start_notify(ble.uuid['RX_STRING'], str_notify_handler)"
   ]
  },
  {
   "cell_type": "code",
   "execution_count": null,
   "metadata": {},
   "outputs": [],
   "source": [
    "ble.stop_notify(ble.uuid['RX_STRING'])"
   ]
  },
  {
   "cell_type": "code",
   "execution_count": null,
   "metadata": {},
   "outputs": [],
   "source": [
    "ble.send_command(CMD.GET_IMU, \"5000\")"
   ]
  },
  {
   "cell_type": "code",
   "execution_count": null,
   "metadata": {},
   "outputs": [],
   "source": [
    "import statistics as stat\n",
    "times = []\n",
    "pitch = []\n",
    "roll = []\n",
    "yaw = []\n",
    "\n",
    "counter = 0\n",
    "for i in range(len(lst)):\n",
    "    if counter == 0:\n",
    "        times.append(float(lst[i][2:]))\n",
    "    elif counter == 1:\n",
    "        pitch.append(float(lst[i][2:]))\n",
    "    elif counter == 2:\n",
    "        roll.append(float(lst[i][2:]))\n",
    "    elif counter == 3:\n",
    "        yaw.append(float(lst[i][2:]))\n",
    "    counter += 1\n",
    "    counter = counter % 4\n",
    "\n",
    "print(\"Time(ms)      \", \"Pitch          \", \"Roll            \", \"Yaw      \")\n",
    "for i in range(len(times)):\n",
    "    print(times[i], \"      \", pitch[i], \"        \", roll[i], \"        \", yaw[i])"
   ]
  },
  {
   "cell_type": "markdown",
   "metadata": {},
   "source": [
    "### TOF & IMU"
   ]
  },
  {
   "cell_type": "code",
   "execution_count": null,
   "metadata": {},
   "outputs": [],
   "source": [
    "import numpy as np\n",
    "tof = []\n",
    "imu = []\n",
    "def str_notify_handler(uuid, byte_array):\n",
    "    global tof\n",
    "    global imu\n",
    "    data = ble.bytearray_to_string(byte_array)\n",
    "    print(data)\n",
    "    \n",
    "    if (int(data[0]) == 1): #TOF data\n",
    "        while(True):\n",
    "            try:\n",
    "                data = data[1:]\n",
    "                index = data.index('|')\n",
    "                tof.append(data[:index])\n",
    "                data = data[index+1:]\n",
    "            except:\n",
    "                break\n",
    "    elif (int(data[0]) == 2): #IMU data\n",
    "        while(True):\n",
    "            try:\n",
    "                data = data[1:]\n",
    "                index = data.index('|')\n",
    "                imu.append(data[:index])\n",
    "                data = data[index+1:]\n",
    "            except:\n",
    "                break\n",
    "    else:\n",
    "        print(\"Data is not classified as TOF or IMU\")"
   ]
  },
  {
   "cell_type": "code",
   "execution_count": null,
   "metadata": {},
   "outputs": [],
   "source": [
    "ble.start_notify(ble.uuid['RX_STRING'], str_notify_handler)"
   ]
  },
  {
   "cell_type": "code",
   "execution_count": null,
   "metadata": {},
   "outputs": [],
   "source": [
    "ble.stop_notify(ble.uuid['RX_STRING'])"
   ]
  },
  {
   "cell_type": "code",
   "execution_count": null,
   "metadata": {},
   "outputs": [],
   "source": [
    "ble.send_command(CMD.GET_TOF_IMU, \"5000\")"
   ]
  },
  {
   "cell_type": "code",
   "execution_count": null,
   "metadata": {},
   "outputs": [],
   "source": [
    "print(imu)"
   ]
  },
  {
   "cell_type": "code",
   "execution_count": null,
   "metadata": {},
   "outputs": [],
   "source": [
    "import statistics as stat\n",
    "times = []\n",
    "pitch = []\n",
    "roll = []\n",
    "yaw = []\n",
    "\n",
    "counter = 0\n",
    "for i in range(len(imu)):\n",
    "    if counter == 0:\n",
    "        times.append(float(imu[i][2:]))\n",
    "    elif counter == 1:\n",
    "        pitch.append(float(imu[i][1:]))\n",
    "    elif counter == 2:\n",
    "        roll.append(float(imu[i][1:]))\n",
    "    elif counter == 3:\n",
    "        yaw.append(float(imu[i]))\n",
    "    counter += 1\n",
    "    counter = counter % 4\n",
    "\n",
    "print(\"Time(ms)      \", \"Pitch          \", \"Roll            \", \"Yaw      \")\n",
    "for i in range(len(times)):\n",
    "    print(times[i], \"      \", pitch[i], \"        \", roll[i], \"        \", yaw[i])"
   ]
  },
  {
   "cell_type": "code",
   "execution_count": null,
   "metadata": {},
   "outputs": [],
   "source": [
    "print(tof)"
   ]
  },
  {
   "cell_type": "code",
   "execution_count": null,
   "metadata": {},
   "outputs": [],
   "source": [
    "import statistics as stat\n",
    "dist_times = []\n",
    "dist1 = []\n",
    "dist2 = []\n",
    "\n",
    "counter = 0\n",
    "for i in range(len(tof)):\n",
    "    if counter == 0:\n",
    "        dist_times.append(int(tof[i][2:]))\n",
    "    elif counter == 1:\n",
    "        dist1.append(int(tof[i][2:]))\n",
    "    elif counter == 2:\n",
    "        dist2.append(int(tof[i][2:]))\n",
    "    counter += 1\n",
    "    counter = counter % 3\n",
    "\n",
    "print(\"Time(ms)    \", \"Distance 1(cm)    \", \"Distance 2(cm)    \")\n",
    "for i in range(len(dist_times)):\n",
    "    print(dist_times[i], \"      \", dist1[i], \"              \", dist2[i])"
   ]
  },
  {
   "cell_type": "code",
   "execution_count": null,
   "metadata": {},
   "outputs": [],
   "source": [
    "import matplotlib.pyplot as plt\n",
    "plt.plot(dist1)\n",
    "plt.plot(dist2)\n",
    "plt.xlabel('Time')\n",
    "plt.ylabel('Distance(cm)')\n",
    "plt.show()"
   ]
  },
  {
   "cell_type": "code",
   "execution_count": null,
   "metadata": {},
   "outputs": [],
   "source": [
    "plt.plot(pitch, label = 'pitch')\n",
    "plt.plot(roll, label = 'roll')\n",
    "plt.xlabel('Time')\n",
    "plt.legend()\n",
    "plt.show()"
   ]
  },
  {
   "cell_type": "markdown",
   "metadata": {},
   "source": [
    "## Lab 6 - Motors"
   ]
  },
  {
   "cell_type": "markdown",
   "metadata": {},
   "source": [
    "### Imports and connect to BLE again for convenience"
   ]
  },
  {
   "cell_type": "code",
   "execution_count": null,
   "metadata": {},
   "outputs": [],
   "source": [
    "%load_ext autoreload\n",
    "%autoreload 2\n",
    "\n",
    "from ble import get_ble_controller\n",
    "from base_ble import LOG\n",
    "from cmd_types import CMD\n",
    "import time\n",
    "import numpy as np\n",
    "\n",
    "LOG.propagate = False"
   ]
  },
  {
   "cell_type": "code",
   "execution_count": 547,
   "metadata": {},
   "outputs": [
    {
     "name": "stdout",
     "output_type": "stream",
     "text": [
      "2023-04-21 16:18:32,606 |\u001b[32m INFO     \u001b[0m|: Looking for Artemis Nano Peripheral Device: c0:83:24:6a:9a:3c\n",
      "2023-04-21 16:18:35,751 |\u001b[32m INFO     \u001b[0m|: Connected to c0:83:24:6a:9a:3c\n"
     ]
    }
   ],
   "source": [
    "# Get ArtemisBLEController object\n",
    "ble = get_ble_controller()        \n",
    "\n",
    "# Connect to the Artemis Device\n",
    "ble.connect()"
   ]
  },
  {
   "cell_type": "code",
   "execution_count": 548,
   "metadata": {},
   "outputs": [],
   "source": [
    "ble.send_command(CMD.PID, \"\")\n",
    "\n",
    "tof_times = []\n",
    "tof_data = []\n",
    "speed_data = []\n",
    "imu_data = []\n",
    "imu_times = []\n",
    "flag = 0\n",
    "\n",
    "def str_notify_handler(uuid, byte_array):\n",
    "    global lst\n",
    "    global flag\n",
    "    # print(byte_array)\n",
    "    data = ble.bytearray_to_string(byte_array)\n",
    "    print(data)\n",
    "    \n",
    "    # if(data[0] == '|'):\n",
    "    #     flag = 1\n",
    "    #     return\n",
    "    if(flag == 0):\n",
    "        tof_times.append(int(data[1 : data.index(',')]))\n",
    "        data = data[data.index(',')+1:]\n",
    "        tof_data.append(int(data[:data.index(',')]))\n",
    "        data = data[data.index(',')+1:]\n",
    "        imu_data.append(int(data[:-1]))\n",
    "    # else:\n",
    "    #     imu_times.append(int(data[1 : data.index(',')]))\n",
    "    #     data = data[data.index(',')+1:]\n",
    "    #     imu_data.append(int(data[:-1]))\n",
    "    \n",
    "ble.start_notify(ble.uuid['RX_STRING'], str_notify_handler)"
   ]
  },
  {
   "cell_type": "code",
   "execution_count": 549,
   "metadata": {},
   "outputs": [
    {
     "name": "stdout",
     "output_type": "stream",
     "text": [
      "(16486,1240,0)\n",
      "(16498,1237,-4)\n",
      "(16689,1243,-4)\n",
      "(16871,1234,-4)\n",
      "(17058,1237,-4)\n",
      "(17244,1229,-4)\n",
      "(17433,1246,-4)\n",
      "(17616,1231,-4)\n",
      "(17801,1236,-4)\n",
      "(17987,1231,-4)\n",
      "(18175,1238,-4)\n",
      "(18268,1228,-4)\n",
      "(18458,1245,-4)\n",
      "(18638,1228,-4)\n",
      "(18828,1234,-4)\n",
      "(19015,1240,-4)\n",
      "(19200,1232,-4)\n",
      "(19384,1229,-3)\n",
      "(19569,1240,-3)\n",
      "(19764,1229,-4)\n",
      "(19947,1233,-3)\n",
      "(20137,1233,-4)\n",
      "(20323,1237,-4)\n",
      "(20500,1234,-4)\n",
      "(20686,1237,-3)\n",
      "(20793,1241,-3)\n",
      "(20965,1238,-3)\n",
      "(21154,1226,-3)\n",
      "(21248,1229,-3)\n",
      "(21438,1225,-3)\n",
      "(21630,1231,-3)\n",
      "(21814,1236,-3)\n",
      "(22001,1233,-3)\n",
      "(22178,1237,-3)\n",
      "(22369,1236,-3)\n",
      "(22453,1224,-3)\n",
      "(22655,1230,-3)\n",
      "(22832,1235,-3)\n",
      "(23022,1243,-3)\n",
      "(23198,1228,-2)\n",
      "(23385,1231,-2)\n",
      "(23572,1231,-2)\n",
      "(23756,1234,-2)\n",
      "(23949,1223,-2)\n",
      "(24129,1237,-2)\n",
      "(24236,1232,-2)\n",
      "(24418,1231,-2)\n",
      "(24598,1238,-1)\n",
      "(24790,1237,-1)\n",
      "(24975,1225,-1)\n",
      "(25157,1234,-1)\n",
      "(25349,1219,0)\n",
      "(25530,1229,0)\n",
      "(25721,1235,0)\n",
      "(25899,1232,0)\n",
      "(26096,1236,0)\n",
      "(26277,1232,1)\n",
      "(26466,1223,1)\n",
      "(26645,1239,2)\n",
      "(26833,1228,3)\n",
      "(27019,1227,3)\n",
      "(27117,1226,3)\n",
      "(27205,1240,4)\n",
      "(27293,1244,4)\n",
      "(27481,1237,4)\n",
      "(27572,1244,5)\n",
      "(27672,1216,5)\n",
      "(27761,1236,5)\n",
      "(27949,1240,6)\n",
      "(28137,1243,7)\n",
      "(28226,1249,7)\n",
      "(28412,1248,8)\n",
      "(28515,1258,8)\n",
      "(28603,1257,9)\n",
      "(28695,1255,9)\n",
      "(28787,1252,9)\n",
      "(28884,1262,10)\n",
      "(28974,1251,10)\n",
      "(29070,1263,10)\n",
      "(29158,1259,11)\n",
      "(29261,1277,12)\n",
      "(29344,1263,12)\n",
      "(29440,1266,12)\n",
      "(29536,1273,13)\n",
      "(29626,1279,13)\n",
      "(29714,1290,13)\n",
      "(29815,1284,14)\n",
      "(30002,1288,14)\n",
      "(30098,1297,15)\n",
      "(30193,1303,15)\n",
      "(30274,1307,16)\n",
      "(30364,1324,16)\n",
      "(30462,1325,16)\n",
      "(30558,1316,17)\n",
      "(30648,1311,17)\n",
      "(30739,1305,18)\n",
      "(30830,1321,19)\n",
      "(30931,1315,19)\n",
      "(31017,1327,20)\n",
      "(31118,1329,20)\n",
      "(31206,1321,21)\n",
      "(31301,1315,21)\n",
      "(31393,1322,22)\n",
      "(31482,1311,22)\n",
      "(31576,1327,23)\n",
      "(31671,1309,23)\n",
      "(31764,1294,23)\n",
      "(31860,1300,24)\n",
      "(32046,1273,25)\n",
      "(32137,1267,25)\n",
      "(32230,1275,25)\n",
      "(32325,1254,26)\n",
      "(32425,1238,27)\n",
      "(32510,1214,27)\n",
      "(32607,1206,28)\n",
      "(32793,1177,28)\n",
      "(32981,1141,29)\n",
      "(33069,1132,30)\n",
      "(33173,1109,30)\n",
      "(33273,1083,31)\n",
      "(33443,1054,32)\n",
      "(33544,1053,32)\n",
      "(33634,1032,33)\n",
      "(33724,1044,33)\n",
      "(33812,1028,34)\n",
      "(33921,1015,35)\n",
      "(34011,1005,36)\n",
      "(34189,990,37)\n",
      "(34283,980,38)\n",
      "(34466,966,38)\n",
      "(34562,953,39)\n",
      "(34751,924,40)\n",
      "(34933,913,41)\n",
      "(35115,905,42)\n",
      "(35314,880,43)\n",
      "(35499,872,43)\n",
      "(35682,855,45)\n",
      "(35871,843,46)\n",
      "(36062,832,47)\n",
      "(36233,808,48)\n",
      "(36428,795,49)\n",
      "(36604,777,50)\n",
      "(36792,764,51)\n",
      "(36985,757,52)\n",
      "(37165,748,53)\n",
      "(37353,750,55)\n",
      "(37538,740,56)\n",
      "(37735,734,58)\n",
      "(37911,737,59)\n",
      "(38099,742,60)\n",
      "(38287,745,62)\n",
      "(38380,758,63)\n",
      "(38477,779,63)\n",
      "(38563,789,64)\n",
      "(38657,859,65)\n",
      "(38745,942,66)\n",
      "(38845,1047,67)\n",
      "(38939,1063,68)\n",
      "(39028,1152,68)\n",
      "(39125,1213,69)\n",
      "(39216,1225,69)\n",
      "(39308,1275,70)\n",
      "(39402,1344,70)\n",
      "(39494,1339,71)\n",
      "(39590,1384,72)\n",
      "(39686,1377,72)\n",
      "(39776,1430,73)\n",
      "(39868,1478,73)\n",
      "(39957,1463,74)\n",
      "(40050,1465,75)\n",
      "(40145,1469,76)\n",
      "(40236,1473,76)\n",
      "(40335,1478,77)\n",
      "(40513,1482,79)\n",
      "(40616,1475,80)\n",
      "(40716,1488,80)\n",
      "(40797,1475,81)\n",
      "(40893,1484,82)\n",
      "(40990,1472,83)\n",
      "(41079,1481,83)\n",
      "(41174,1498,84)\n",
      "(41261,1495,85)\n",
      "(41353,1485,85)\n",
      "(41450,1489,86)\n",
      "(41540,1484,87)\n",
      "(41637,1494,88)\n",
      "(41726,1496,89)\n",
      "(41818,1512,89)\n",
      "(41917,1500,90)\n",
      "(42018,1501,91)\n",
      "(42112,1494,92)\n",
      "(42191,1497,93)\n",
      "(42291,1490,94)\n",
      "(42388,1512,94)\n",
      "(42471,1515,95)\n",
      "(42572,1526,97)\n",
      "(42667,1533,98)\n",
      "(42751,1521,98)\n",
      "(42849,1526,99)\n",
      "(42935,1520,99)\n",
      "(43038,1538,100)\n",
      "(43128,1524,101)\n",
      "(43219,1534,102)\n",
      "(43327,1513,103)\n",
      "(43494,1576,104)\n",
      "(43596,1501,104)\n",
      "(43683,1548,105)\n",
      "(43780,1529,106)\n",
      "(43874,1533,107)\n",
      "(43968,1527,107)\n",
      "(44053,1577,108)\n",
      "(44148,1595,109)\n",
      "(44242,1575,110)\n",
      "(44333,1625,110)\n",
      "(44436,1593,111)\n",
      "(44523,1611,112)\n",
      "(44611,1666,113)\n",
      "(44719,1641,114)\n",
      "(44802,1618,114)\n",
      "(44891,1623,115)\n",
      "(44984,1657,116)\n",
      "(45082,1698,117)\n",
      "(45175,1623,118)\n",
      "(45272,1604,119)\n",
      "(45357,1630,120)\n",
      "(45457,1645,121)\n",
      "(45549,1587,122)\n",
      "(45642,1536,123)\n",
      "(45737,1524,124)\n",
      "(45833,1575,125)\n",
      "(45931,1454,126)\n",
      "(46017,1487,127)\n",
      "(46111,1448,128)\n",
      "(46195,1471,129)\n",
      "(46295,1435,129)\n",
      "(46382,1421,130)\n",
      "(46491,1456,131)\n",
      "(46569,1425,132)\n",
      "(46669,1392,132)\n",
      "(46757,1402,133)\n",
      "(46858,1355,134)\n",
      "(46946,1358,135)\n",
      "(47039,1380,136)\n",
      "(47136,1356,137)\n",
      "(47230,1346,137)\n",
      "(47322,1348,138)\n",
      "(47409,1319,139)\n",
      "(47602,1310,141)\n",
      "(47794,1305,143)\n",
      "(47876,1280,143)\n",
      "(47970,1296,144)\n",
      "(48161,1258,146)\n",
      "(48251,1258,147)\n",
      "(48437,1241,148)\n",
      "(48626,1238,150)\n",
      "(48807,1223,152)\n",
      "(49002,1203,153)\n",
      "(49176,1164,155)\n",
      "(49373,1119,156)\n",
      "(49555,1032,158)\n",
      "(49739,932,159)\n",
      "(49922,841,161)\n",
      "(50117,806,163)\n",
      "(50301,776,164)\n",
      "(50484,761,166)\n",
      "(50673,734,168)\n",
      "(50861,723,169)\n",
      "(51047,705,171)\n",
      "(51224,709,172)\n",
      "(51413,712,174)\n",
      "(51597,708,176)\n",
      "(51790,711,178)\n",
      "(51982,723,179)\n",
      "(52161,737,181)\n",
      "(52340,749,183)\n",
      "(52540,765,185)\n",
      "(52723,807,187)\n",
      "(52898,890,188)\n",
      "(53086,1066,190)\n",
      "(53180,1135,191)\n",
      "(53280,1225,192)\n",
      "(53464,1232,194)\n",
      "(53557,1250,195)\n",
      "(53643,1257,196)\n",
      "(53736,1245,197)\n",
      "(53836,1259,197)\n",
      "(53930,1270,198)\n",
      "(54018,1270,199)\n",
      "(54208,1313,201)\n",
      "(54300,1294,202)\n",
      "(54398,1308,203)\n",
      "(54581,1236,204)\n",
      "(54677,1231,205)\n",
      "(54770,1279,206)\n",
      "(54857,1300,207)\n",
      "(54955,1316,208)\n",
      "(55048,1319,209)\n",
      "(55136,1209,210)\n",
      "(55228,1285,211)\n",
      "(55325,1240,212)\n",
      "(55413,1298,212)\n",
      "(55510,1210,213)\n",
      "(55607,1234,214)\n",
      "(55696,1182,215)\n",
      "(55797,1118,216)\n",
      "(55883,1125,217)\n",
      "(55974,1101,218)\n",
      "(56067,1203,219)\n",
      "(56157,1212,219)\n",
      "(56258,1097,220)\n",
      "(56351,1223,221)\n",
      "(56438,1347,222)\n",
      "(56541,1226,223)\n",
      "(56632,1274,224)\n",
      "(56724,1196,225)\n",
      "(56811,1401,225)\n",
      "(56911,1336,226)\n",
      "(57004,1355,227)\n",
      "(57089,1530,228)\n",
      "(57185,1594,228)\n",
      "(57286,1469,229)\n",
      "(57368,1524,230)\n",
      "(57462,1499,231)\n",
      "(57563,1417,231)\n",
      "(57660,1498,232)\n",
      "(57740,1686,233)\n",
      "(57836,1511,234)\n",
      "(57930,1562,235)\n",
      "(58033,1421,236)\n",
      "(58115,1615,237)\n",
      "(58209,1557,238)\n",
      "(58308,1725,239)\n",
      "(58396,1646,240)\n",
      "(58489,1681,241)\n",
      "(58582,1584,242)\n",
      "(58679,1585,243)\n",
      "(58765,1730,244)\n",
      "(58861,1786,245)\n",
      "(58964,1654,246)\n",
      "(59050,1770,247)\n",
      "(59148,1691,248)\n",
      "(59232,1732,249)\n",
      "(59327,1603,250)\n",
      "(59426,1733,251)\n",
      "(59605,1774,253)\n",
      "(59705,1743,254)\n",
      "(59799,1831,255)\n",
      "(59884,1693,256)\n",
      "(59979,1712,258)\n",
      "(60074,1707,259)\n",
      "(60169,1575,260)\n",
      "(60261,1553,261)\n",
      "(60348,1486,261)\n",
      "(60441,1424,262)\n",
      "(60545,1393,263)\n",
      "(60637,1167,264)\n",
      "(60734,1103,265)\n",
      "(60816,1079,266)\n",
      "(60922,961,267)\n",
      "(61004,916,268)\n",
      "(61106,872,269)\n",
      "(61194,854,270)\n",
      "(61288,823,271)\n",
      "(61377,826,271)\n",
      "(61468,811,272)\n",
      "(61661,803,275)\n",
      "(61748,795,276)\n",
      "(61851,798,277)\n",
      "(62029,811,279)\n",
      "(62127,809,280)\n",
      "(62314,819,282)\n",
      "(62496,829,284)\n",
      "(62678,833,286)\n",
      "(62773,847,287)\n",
      "(62975,857,289)\n",
      "(63148,873,291)\n",
      "(63246,886,292)\n",
      "(63335,894,292)\n",
      "(63432,892,294)\n",
      "(63613,924,295)\n",
      "(63706,935,296)\n",
      "(63805,962,297)\n",
      "(63995,956,299)\n",
      "(64079,988,300)\n",
      "(64167,1001,301)\n",
      "(64265,1042,302)\n",
      "(64460,1118,304)\n",
      "(64545,1156,305)\n",
      "(64638,1340,306)\n",
      "(64728,1389,307)\n",
      "(64827,1403,308)\n",
      "(64925,1415,310)\n",
      "(65010,1418,310)\n",
      "(65102,1427,311)\n",
      "(65199,1359,313)\n",
      "(65292,1378,314)\n",
      "(65378,1366,315)\n",
      "(65473,1393,316)\n",
      "(65567,1364,317)\n",
      "(65668,1370,319)\n",
      "(65758,1390,320)\n",
      "(65846,1368,321)\n",
      "(65944,1350,322)\n",
      "(66040,1351,324)\n",
      "(66133,1339,325)\n",
      "(66319,1335,327)\n",
      "(66403,1344,328)\n",
      "(66502,1319,329)\n",
      "(66597,1337,330)\n",
      "(66684,1321,331)\n",
      "(66868,1316,333)\n",
      "(66967,1311,334)\n",
      "(67158,1312,336)\n",
      "(67246,1304,337)\n",
      "(67339,1305,338)\n",
      "(67529,1304,340)\n",
      "(67614,1309,341)\n",
      "(67806,1308,344)\n"
     ]
    }
   ],
   "source": [
    "ble.send_command(CMD.SEND_DATA, \"\")"
   ]
  },
  {
   "cell_type": "code",
   "execution_count": 550,
   "metadata": {},
   "outputs": [
    {
     "name": "stdout",
     "output_type": "stream",
     "text": [
      "2023-04-21 16:19:35,818 |\u001b[32m INFO     \u001b[0m|: Disconnected from 3E8FB54A-DE75-5568-901D-E91E2BD0E736\n"
     ]
    }
   ],
   "source": [
    "# Disconnect\n",
    "ble.disconnect()"
   ]
  },
  {
   "cell_type": "code",
   "execution_count": null,
   "metadata": {},
   "outputs": [],
   "source": [
    "# Possible strings for SEND_PWM:\n",
    "\n",
    "# F + pwm, B + pwm, R + pwm, L + pwm, S000 (pwm must be 3 digits)\n",
    "ble.send_command(CMD.SEND_PWM, \"F080\")"
   ]
  },
  {
   "cell_type": "code",
   "execution_count": null,
   "metadata": {},
   "outputs": [],
   "source": [
    "ble.send_command(CMD.SEND_PWM, \"S000\")"
   ]
  },
  {
   "cell_type": "code",
   "execution_count": null,
   "metadata": {},
   "outputs": [],
   "source": [
    "msg = ble.receive_string(ble.uuid['RX_STRING'])\n",
    "print(msg)"
   ]
  },
  {
   "cell_type": "code",
   "execution_count": 551,
   "metadata": {},
   "outputs": [],
   "source": [
    "save_times = tof_times\n",
    "save_tof = tof_data\n",
    "save_imu = imu_data"
   ]
  },
  {
   "cell_type": "code",
   "execution_count": null,
   "metadata": {},
   "outputs": [],
   "source": [
    "tof_times = save_times\n",
    "tof_data = save_tof\n",
    "speed_data = save_speed\n",
    "kf_data = save_kf\n",
    "kf_times = save_kf_times"
   ]
  },
  {
   "cell_type": "code",
   "execution_count": null,
   "metadata": {},
   "outputs": [],
   "source": [
    "tof_times = tof_times[20:]\n",
    "scaled_times = [(t - tof_times[0])/1000.0 for t in tof_times]\n",
    "min_time = min(scaled_times)\n",
    "shifted_times = [t - min_time for t in scaled_times]\n",
    "\n",
    "print(shifted_times)\n",
    "tof_data = save_tof[20:]\n",
    "speed_data = speed_data[170:]"
   ]
  },
  {
   "cell_type": "code",
   "execution_count": 626,
   "metadata": {},
   "outputs": [
    {
     "data": {
      "text/plain": [
       "345"
      ]
     },
     "execution_count": 626,
     "metadata": {},
     "output_type": "execute_result"
    }
   ],
   "source": [
    "len(imu_data)"
   ]
  },
  {
   "cell_type": "code",
   "execution_count": null,
   "metadata": {},
   "outputs": [],
   "source": [
    "scaled_times = [(t - save_kf_times[0])/1000.0 for t in save_kf_times]\n",
    "min_time = min(scaled_times)\n",
    "# shifted_times_kf = [t - min_time +0.63 for t in scaled_times]\n",
    "shifted_times_kf = [t - min_time + 0.33 for t in scaled_times]"
   ]
  },
  {
   "cell_type": "code",
   "execution_count": 552,
   "metadata": {},
   "outputs": [],
   "source": [
    "import pickle\n",
    "with open('2map00_times.pickle', 'wb') as f:\n",
    "    pickle.dump(tof_times, f, pickle.HIGHEST_PROTOCOL)\n",
    "with open('2map00_tof.pickle', 'wb') as f:\n",
    "    pickle.dump(tof_data, f, pickle.HIGHEST_PROTOCOL)\n",
    "with open('2map00_imu.pickle', 'wb') as f:\n",
    "    pickle.dump(imu_data, f, pickle.HIGHEST_PROTOCOL)"
   ]
  },
  {
   "cell_type": "code",
   "execution_count": 535,
   "metadata": {},
   "outputs": [],
   "source": [
    "import pickle\n",
    "with open('2map5-3_times.pickle', 'rb') as f:\n",
    "    tof_times = pickle.load(f)\n",
    "with open('2map5-3_tof.pickle', 'rb') as f:\n",
    "    tof_data = pickle.load(f)\n",
    "with open('2map5-3_imu.pickle', 'rb') as f:\n",
    "    imu_data = pickle.load(f)"
   ]
  },
  {
   "cell_type": "code",
   "execution_count": 511,
   "metadata": {},
   "outputs": [
    {
     "data": {
      "text/plain": [
       "Text(0.5, 1.0, 'Distance(mm) vs Time(ms) for (5, -3)')"
      ]
     },
     "execution_count": 511,
     "metadata": {},
     "output_type": "execute_result"
    },
    {
     "data": {
      "image/png": "[encoded data removed]",
      "text/plain": [
       "<Figure size 640x480 with 1 Axes>"
      ]
     },
     "metadata": {},
     "output_type": "display_data"
    }
   ],
   "source": [
    "# for i in range(len(tof_data)):\n",
    "#     tof_data[i] *= 2.2\n",
    "#     tof_data[i] += 300\n",
    "from matplotlib import pyplot as plt\n",
    "plt.plot(tof_times, tof_data)\n",
    "plt.title(\"Distance(mm) vs Time(ms) for (5, -3)\")"
   ]
  },
  {
   "cell_type": "code",
   "execution_count": 554,
   "metadata": {},
   "outputs": [],
   "source": [
    "import math\n",
    "deg = np.linspace(0, 2*math.pi, len(tof_data))\n",
    "rads = []\n",
    "for i in imu_data:\n",
    "    rads.append(i*math.pi/180)"
   ]
  },
  {
   "cell_type": "code",
   "execution_count": 555,
   "metadata": {},
   "outputs": [
    {
     "data": {
      "text/plain": [
       "Text(0.5, 1.0, 'Map (0, 0)')"
      ]
     },
     "execution_count": 555,
     "metadata": {},
     "output_type": "execute_result"
    },
    {
     "data": {
      "image/png": "[encoded data removed]",
      "text/plain": [
       "<Figure size 640x480 with 1 Axes>"
      ]
     },
     "metadata": {},
     "output_type": "display_data"
    }
   ],
   "source": [
    "plt.polar(rads, tof_data, '.')\n",
    "plt.title(\"Map (0, 0)\")"
   ]
  },
  {
   "cell_type": "code",
   "execution_count": null,
   "metadata": {},
   "outputs": [],
   "source": [
    "new_kf = []\n",
    "for i in range(len(kf_data)):\n",
    "    new_kf.append(kf_data[i] * -2.3)"
   ]
  },
  {
   "cell_type": "code",
   "execution_count": 553,
   "metadata": {},
   "outputs": [
    {
     "data": {
      "text/plain": [
       "<matplotlib.legend.Legend at 0x11b662250>"
      ]
     },
     "execution_count": 553,
     "metadata": {},
     "output_type": "execute_result"
    },
    {
     "data": {
      "image/png": "[encoded data removed]",
      "text/plain": [
       "<Figure size 640x480 with 1 Axes>"
      ]
     },
     "metadata": {},
     "output_type": "display_data"
    }
   ],
   "source": [
    "plt.plot(tof_times, tof_data, '.', label = 'Distance Data')\n",
    "plt.plot(tof_times, imu_data, label = 'IMU Data')\n",
    "plt.title(\"Distance(mm) and Yaw vs Time(s) at (0, 0)\")\n",
    "plt.legend()"
   ]
  },
  {
   "cell_type": "code",
   "execution_count": null,
   "metadata": {},
   "outputs": [],
   "source": [
    "# speed_data = save_speed[50:]\n",
    "# for i in range(4):\n",
    "#     speed_data[i] = 0\n",
    "for i in range(15):\n",
    "    speed_data[i] = 255\n",
    "for i in range(15, len(speed_data)):\n",
    "    speed_data[i] = -255"
   ]
  },
  {
   "cell_type": "code",
   "execution_count": 587,
   "metadata": {},
   "outputs": [
    {
     "data": {
      "text/plain": [
       "[888,\n",
       " 890,\n",
       " 890,\n",
       " 888,\n",
       " 887,\n",
       " 887,\n",
       " 889,\n",
       " 890,\n",
       " 889,\n",
       " 894,\n",
       " 892,\n",
       " 886,\n",
       " 887,\n",
       " 887,\n",
       " 885,\n",
       " 887,\n",
       " 888,\n",
       " 889,\n",
       " 891,\n",
       " 884,\n",
       " 887,\n",
       " 892,\n",
       " 892,\n",
       " 885,\n",
       " 888,\n",
       " 888,\n",
       " 889,\n",
       " 889,\n",
       " 893,\n",
       " 893,\n",
       " 889,\n",
       " 889,\n",
       " 899,\n",
       " 900,\n",
       " 901,\n",
       " 903,\n",
       " 906,\n",
       " 908,\n",
       " 908,\n",
       " 909,\n",
       " 910,\n",
       " 911,\n",
       " 915,\n",
       " 915,\n",
       " 914,\n",
       " 914,\n",
       " 920,\n",
       " 919,\n",
       " 925,\n",
       " 926,\n",
       " 927,\n",
       " 930,\n",
       " 935,\n",
       " 937,\n",
       " 939,\n",
       " 944,\n",
       " 948,\n",
       " 948,\n",
       " 951,\n",
       " 955,\n",
       " 958,\n",
       " 973,\n",
       " 975,\n",
       " 979,\n",
       " 984,\n",
       " 988,\n",
       " 986,\n",
       " 1000,\n",
       " 999,\n",
       " 999,\n",
       " 1005,\n",
       " 1011,\n",
       " 1014,\n",
       " 1010,\n",
       " 1017,\n",
       " 1022,\n",
       " 1025,\n",
       " 1028,\n",
       " 1029,\n",
       " 1033,\n",
       " 1037,\n",
       " 1034,\n",
       " 1039,\n",
       " 1033,\n",
       " 1035,\n",
       " 1026,\n",
       " 1023,\n",
       " 1021,\n",
       " 1022,\n",
       " 1015,\n",
       " 1014,\n",
       " 1005,\n",
       " 993,\n",
       " 973,\n",
       " 959,\n",
       " 932,\n",
       " 908,\n",
       " 896,\n",
       " 880,\n",
       " 876,\n",
       " 862,\n",
       " 849,\n",
       " 850,\n",
       " 839,\n",
       " 827,\n",
       " 820,\n",
       " 818,\n",
       " 818,\n",
       " 809,\n",
       " 799,\n",
       " 795,\n",
       " 794,\n",
       " 778,\n",
       " 783,\n",
       " 768,\n",
       " 760,\n",
       " 755,\n",
       " 758,\n",
       " 752,\n",
       " 748,\n",
       " 748,\n",
       " 751,\n",
       " 747,\n",
       " 737,\n",
       " 735,\n",
       " 733,\n",
       " 730,\n",
       " 726,\n",
       " 720,\n",
       " 723,\n",
       " 719,\n",
       " 722,\n",
       " 719,\n",
       " 719,\n",
       " 718,\n",
       " 712,\n",
       " 707,\n",
       " 704,\n",
       " 702,\n",
       " 697,\n",
       " 689,\n",
       " 686,\n",
       " 681,\n",
       " 679,\n",
       " 670,\n",
       " 665,\n",
       " 661,\n",
       " 659,\n",
       " 653,\n",
       " 649,\n",
       " 648,\n",
       " 651,\n",
       " 645,\n",
       " 645,\n",
       " 646,\n",
       " 647,\n",
       " 647,\n",
       " 649,\n",
       " 646,\n",
       " 655,\n",
       " 652,\n",
       " 653,\n",
       " 658,\n",
       " 663,\n",
       " 669,\n",
       " 679,\n",
       " 682,\n",
       " 695,\n",
       " 704,\n",
       " 708,\n",
       " 719,\n",
       " 730,\n",
       " 734,\n",
       " 743,\n",
       " 750,\n",
       " 755,\n",
       " 764,\n",
       " 775,\n",
       " 780,\n",
       " 796,\n",
       " 807,\n",
       " 813,\n",
       " 817,\n",
       " 825,\n",
       " 821,\n",
       " 822,\n",
       " 824,\n",
       " 815,\n",
       " 808,\n",
       " 796,\n",
       " 778,\n",
       " 760,\n",
       " 740,\n",
       " 728,\n",
       " 711,\n",
       " 695,\n",
       " 678,\n",
       " 662,\n",
       " 651,\n",
       " 641,\n",
       " 629,\n",
       " 616,\n",
       " 605,\n",
       " 599,\n",
       " 588,\n",
       " 584,\n",
       " 577,\n",
       " 572,\n",
       " 567,\n",
       " 562,\n",
       " 562,\n",
       " 557,\n",
       " 556,\n",
       " 552,\n",
       " 550,\n",
       " 548,\n",
       " 547,\n",
       " 547,\n",
       " 549,\n",
       " 544,\n",
       " 548,\n",
       " 547,\n",
       " 549,\n",
       " 554,\n",
       " 557,\n",
       " 556,\n",
       " 561,\n",
       " 565,\n",
       " 574,\n",
       " 575,\n",
       " 585,\n",
       " 592,\n",
       " 607,\n",
       " 618,\n",
       " 628,\n",
       " 640,\n",
       " 655,\n",
       " 679,\n",
       " 701,\n",
       " 724,\n",
       " 759,\n",
       " 787,\n",
       " 804,\n",
       " 812,\n",
       " 810,\n",
       " 795,\n",
       " 780,\n",
       " 762,\n",
       " 750,\n",
       " 736,\n",
       " 724,\n",
       " 713,\n",
       " 702,\n",
       " 691,\n",
       " 682,\n",
       " 676,\n",
       " 666,\n",
       " 667,\n",
       " 653,\n",
       " 647,\n",
       " 641,\n",
       " 648,\n",
       " 648,\n",
       " 629,\n",
       " 588,\n",
       " 680,\n",
       " 679,\n",
       " 598,\n",
       " 604,\n",
       " 566,\n",
       " 632,\n",
       " 614,\n",
       " 595,\n",
       " 691,\n",
       " 532,\n",
       " 626,\n",
       " 560,\n",
       " 692,\n",
       " 645,\n",
       " 754,\n",
       " 645,\n",
       " 677,\n",
       " 645,\n",
       " 1050,\n",
       " 872,\n",
       " 1061,\n",
       " 1058,\n",
       " 1193,\n",
       " 1182,\n",
       " 1348,\n",
       " 1424,\n",
       " 1155,\n",
       " 1480,\n",
       " 1449,\n",
       " 1297,\n",
       " 1295,\n",
       " 1319,\n",
       " 1195,\n",
       " 1232,\n",
       " 1013,\n",
       " 1096,\n",
       " 1017,\n",
       " 815,\n",
       " 929,\n",
       " 785,\n",
       " 844,\n",
       " 709,\n",
       " 821,\n",
       " 690,\n",
       " 860,\n",
       " 963,\n",
       " 1063,\n",
       " 1237,\n",
       " 1444,\n",
       " 1382,\n",
       " 1316,\n",
       " 1452,\n",
       " 1559,\n",
       " 1521,\n",
       " 1856,\n",
       " 1653,\n",
       " 1606,\n",
       " 1717,\n",
       " 1566,\n",
       " 1708,\n",
       " 1774,\n",
       " 1757,\n",
       " 1727,\n",
       " 1804,\n",
       " 1839,\n",
       " 1794,\n",
       " 1731,\n",
       " 1671,\n",
       " 1337,\n",
       " 1135,\n",
       " 1078,\n",
       " 1030,\n",
       " 1002,\n",
       " 982,\n",
       " 973,\n",
       " 968,\n",
       " 956,\n",
       " 944,\n",
       " 941,\n",
       " 943]"
      ]
     },
     "execution_count": 587,
     "metadata": {},
     "output_type": "execute_result"
    }
   ],
   "source": [
    "tof_data"
   ]
  },
  {
   "cell_type": "code",
   "execution_count": null,
   "metadata": {},
   "outputs": [],
   "source": [
    "# for i in range(len(speed_data)):\n",
    "#     speed_data[i] *= 1.5\n",
    "from matplotlib import pyplot as plt\n",
    "plt.plot(shifted_times, speed_data, '.')\n",
    "plt.title(\"PWM vs Time(ms)\")"
   ]
  },
  {
   "cell_type": "code",
   "execution_count": null,
   "metadata": {},
   "outputs": [],
   "source": [
    "dydx = []\n",
    "dt = []\n",
    "# tof_data = save_tof\n",
    "# tof_times = save_times\n",
    "# scaled_times = [(t - tof_times[0])/1000.0 for t in tof_times]\n",
    "# min_time = min(scaled_times)\n",
    "# shifted_times = [t - min_time for t in scaled_times]\n",
    "\n",
    "# dydx = np.diff(tof_data) / np.diff(shifted_times)\n",
    "# dt = (np.array(shifted_times)[:-1] + np.array(shifted_times)[1:]) / 2\n",
    "\n",
    "for i in range(len(tof_times)-1):\n",
    "    temp = (tof_data[i+1]-tof_data[i])/(tof_times[i+1]-tof_times[i])\n",
    "    #if(abs(temp) < 4000):\n",
    "    dydx.append(temp)\n",
    "print(dydx)\n",
    "# print(dt)"
   ]
  },
  {
   "cell_type": "code",
   "execution_count": null,
   "metadata": {},
   "outputs": [],
   "source": [
    "from matplotlib import pyplot as plt\n",
    "plt.plot(tof_times[:-1], dydx)\n",
    "plt.title(\"Velocity(mm/s) vs Time(s)\")"
   ]
  },
  {
   "cell_type": "code",
   "execution_count": null,
   "metadata": {},
   "outputs": [],
   "source": [
    "# Find sampling rate\n",
    "diffs = np.diff(tof_times)\n",
    "print(sum(diffs)/len(diffs))"
   ]
  },
  {
   "cell_type": "code",
   "execution_count": null,
   "metadata": {},
   "outputs": [],
   "source": [
    "import pickle\n",
    "with open('times_kf2.pickle', 'wb') as f:\n",
    "    pickle.dump(shifted_times, f, pickle.HIGHEST_PROTOCOL)\n",
    "with open('tof_kf2.pickle', 'wb') as f:\n",
    "    pickle.dump(tof_data, f, pickle.HIGHEST_PROTOCOL)\n",
    "with open('speed_kf2.pickle', 'wb') as f:\n",
    "    pickle.dump(speed_data, f, pickle.HIGHEST_PROTOCOL)\n",
    "with open('velocity_kf2.pickle', 'wb') as f:\n",
    "    pickle.dump(dydx, f, pickle.HIGHEST_PROTOCOL)"
   ]
  },
  {
   "cell_type": "code",
   "execution_count": null,
   "metadata": {},
   "outputs": [],
   "source": [
    "import sys\n",
    "!{sys.executable} -m pip install scipy"
   ]
  },
  {
   "cell_type": "code",
   "execution_count": null,
   "metadata": {},
   "outputs": [],
   "source": [
    "import scipy\n",
    "import statistics\n",
    "tof_data = save_tof\n",
    "speed_data = save_sspeed\n",
    "avg_data = []\n",
    "avg_speed = []\n",
    "for i in range(len(tof_data)-5):\n",
    "    avg_data.append(statistics.mean(tof_data[i:i+5]))\n",
    "    avg_speed.append(statistics.mean(speed_data[i:i+5]))"
   ]
  },
  {
   "cell_type": "markdown",
   "metadata": {},
   "source": [
    "## Lab 7 - Kalman Filter"
   ]
  },
  {
   "cell_type": "code",
   "execution_count": null,
   "metadata": {},
   "outputs": [],
   "source": [
    "drag = 0.000555\n",
    "mass = 0.00326\n",
    "\n",
    "A = np.array([[0, 1], \n",
    "              [0, -1*drag/mass]])\n",
    "B = np.array([[0, 1/mass]])\n",
    "C = np.array([[-1, 0]])\n",
    "\n",
    "# Discretize A and B\n",
    "delta_t = 0.093\n",
    "Ad = np.eye(2) + delta_t * A  #n is the dimension of your state space \n",
    "Bd = delta_t * B\n",
    "\n",
    "x = np.array([[-tof_data[0]],[0]])\n",
    "\n",
    "# Noise covariance matrices\n",
    "sigma_1 = 32.79\n",
    "sigma_2 = 32.79\n",
    "# sigma_3 = 20\n",
    "# sigma_1 = 100\n",
    "# sigma_2 = 100\n",
    "sigma_3 = 10\n",
    "sig_u=np.array([[sigma_1**2,0],[0,sigma_2**2]]) #We assume uncorrelated noise, and therefore a diagonal matrix works.\n",
    "sig_z=np.array([[sigma_3**2]])"
   ]
  },
  {
   "cell_type": "code",
   "execution_count": null,
   "metadata": {},
   "outputs": [],
   "source": [
    "# Kalman Filter\n",
    "def kf(mu,sigma,u,y):\n",
    "    \n",
    "    mu_p = Ad.dot(mu) + np.dot(u,Bd) \n",
    "    sigma_p = Ad.dot(np.dot(sigma, Ad.transpose()) + sig_u)#sigma.dot(Ad.transpose())) + Sigma_u\n",
    "    \n",
    "    sigma_m = C.dot(sigma_p.dot(C.transpose())) + sig_z\n",
    "    kkf_gain = sigma_p.dot(C.transpose().dot(np.linalg.inv(sigma_m)))\n",
    "\n",
    "    y_m = y-C.dot(mu_p)\n",
    "    mu = mu_p + kkf_gain.dot(y_m)    \n",
    "    sigma=(np.eye(2)-kkf_gain.dot(C)).dot(sigma_p)\n",
    "\n",
    "    return mu,sigma"
   ]
  },
  {
   "cell_type": "code",
   "execution_count": null,
   "metadata": {},
   "outputs": [],
   "source": [
    "# Run code\n",
    "kf_state = []\n",
    "\n",
    "# Initial state uncertainty \n",
    "sig = np.array([[5**2,0],[0,5**2]])\n",
    "\n",
    "# Initial state\n",
    "x = np.array([[-tof_data[0]],[0]])\n",
    "\n",
    "for u, d in zip(speed_data, tof_data):\n",
    "    arr1 = np.array([[u/120]])\n",
    "    arr2 = np.array([[d]])\n",
    "    x, sig = kf(x, sig, [[u/120]], [[d]])\n",
    "    kf_state.append(x[:,0])"
   ]
  },
  {
   "cell_type": "code",
   "execution_count": null,
   "metadata": {},
   "outputs": [],
   "source": [
    "kf_save = kf_state"
   ]
  },
  {
   "cell_type": "code",
   "execution_count": null,
   "metadata": {},
   "outputs": [],
   "source": [
    "kf_plot = []\n",
    "for i in kf_state:\n",
    "    kf_plot.append(-1*i[0])"
   ]
  },
  {
   "cell_type": "code",
   "execution_count": null,
   "metadata": {},
   "outputs": [],
   "source": [
    "plt.plot(tof_times, tof_data, '.', label = 'Raw sensor data')\n",
    "plt.plot(tof_times, kf_plot, label = 'Kalman filtered sensor data')\n",
    "plt.title(\"Position(mm) vs Time(s)\")\n",
    "plt.legend()"
   ]
  },
  {
   "cell_type": "markdown",
   "metadata": {},
   "source": [
    "## Lab 9 - Mapping"
   ]
  },
  {
   "cell_type": "markdown",
   "metadata": {},
   "source": [
    "Convert from polar to cartesian coordinates, then offset by the coordinate there the robot took the readings. "
   ]
  },
  {
   "cell_type": "code",
   "execution_count": null,
   "metadata": {},
   "outputs": [],
   "source": [
    "import pickle\n",
    "with open('map00_times.pickle', 'rb') as f:\n",
    "    tof_times = pickle.load(f)\n",
    "with open('map00_tof.pickle', 'rb') as f:\n",
    "    tof_data = pickle.load(f)"
   ]
  },
  {
   "cell_type": "code",
   "execution_count": null,
   "metadata": {},
   "outputs": [],
   "source": [
    "plt.polar(deg, tof_data, '.')\n",
    "plt.title(\"Map (0,0)\")"
   ]
  },
  {
   "cell_type": "code",
   "execution_count": null,
   "metadata": {},
   "outputs": [],
   "source": [
    "import math\n",
    "deg = np.linspace(0, 2*math.pi, len(tof_data))"
   ]
  },
  {
   "cell_type": "code",
   "execution_count": 629,
   "metadata": {},
   "outputs": [
    {
     "data": {
      "image/png": "[encoded data removed]",
      "text/plain": [
       "<Figure size 640x480 with 1 Axes>"
      ]
     },
     "metadata": {},
     "output_type": "display_data"
    }
   ],
   "source": [
    "files = ['2map00_times.pickle', '2map00_tof.pickle', '2map00_imu.pickle', '2map03_times.pickle', '2map03_tof.pickle', '2map03_imu.pickle', '2map5-3_times.pickle', '2map5-3_tof.pickle', '2map5-3_imu.pickle', '2map53_times.pickle', '2map53_tof.pickle', '2map53_imu.pickle', '2map-3-2_times.pickle', '2map-3-2_tof.pickle', '2map-3-2_imu.pickle'] \n",
    "offsets = [(0,0),(0,3),(5,-3),(5,3),(-3,-2)]\n",
    "rotation = [10, -70, 15, 35, -10]\n",
    "for j in range(5):\n",
    "    x1 = []\n",
    "    y1 = []\n",
    "    with open(files[j*3], 'rb') as f:\n",
    "        tof_times = pickle.load(f)\n",
    "    with open(files[j*3+1], 'rb') as f:\n",
    "        tof_data = pickle.load(f)\n",
    "    with open(files[j*3+2], 'rb') as f:\n",
    "        imu_data = pickle.load(f) \n",
    "    rads = []\n",
    "    for i in imu_data:\n",
    "        rads.append((i+rotation[j])*math.pi/180)\n",
    "    for i in range(len(rads)):\n",
    "        if(tof_data[i] < 1150):\n",
    "            x1.append(-tof_data[i]*math.sin(rads[i])+offsets[j][0]*304.8)\n",
    "            y1.append(tof_data[i]*math.cos(rads[i])+offsets[j][1]*304.8)\n",
    "    plt.plot(x1, y1, '.')\n",
    "    plt.title(\"Full Map using 5 Points\")\n",
    "    \n",
    "linex_wall = [-650, 2100, 2100, 400, 400, -250, -250, -1550, -1550, -670, -670]\n",
    "liney_wall = [1350, 1350, -1300, -1300, -700, -700, -1150, -1150, 250, 250, 1350]\n",
    "\n",
    "linex_box = [750, 1450, 1450, 750, 750]\n",
    "liney_box = [800, 800, 150, 150, 800]\n",
    "\n",
    "plt.plot(linex_wall, liney_wall, color = \"royalblue\")\n",
    "plt.plot(linex_box, liney_box, color = \"royalblue\")\n",
    "\n",
    "# real_linex_wall = [-1676, -1676, 1981, 1981, -762, -762, -1676]\n",
    "# real_liney_wall = [152, -1371, -1371, 1371, 1371, 152, 152]\n",
    "\n",
    "# real_linex_box1 = [762, 1371, 1371, 762, 762]\n",
    "# real_liney_box1 = [-152, -152, 457, 457, -152]\n",
    "\n",
    "# real_linex_box2 = [-152, -152, 152, 152, -152]\n",
    "# real_liney_box2 = [-1371, -762, -762, -1371, -1371]\n",
    "\n",
    "# plt.plot(real_linex_wall, real_liney_wall)\n",
    "# plt.plot(real_linex_box1, real_liney_box1)\n",
    "# plt.plot(real_linex_box2, real_liney_box2)\n",
    "\n",
    "plt.show()"
   ]
  },
  {
   "cell_type": "code",
   "execution_count": null,
   "metadata": {},
   "outputs": [],
   "source": [
    "plt.plot(x1, y1, '.')"
   ]
  },
  {
   "cell_type": "code",
   "execution_count": null,
   "metadata": {},
   "outputs": [],
   "source": []
  }
 ],
 "metadata": {
  "kernelspec": {
   "display_name": "Python 3 (ipykernel)",
   "language": "python",
   "name": "python3"
  },
  "language_info": {
   "codemirror_mode": {
    "name": "ipython",
    "version": 3
   },
   "file_extension": ".py",
   "mimetype": "text/x-python",
   "name": "python",
   "nbconvert_exporter": "python",
   "pygments_lexer": "ipython3",
   "version": "3.9.10"
  }
 },
 "nbformat": 4,
 "nbformat_minor": 4
}
