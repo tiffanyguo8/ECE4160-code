{
 "cells": [
  {
   "cell_type": "markdown",
   "metadata": {},
   "source": [
    "## Import necessary modules\n",
    "Run this cell before running any other cells"
   ]
  },
  {
   "cell_type": "code",
   "execution_count": null,
   "metadata": {},
   "outputs": [],
   "source": [
    "from uuid import uuid4\n",
    "uuid4()"
   ]
  },
  {
   "cell_type": "code",
   "execution_count": null,
   "metadata": {},
   "outputs": [],
   "source": [
    "%load_ext autoreload\n",
    "%autoreload 2\n",
    "\n",
    "from ble import get_ble_controller\n",
    "from base_ble import LOG\n",
    "from cmd_types import CMD\n",
    "import time\n",
    "import numpy as np\n",
    "\n",
    "LOG.propagate = False"
   ]
  },
  {
   "cell_type": "markdown",
   "metadata": {},
   "source": [
    "# Printing and Logging\n",
    "## Printing\n",
    "You can use the **print()** function in Python to print messages to the screen. <br>\n",
    "The message can be a string, or any other object, the object will be converted into a string before it is written to the screen. <br>\n",
    "\n",
    "## Logging\n",
    "You could use the logging module that is setup in *utils.py*. <br>\n",
    "It prints to both your screen (standard output) as well as to log files (*ble.log*) in the *logs* directory. <br>\n",
    "This is the recommended way to output messages, since the log files can help with debugging. <br>\n",
    "The logging module also provides different log levels as shown below, each formatted with a different color for increased visibility. <br>\n",
    "\n",
    "__**NOTE**__: You may notice that the DEBUG message is not printed to the screen but is printed in the log file. This is because the logging level for the screen is set to INFO and for the file is set to DEBUG. You can change the default log levels in *utils.py* (**STREAM_LOG_LEVEL** and **FILE_LOG_LEVEL**). \n",
    "\n",
    "## Formatting output\n",
    "To format your strings, you may use %-formatting, str.format() or f-strings. <br>\n",
    "The most \"pythonic\" way would be to use f-strings. [Here](https://realpython.com/python-f-strings/) is a good tutorial on f-strings. <br>"
   ]
  },
  {
   "cell_type": "code",
   "execution_count": null,
   "metadata": {},
   "outputs": [],
   "source": [
    "LOG.debug(\"debug\")\n",
    "LOG.info(\"info\")\n",
    "LOG.warning(\"warning\")\n",
    "LOG.error(\"error\")\n",
    "LOG.critical(\"critical\")"
   ]
  },
  {
   "cell_type": "markdown",
   "metadata": {},
   "source": [
    "<hr>\n",
    "\n",
    "# BLE\n",
    "## ArtemisBLEController\n",
    "The class **ArtemisBLEController** (defined in *ble.py*) provides member functions to handle various BLE operations to send and receive data to/from the Artemis board, provided the accompanying Arduino sketch is running on the Artemis board. <br>\n",
    "\n",
    "<table align=\"left\">\n",
    "     <tr>\n",
    "        <th style=\"text-align: left; font-size: medium\">Member Functions</th>\n",
    "        <th style=\"text-align: left; font-size: medium\">Description</th style=\"text-align: left\">\n",
    "    </tr>\n",
    "    <tr>\n",
    "        <th style=\"text-align: left\"><span style=\"color:rgb(201,152,4);font-family:monospace\">reload_config()</span></th>\n",
    "        <th style=\"text-align: left\"><span style=\"font-weight: normal\">Reload changes made in <em>connection.yaml.</em></span></th style=\"text-align: left\">\n",
    "    </tr>\n",
    "    <tr>\n",
    "        <th style=\"text-align: left\"><span style=\"color:rgb(201,152,4);font-family:monospace\">connect()</span></th>\n",
    "        <th style=\"text-align: left\"><span style=\"font-weight: normal\">Connect to the Artemis board, whose MAC address is specified in <em>connection.yaml</em>.</span></th>\n",
    "    </tr>\n",
    "    <tr>\n",
    "        <th style=\"text-align: left\"><span style=\"color:rgb(201,152,4);font-family:monospace\">disconnect()</span></th>\n",
    "        <th style=\"text-align: left\"><span style=\"font-weight: normal\">Disconnect from the Artemis board.</span></th>\n",
    "    </tr>\n",
    "    <tr>\n",
    "        <th style=\"text-align: left\"><span style=\"color:rgb(201,152,4);font-family:monospace\">is_connected()</span></th>\n",
    "        <th style=\"text-align: left\"><span style=\"font-weight: normal\">Return a boolean indicating whether your controller is connected to the Artemis board or not.</span></th>\n",
    "    </tr>\n",
    "    <tr>\n",
    "        <th style=\"text-align: left\"><span style=\"color:rgb(201,152,4);font-family:monospace\">send_command(cmd_type, data)</span></th>\n",
    "        <th style=\"text-align: left\"><span style=\"font-weight: normal\">Send the command <strong>cmd_type</strong> (integer) with <strong>data</strong> (string) to the Artemis board.</span></th>\n",
    "    </tr>\n",
    "    <tr>\n",
    "        <th style=\"text-align: left\"><span style=\"color:rgb(201,152,4);font-family:monospace\">receive_float(uuid) <br> receive_string(uuid) <br> receive_int(uuid)</span></th>\n",
    "        <th style=\"text-align: left\"><span style=\"font-weight: normal\">Read the GATT characteristic (specified by its <strong>uuid</strong>) of type float, string or int. <br> The type of the GATT\n",
    "            characteristic is determined by the classes BLEFloatCharacteristic, BLECStringCharacteristic or\n",
    "            BLEIntCharacteristic in the Arduino sketch.</span></th>\n",
    "    </tr>\n",
    "    <tr>\n",
    "        <th style=\"text-align: left\"><span style=\"color:rgb(201,152,4);font-family:monospace\">start_notify(uuid, notification_handler)</span></th>\n",
    "        <th style=\"text-align: left\"><span style=\"font-weight: normal\">Activate notifications on the GATT characteristic (specified by its <strong>uuid</strong>). <br> <strong>notification_handler</strong> is a\n",
    "            function callback which must accept two inputs; the first will be a uuid string object and the second will\n",
    "            be the bytearray of the characteristic value.</span></th>\n",
    "    </tr>\n",
    "    <tr>\n",
    "        <th style=\"text-align: left\"><span style=\"color:rgb(201,152,4);font-family:monospace\">bytearray_to_float(byte_array) <br> bytearray_to_string(byte_array) <br> bytearray_to_int(byte_array)</span></th>\n",
    "        <th style=\"text-align: left\"><span style=\"font-weight: normal\">Convert the <strong>bytearray</strong> to float, string or int, respectively. <br> You may use these functions inside your\n",
    "            notification callback function.</span></th>\n",
    "    </tr>\n",
    "    <tr>\n",
    "        <th style=\"text-align: left\"><span style=\"color:rgb(201,152,4);font-family:monospace\">stop_notify(uuid)</span></th>\n",
    "        <th style=\"text-align: left\"><span style=\"font-weight: normal\">Stop notifications on the GATT characteristic (specified by its <strong>uuid</strong>).</span></th>\n",
    "    </tr>\n",
    "</table>\n",
    "\n",
    "<table align=\"left\">\n",
    "     <tr>\n",
    "        <th style=\"text-align: left; font-size: medium\">Member Variables</th>\n",
    "        <th style=\"text-align: left; font-size: medium\">Description</th style=\"text-align: left\">\n",
    "    </tr>\n",
    "    <tr>\n",
    "        <th style=\"text-align: left\"><span style=\"color:rgb(201,152,4);font-family:monospace\">uuid</span></th>\n",
    "        <th style=\"text-align: left\"><span style=\"font-weight: normal\">A dictionary that stores the UUIDs of the various characteristics specified in <em>connection.yaml</em>.</span></th>\n",
    "    </tr>\n",
    "</table>"
   ]
  },
  {
   "cell_type": "markdown",
   "metadata": {},
   "source": [
    "## Configuration\n",
    "- The MAC address, Service UUID and GATT characteristic UUIDs are defined in the file: *connection.yaml*.\n",
    "- They should match the UUIDs used in the Arduino sketch.\n",
    "- The artemis board running the base code should display its MAC address in the serial monitor.\n",
    "- Update the **artemis_address** in *connection.yaml*, accordingly.\n",
    "- Make sure to call **ble.reload_config()** or **get_ble_controller()** (which internally calls **reload_config()**) after making any changes to your configuration file.\n",
    "\n",
    "<hr>"
   ]
  },
  {
   "cell_type": "markdown",
   "metadata": {},
   "source": [
    "In the below cell, we create an **ArtemisBLEController** object using **get_ble_controller()** (defined in *ble.py*), which creates and/or returns a single instance of **ArtemisBLEController**. <br>\n",
    "<span style=\"color:rgb(240,50,50)\"> __NOTE__: Do not use the class directly to instantiate an object. </span><br>"
   ]
  },
  {
   "cell_type": "code",
   "execution_count": null,
   "metadata": {},
   "outputs": [],
   "source": [
    "# Get ArtemisBLEController object\n",
    "ble = get_ble_controller()\n",
    "\n",
    "# Connect to the Artemis Device\n",
    "ble.connect()"
   ]
  },
  {
   "cell_type": "markdown",
   "metadata": {},
   "source": [
    "## Receive data from the Artemis board"
   ]
  },
  {
   "cell_type": "markdown",
   "metadata": {},
   "source": [
    "The cell below shows examples of reading different types (as defined in the Arduino sketch) of GATT characteristics."
   ]
  },
  {
   "cell_type": "code",
   "execution_count": null,
   "metadata": {},
   "outputs": [],
   "source": [
    "# Read a float GATT Charactersistic\n",
    "f = ble.receive_float(ble.uuid['RX_FLOAT'])\n",
    "print(f)"
   ]
  },
  {
   "cell_type": "code",
   "execution_count": null,
   "metadata": {},
   "outputs": [],
   "source": [
    "# Read a string GATT Charactersistic\n",
    "s = ble.receive_string(ble.uuid['RX_STRING'])\n",
    "print(s)"
   ]
  },
  {
   "cell_type": "markdown",
   "metadata": {},
   "source": [
    "## Send a command to the Artemis board\n",
    "Send the PING command and read the reply string from the string characteristic RX_STRING. <br>\n",
    "__NOTE__: The **send_command()** essentially sends a string data to the GATT characteristic (TX_CMD_STRING). The GATT characteristic in the Arduino sketch is of type BLECStringCharacteristic."
   ]
  },
  {
   "cell_type": "code",
   "execution_count": null,
   "metadata": {},
   "outputs": [],
   "source": [
    "ble.send_command(CMD.PING, \"\")"
   ]
  },
  {
   "cell_type": "code",
   "execution_count": null,
   "metadata": {},
   "outputs": [],
   "source": [
    "s = ble.receive_string(ble.uuid['RX_STRING'])\n",
    "print(s)"
   ]
  },
  {
   "cell_type": "markdown",
   "metadata": {},
   "source": [
    "The cell below shows an example of the SEND_TWO_INTS command. <br> The two values in the **data** are separated by a delimiter \"|\". <br>\n",
    "Refer Lab 2 documentation for more information on the command protocol."
   ]
  },
  {
   "cell_type": "code",
   "execution_count": null,
   "metadata": {},
   "outputs": [],
   "source": [
    "ble.send_command(CMD.SEND_TWO_INTS, \"2|-6\")"
   ]
  },
  {
   "cell_type": "markdown",
   "metadata": {},
   "source": [
    "The Artemis board should print the two integers to the serial monitor in the ArduinoIDE. "
   ]
  },
  {
   "cell_type": "markdown",
   "metadata": {},
   "source": [
    "## Disconnect"
   ]
  },
  {
   "cell_type": "code",
   "execution_count": null,
   "metadata": {
    "tags": []
   },
   "outputs": [],
   "source": [
    "# Disconnect\n",
    "ble.disconnect()"
   ]
  },
  {
   "cell_type": "markdown",
   "metadata": {},
   "source": [
    "# Lab"
   ]
  },
  {
   "cell_type": "markdown",
   "metadata": {},
   "source": [
    "## Imports"
   ]
  },
  {
   "cell_type": "code",
   "execution_count": null,
   "metadata": {},
   "outputs": [],
   "source": [
    "%load_ext autoreload\n",
    "%autoreload 2\n",
    "\n",
    "from ble import get_ble_controller\n",
    "from base_ble import LOG\n",
    "from cmd_types import CMD\n",
    "import time\n",
    "import numpy as np\n",
    "\n",
    "LOG.propagate = False"
   ]
  },
  {
   "cell_type": "markdown",
   "metadata": {
    "tags": []
   },
   "source": [
    "## Connect"
   ]
  },
  {
   "cell_type": "code",
   "execution_count": null,
   "metadata": {},
   "outputs": [],
   "source": [
    "# Get ArtemisBLEController object\n",
    "ble = get_ble_controller()\n",
    "\n",
    "# Connect to the Artemis Device\n",
    "ble.connect()"
   ]
  },
  {
   "cell_type": "markdown",
   "metadata": {},
   "source": [
    "## Task 1"
   ]
  },
  {
   "cell_type": "code",
   "execution_count": null,
   "metadata": {},
   "outputs": [],
   "source": [
    "ble.send_command(CMD.ECHO, \"QUACK!\")"
   ]
  },
  {
   "cell_type": "code",
   "execution_count": null,
   "metadata": {},
   "outputs": [],
   "source": [
    "echo = ble.receive_string(ble.uuid['RX_STRING'])\n",
    "print(echo)"
   ]
  },
  {
   "cell_type": "markdown",
   "metadata": {},
   "source": [
    "## Task 2"
   ]
  },
  {
   "cell_type": "code",
   "execution_count": null,
   "metadata": {},
   "outputs": [],
   "source": [
    "ble.send_command(CMD.GET_TIME_MILLIS, \"\")"
   ]
  },
  {
   "cell_type": "code",
   "execution_count": null,
   "metadata": {},
   "outputs": [],
   "source": [
    "millis = ble.receive_string(ble.uuid['RX_STRING'])\n",
    "print(millis)"
   ]
  },
  {
   "cell_type": "markdown",
   "metadata": {},
   "source": [
    "## Task 3"
   ]
  },
  {
   "cell_type": "code",
   "execution_count": null,
   "metadata": {},
   "outputs": [],
   "source": [
    "time = 0\n",
    "\n",
    "def str_notify_handler(uuid, byte_array):\n",
    "    global time\n",
    "    byte_array = ble.bytearray_to_string(byte_array)\n",
    "    time = byte_array[2:]\n",
    "    time = int(time)\n",
    "    print(\"Time:\", time, \"ms\")"
   ]
  },
  {
   "cell_type": "code",
   "execution_count": null,
   "metadata": {},
   "outputs": [],
   "source": [
    "ble.start_notify(ble.uuid['RX_STRING'], str_notify_handler)"
   ]
  },
  {
   "cell_type": "code",
   "execution_count": null,
   "metadata": {},
   "outputs": [],
   "source": [
    "ble.stop_notify(ble.uuid['RX_STRING'])"
   ]
  },
  {
   "cell_type": "markdown",
   "metadata": {},
   "source": [
    "## Task 4"
   ]
  },
  {
   "cell_type": "code",
   "execution_count": null,
   "metadata": {},
   "outputs": [],
   "source": [
    "times = []\n",
    "temps = []\n",
    "\n",
    "def str_notify_handler(uuid, byte_array):\n",
    "    lst = []\n",
    "    global times\n",
    "    global temps\n",
    "    byte_array = ble.bytearray_to_string(byte_array)\n",
    "\n",
    "    while(True):\n",
    "        try:\n",
    "            index = byte_array.index('|')\n",
    "            lst.append(byte_array[:index])\n",
    "            byte_array = byte_array[index+1:]\n",
    "        except:\n",
    "            lst.append(byte_array)\n",
    "            break\n",
    "\n",
    "    for i in range(len(lst)):\n",
    "        if i%2 == 0:\n",
    "            times.append(lst[i][2:])\n",
    "        else:\n",
    "            temps.append(lst[i][2:])\n",
    "\n",
    "    print(\"Time(ms)    \", \"Temperature(C)\")\n",
    "    for i in range(len(times)):\n",
    "        print(times[i], \"      \", temps[i])"
   ]
  },
  {
   "cell_type": "code",
   "execution_count": null,
   "metadata": {},
   "outputs": [],
   "source": [
    "ble.start_notify(ble.uuid['RX_STRING'], str_notify_handler)"
   ]
  },
  {
   "cell_type": "code",
   "execution_count": null,
   "metadata": {},
   "outputs": [],
   "source": [
    "ble.stop_notify(ble.uuid['RX_STRING'])"
   ]
  },
  {
   "cell_type": "code",
   "execution_count": null,
   "metadata": {},
   "outputs": [],
   "source": [
    "ble.send_command(CMD.GET_TEMP_5s, \"\")"
   ]
  },
  {
   "cell_type": "markdown",
   "metadata": {},
   "source": [
    "## Task 5"
   ]
  },
  {
   "cell_type": "code",
   "execution_count": null,
   "metadata": {},
   "outputs": [],
   "source": [
    "lst = []\n",
    "def str_notify_handler(uuid, byte_array):\n",
    "    global times\n",
    "    global temps\n",
    "    global lst\n",
    "    data = ble.bytearray_to_string(byte_array)\n",
    "    \n",
    "    while(True):\n",
    "        try:\n",
    "            index = data.index('|')\n",
    "            lst.append(data[:index])\n",
    "            data = data[index+1:]\n",
    "        except:\n",
    "            #lst.append(data)\n",
    "            break\n",
    "\n",
    "    #print(\"5s of temperature readings stored in temps list.\")"
   ]
  },
  {
   "cell_type": "code",
   "execution_count": null,
   "metadata": {},
   "outputs": [],
   "source": [
    "ble.start_notify(ble.uuid['RX_STRING'], str_notify_handler)"
   ]
  },
  {
   "cell_type": "code",
   "execution_count": null,
   "metadata": {},
   "outputs": [],
   "source": [
    "ble.stop_notify(ble.uuid['RX_STRING'])"
   ]
  },
  {
   "cell_type": "code",
   "execution_count": null,
   "metadata": {},
   "outputs": [],
   "source": [
    "ble.send_command(CMD.GET_TEMP_5s_RAPID, \"\")"
   ]
  },
  {
   "cell_type": "code",
   "execution_count": null,
   "metadata": {},
   "outputs": [],
   "source": [
    "times = []\n",
    "temps = []\n",
    "\n",
    "for i in range(len(lst)):\n",
    "    if i%2 == 0:\n",
    "        times.append(lst[i][2:])\n",
    "    else:\n",
    "        temps.append(lst[i][2:])\n",
    "\n",
    "print(\"Time(ms)    \", \"Temperature(C)\")\n",
    "for i in range(len(times)):\n",
    "    print(times[i], \"      \", temps[i])\n",
    "# print(lst)\n",
    "# print(times)\n",
    "# print(temps)\n",
    "print(\"Total # of temperature measurements taken:\", len(temps))"
   ]
  },
  {
   "cell_type": "markdown",
   "metadata": {},
   "source": [
    "## Lab 3 Task 9"
   ]
  },
  {
   "cell_type": "code",
   "execution_count": null,
   "metadata": {},
   "outputs": [],
   "source": [
    "import numpy as np\n",
    "lst = []\n",
    "means = np.zeros(15)\n",
    "stdevs = np.zeros(15)\n",
    "def str_notify_handler(uuid, byte_array):\n",
    "    global lst\n",
    "    data = ble.bytearray_to_string(byte_array)\n",
    "    print(data)\n",
    "    \n",
    "    while(True):\n",
    "        try:\n",
    "            index = data.index('|')\n",
    "            lst.append(data[:index])\n",
    "            data = data[index+1:]\n",
    "        except:\n",
    "            break"
   ]
  },
  {
   "cell_type": "code",
   "execution_count": null,
   "metadata": {},
   "outputs": [],
   "source": [
    "ble.start_notify(ble.uuid['RX_STRING'], str_notify_handler)"
   ]
  },
  {
   "cell_type": "code",
   "execution_count": null,
   "metadata": {},
   "outputs": [],
   "source": [
    "ble.stop_notify(ble.uuid['RX_STRING'])"
   ]
  },
  {
   "cell_type": "code",
   "execution_count": null,
   "metadata": {},
   "outputs": [],
   "source": [
    "ble.send_command(CMD.GET_DIST, \"5000\")"
   ]
  },
  {
   "cell_type": "code",
   "execution_count": null,
   "metadata": {},
   "outputs": [],
   "source": [
    "import statistics as stat\n",
    "times = []\n",
    "dist1 = []\n",
    "dist2 = []\n",
    "\n",
    "counter = 0\n",
    "for i in range(len(lst)):\n",
    "    if counter == 0:\n",
    "        times.append(int(lst[i][2:]))\n",
    "    elif counter == 1:\n",
    "        dist1.append(int(lst[i][3:]))\n",
    "    elif counter == 2:\n",
    "        dist2.append(int(lst[i][3:]))\n",
    "    counter += 1\n",
    "    counter = counter % 3\n",
    "\n",
    "print(\"Time(ms)    \", \"Distance 1(cm)    \", \"Distance 2(cm)    \")\n",
    "for i in range(len(times)):\n",
    "    print(times[i], \"      \", dist1[i], \"              \", dist2[i])\n",
    "\n",
    "print(\"Average distances: \", stat.mean(dist1), \"              \", stat.mean(dist2))\n",
    "print(\"Standard deviations: \", stat.stdev(dist1), \"              \", stat.stdev(dist2))\n",
    "\n",
    "index = 1 # CHANGE THIS for each distance\n",
    "means[index-1] = stat.mean(dist2)\n",
    "stdevs[index-1] = stat.stdev(dist2)\n",
    "print(means)\n",
    "print(stdevs)\n",
    "lst = []"
   ]
  },
  {
   "cell_type": "code",
   "execution_count": null,
   "metadata": {},
   "outputs": [],
   "source": [
    "savemeans = means\n",
    "savestdevs = stdevs"
   ]
  },
  {
   "cell_type": "code",
   "execution_count": null,
   "metadata": {},
   "outputs": [],
   "source": [
    "real_distances = [2,4,6,8,10,12,14,16,18,20,22,24,26,28,30]\n",
    "plt.plot(real_distances, means, label = 'Mean sensor reading')\n",
    "plt.plot(real_distances, stdevs, label = 'Standard deviation')\n",
    "plt.xlabel('Actual Distance(cm)')\n",
    "plt.ylabel('Sensor Distance(cm)')\n",
    "plt.legend()\n",
    "plt.show()"
   ]
  },
  {
   "cell_type": "code",
   "execution_count": null,
   "metadata": {},
   "outputs": [],
   "source": [
    "pip install matplotlib"
   ]
  },
  {
   "cell_type": "code",
   "execution_count": null,
   "metadata": {},
   "outputs": [],
   "source": [
    "import matplotlib.pyplot as plt\n",
    "plt.plot(times, dist1)\n",
    "plt.plot(times, dist2)\n",
    "plt.xlabel('Time(ms)')\n",
    "plt.ylabel('Distance(cm)')\n",
    "plt.show()"
   ]
  },
  {
   "cell_type": "markdown",
   "metadata": {},
   "source": [
    "### Imports and connect to BLE again for convenience"
   ]
  },
  {
   "cell_type": "code",
   "execution_count": null,
   "metadata": {},
   "outputs": [],
   "source": [
    "%load_ext autoreload\n",
    "%autoreload 2\n",
    "\n",
    "from ble import get_ble_controller\n",
    "from base_ble import LOG\n",
    "from cmd_types import CMD\n",
    "import time\n",
    "import numpy as np\n",
    "\n",
    "LOG.propagate = False"
   ]
  },
  {
   "cell_type": "code",
   "execution_count": null,
   "metadata": {},
   "outputs": [],
   "source": [
    "# Get ArtemisBLEController object\n",
    "ble = get_ble_controller()\n",
    "\n",
    "# Connect to the Artemis Device\n",
    "ble.connect()"
   ]
  },
  {
   "cell_type": "markdown",
   "metadata": {},
   "source": [
    "## Lab 4"
   ]
  },
  {
   "cell_type": "markdown",
   "metadata": {},
   "source": [
    "### IMU only"
   ]
  },
  {
   "cell_type": "code",
   "execution_count": null,
   "metadata": {},
   "outputs": [],
   "source": [
    "import numpy as np\n",
    "lst = []\n",
    "def str_notify_handler(uuid, byte_array):\n",
    "    global lst\n",
    "    data = ble.bytearray_to_string(byte_array)\n",
    "    print(data)\n",
    "    \n",
    "    while(True):\n",
    "        try:\n",
    "            index = data.index('|')\n",
    "            lst.append(data[:index])\n",
    "            data = data[index+1:]\n",
    "        except:\n",
    "            break"
   ]
  },
  {
   "cell_type": "code",
   "execution_count": null,
   "metadata": {},
   "outputs": [],
   "source": [
    "ble.start_notify(ble.uuid['RX_STRING'], str_notify_handler)"
   ]
  },
  {
   "cell_type": "code",
   "execution_count": null,
   "metadata": {},
   "outputs": [],
   "source": [
    "ble.stop_notify(ble.uuid['RX_STRING'])"
   ]
  },
  {
   "cell_type": "code",
   "execution_count": null,
   "metadata": {},
   "outputs": [],
   "source": [
    "ble.send_command(CMD.GET_IMU, \"5000\")"
   ]
  },
  {
   "cell_type": "code",
   "execution_count": null,
   "metadata": {},
   "outputs": [],
   "source": [
    "import statistics as stat\n",
    "times = []\n",
    "pitch = []\n",
    "roll = []\n",
    "yaw = []\n",
    "\n",
    "counter = 0\n",
    "for i in range(len(lst)):\n",
    "    if counter == 0:\n",
    "        times.append(float(lst[i][2:]))\n",
    "    elif counter == 1:\n",
    "        pitch.append(float(lst[i][2:]))\n",
    "    elif counter == 2:\n",
    "        roll.append(float(lst[i][2:]))\n",
    "    elif counter == 3:\n",
    "        yaw.append(float(lst[i][2:]))\n",
    "    counter += 1\n",
    "    counter = counter % 4\n",
    "\n",
    "print(\"Time(ms)      \", \"Pitch          \", \"Roll            \", \"Yaw      \")\n",
    "for i in range(len(times)):\n",
    "    print(times[i], \"      \", pitch[i], \"        \", roll[i], \"        \", yaw[i])"
   ]
  },
  {
   "cell_type": "markdown",
   "metadata": {},
   "source": [
    "### TOF & IMU"
   ]
  },
  {
   "cell_type": "code",
   "execution_count": null,
   "metadata": {},
   "outputs": [],
   "source": [
    "import numpy as np\n",
    "tof = []\n",
    "imu = []\n",
    "def str_notify_handler(uuid, byte_array):\n",
    "    global tof\n",
    "    global imu\n",
    "    data = ble.bytearray_to_string(byte_array)\n",
    "    print(data)\n",
    "    \n",
    "    if (int(data[0]) == 1): #TOF data\n",
    "        while(True):\n",
    "            try:\n",
    "                data = data[1:]\n",
    "                index = data.index('|')\n",
    "                tof.append(data[:index])\n",
    "                data = data[index+1:]\n",
    "            except:\n",
    "                break\n",
    "    elif (int(data[0]) == 2): #IMU data\n",
    "        while(True):\n",
    "            try:\n",
    "                data = data[1:]\n",
    "                index = data.index('|')\n",
    "                imu.append(data[:index])\n",
    "                data = data[index+1:]\n",
    "            except:\n",
    "                break\n",
    "    else:\n",
    "        print(\"Data is not classified as TOF or IMU\")"
   ]
  },
  {
   "cell_type": "code",
   "execution_count": null,
   "metadata": {},
   "outputs": [],
   "source": [
    "ble.start_notify(ble.uuid['RX_STRING'], str_notify_handler)"
   ]
  },
  {
   "cell_type": "code",
   "execution_count": null,
   "metadata": {},
   "outputs": [],
   "source": [
    "ble.stop_notify(ble.uuid['RX_STRING'])"
   ]
  },
  {
   "cell_type": "code",
   "execution_count": null,
   "metadata": {},
   "outputs": [],
   "source": [
    "ble.send_command(CMD.GET_TOF_IMU, \"5000\")"
   ]
  },
  {
   "cell_type": "code",
   "execution_count": null,
   "metadata": {},
   "outputs": [],
   "source": [
    "print(imu)"
   ]
  },
  {
   "cell_type": "code",
   "execution_count": null,
   "metadata": {},
   "outputs": [],
   "source": [
    "import statistics as stat\n",
    "times = []\n",
    "pitch = []\n",
    "roll = []\n",
    "yaw = []\n",
    "\n",
    "counter = 0\n",
    "for i in range(len(imu)):\n",
    "    if counter == 0:\n",
    "        times.append(float(imu[i][2:]))\n",
    "    elif counter == 1:\n",
    "        pitch.append(float(imu[i][1:]))\n",
    "    elif counter == 2:\n",
    "        roll.append(float(imu[i][1:]))\n",
    "    elif counter == 3:\n",
    "        yaw.append(float(imu[i]))\n",
    "    counter += 1\n",
    "    counter = counter % 4\n",
    "\n",
    "print(\"Time(ms)      \", \"Pitch          \", \"Roll            \", \"Yaw      \")\n",
    "for i in range(len(times)):\n",
    "    print(times[i], \"      \", pitch[i], \"        \", roll[i], \"        \", yaw[i])"
   ]
  },
  {
   "cell_type": "code",
   "execution_count": null,
   "metadata": {},
   "outputs": [],
   "source": [
    "print(tof)"
   ]
  },
  {
   "cell_type": "code",
   "execution_count": null,
   "metadata": {},
   "outputs": [],
   "source": [
    "import statistics as stat\n",
    "dist_times = []\n",
    "dist1 = []\n",
    "dist2 = []\n",
    "\n",
    "counter = 0\n",
    "for i in range(len(tof)):\n",
    "    if counter == 0:\n",
    "        dist_times.append(int(tof[i][2:]))\n",
    "    elif counter == 1:\n",
    "        dist1.append(int(tof[i][2:]))\n",
    "    elif counter == 2:\n",
    "        dist2.append(int(tof[i][2:]))\n",
    "    counter += 1\n",
    "    counter = counter % 3\n",
    "\n",
    "print(\"Time(ms)    \", \"Distance 1(cm)    \", \"Distance 2(cm)    \")\n",
    "for i in range(len(dist_times)):\n",
    "    print(dist_times[i], \"      \", dist1[i], \"              \", dist2[i])"
   ]
  },
  {
   "cell_type": "code",
   "execution_count": null,
   "metadata": {},
   "outputs": [],
   "source": [
    "import matplotlib.pyplot as plt\n",
    "plt.plot(dist1)\n",
    "plt.plot(dist2)\n",
    "plt.xlabel('Time')\n",
    "plt.ylabel('Distance(cm)')\n",
    "plt.show()"
   ]
  },
  {
   "cell_type": "code",
   "execution_count": null,
   "metadata": {},
   "outputs": [],
   "source": [
    "plt.plot(pitch, label = 'pitch')\n",
    "plt.plot(roll, label = 'roll')\n",
    "plt.xlabel('Time')\n",
    "plt.legend()\n",
    "plt.show()"
   ]
  },
  {
   "cell_type": "markdown",
   "metadata": {},
   "source": [
    "## Lab 6 - Motors"
   ]
  },
  {
   "cell_type": "markdown",
   "metadata": {},
   "source": [
    "### Imports and connect to BLE again for convenience"
   ]
  },
  {
   "cell_type": "code",
   "execution_count": null,
   "metadata": {},
   "outputs": [],
   "source": [
    "%load_ext autoreload\n",
    "%autoreload 2\n",
    "\n",
    "from ble import get_ble_controller\n",
    "from base_ble import LOG\n",
    "from cmd_types import CMD\n",
    "import time\n",
    "import numpy as np\n",
    "\n",
    "LOG.propagate = False"
   ]
  },
  {
   "cell_type": "code",
   "execution_count": 439,
   "metadata": {},
   "outputs": [
    {
     "name": "stdout",
     "output_type": "stream",
     "text": [
      "2023-03-22 01:04:48,055 |\u001b[32m INFO     \u001b[0m|: Looking for Artemis Nano Peripheral Device: c0:83:24:6a:9a:3c\n",
      "2023-03-22 01:04:50,877 |\u001b[32m INFO     \u001b[0m|: Connected to c0:83:24:6a:9a:3c\n"
     ]
    }
   ],
   "source": [
    "# Get ArtemisBLEController object\n",
    "ble = get_ble_controller()\n",
    "\n",
    "# Connect to the Artemis Device\n",
    "ble.connect()"
   ]
  },
  {
   "cell_type": "code",
   "execution_count": 443,
   "metadata": {},
   "outputs": [
    {
     "name": "stdout",
     "output_type": "stream",
     "text": [
      "2023-03-22 01:05:11,030 |\u001b[32m INFO     \u001b[0m|: Disconnected from 3E8FB54A-DE75-5568-901D-E91E2BD0E736\n"
     ]
    }
   ],
   "source": [
    "# Disconnect\n",
    "ble.disconnect()"
   ]
  },
  {
   "cell_type": "code",
   "execution_count": 440,
   "metadata": {},
   "outputs": [],
   "source": [
    "tof_times = []\n",
    "tof_data = []\n",
    "speed_data = []\n",
    "\n",
    "def str_notify_handler(uuid, byte_array):\n",
    "    global lst\n",
    "    # print(byte_array)\n",
    "    data = ble.bytearray_to_string(byte_array)\n",
    "    # print(data)\n",
    "    \n",
    "    tof_times.append(int(data[1 : data.index(',')]))\n",
    "    data = data[data.index(',')+1:]\n",
    "    tof_data.append(int(data[:data.index(',')]))\n",
    "    data = data[data.index(',')+1:]\n",
    "    speed_data.append(int(data[:-1]))"
   ]
  },
  {
   "cell_type": "code",
   "execution_count": 441,
   "metadata": {},
   "outputs": [],
   "source": [
    "ble.start_notify(ble.uuid['RX_STRING'], str_notify_handler)"
   ]
  },
  {
   "cell_type": "code",
   "execution_count": null,
   "metadata": {},
   "outputs": [],
   "source": [
    "# Possible strings for SEND_PWM:\n",
    "\n",
    "# F + pwm, B + pwm, R + pwm, L + pwm, S000 (pwm must be 3 digits)\n",
    "ble.send_command(CMD.SEND_PWM, \"F120\")"
   ]
  },
  {
   "cell_type": "code",
   "execution_count": null,
   "metadata": {},
   "outputs": [],
   "source": [
    "ble.send_command(CMD.SEND_PWM, \"S000\")"
   ]
  },
  {
   "cell_type": "code",
   "execution_count": null,
   "metadata": {},
   "outputs": [],
   "source": [
    "ble.send_command(CMD.SEND_PWM, \"B0200\")"
   ]
  },
  {
   "cell_type": "code",
   "execution_count": 442,
   "metadata": {},
   "outputs": [],
   "source": [
    "ble.send_command(CMD.SEND_DATA, \"\")"
   ]
  },
  {
   "cell_type": "code",
   "execution_count": null,
   "metadata": {},
   "outputs": [],
   "source": [
    "msg = ble.receive_string(ble.uuid['RX_STRING'])\n",
    "print(msg)"
   ]
  },
  {
   "cell_type": "code",
   "execution_count": 444,
   "metadata": {},
   "outputs": [],
   "source": [
    "save_times = tof_times\n",
    "save_tof = tof_data\n",
    "save_speed = speed_data"
   ]
  },
  {
   "cell_type": "code",
   "execution_count": 447,
   "metadata": {},
   "outputs": [
    {
     "data": {
      "text/plain": [
       "Text(0.5, 1.0, 'Time of Flight Distance Data (mm) vs Time(ms)')"
      ]
     },
     "execution_count": 447,
     "metadata": {},
     "output_type": "execute_result"
    },
    {
     "data": {
      "image/png": "[encoded data removed]",
      "text/plain": [
       "<Figure size 640x480 with 1 Axes>"
      ]
     },
     "metadata": {},
     "output_type": "display_data"
    }
   ],
   "source": [
    "from matplotlib import pyplot as plt\n",
    "plt.plot(tof_times, tof_data)\n",
    "plt.title(\"Time of Flight Distance Data (mm) vs Time(ms)\")"
   ]
  },
  {
   "cell_type": "code",
   "execution_count": 448,
   "metadata": {},
   "outputs": [
    {
     "data": {
      "text/plain": [
       "Text(0.5, 1.0, 'PWM vs Time(ms)')"
      ]
     },
     "execution_count": 448,
     "metadata": {},
     "output_type": "execute_result"
    },
    {
     "data": {
      "image/png": "[encoded data removed]",
      "text/plain": [
       "<Figure size 640x480 with 1 Axes>"
      ]
     },
     "metadata": {},
     "output_type": "display_data"
    }
   ],
   "source": [
    "from matplotlib import pyplot as plt\n",
    "plt.plot(tof_times, speed_data)\n",
    "plt.title(\"PWM vs Time(ms)\")"
   ]
  },
  {
   "cell_type": "code",
   "execution_count": 415,
   "metadata": {},
   "outputs": [
    {
     "data": {
      "text/plain": [
       "[139,\n",
       " 82,\n",
       " 84,\n",
       " 86,\n",
       " 92,\n",
       " 86,\n",
       " 86,\n",
       " 84,\n",
       " 83,\n",
       " 83,\n",
       " 82,\n",
       " 82,\n",
       " 83,\n",
       " 82,\n",
       " 83,\n",
       " 82,\n",
       " 82,\n",
       " 82,\n",
       " 82,\n",
       " 84,\n",
       " 100,\n",
       " 112,\n",
       " 107,\n",
       " 109,\n",
       " 127,\n",
       " 149,\n",
       " 155,\n",
       " 154,\n",
       " 155,\n",
       " 153,\n",
       " 151,\n",
       " 152,\n",
       " 152,\n",
       " 154,\n",
       " 149,\n",
       " 118,\n",
       " 113,\n",
       " 111,\n",
       " 126,\n",
       " 150,\n",
       " 150,\n",
       " 146,\n",
       " 142,\n",
       " 143,\n",
       " 128,\n",
       " 120,\n",
       " 113,\n",
       " 124,\n",
       " 138,\n",
       " 140,\n",
       " 142,\n",
       " 142,\n",
       " 115,\n",
       " 124,\n",
       " 113,\n",
       " 118,\n",
       " 125,\n",
       " 142,\n",
       " 148,\n",
       " 149,\n",
       " 147,\n",
       " 138,\n",
       " 131,\n",
       " 116,\n",
       " 108,\n",
       " 102,\n",
       " 97,\n",
       " 102,\n",
       " 152,\n",
       " 159,\n",
       " 156,\n",
       " 152,\n",
       " 148,\n",
       " 144,\n",
       " 136,\n",
       " 128,\n",
       " 95,\n",
       " 40,\n",
       " 40,\n",
       " 0,\n",
       " 0,\n",
       " 0,\n",
       " 109,\n",
       " 106,\n",
       " 104,\n",
       " 103,\n",
       " 99,\n",
       " 91,\n",
       " 83,\n",
       " 79,\n",
       " 71,\n",
       " 66,\n",
       " 61,\n",
       " 52,\n",
       " 45,\n",
       " 44,\n",
       " 40,\n",
       " 40,\n",
       " 40,\n",
       " 40,\n",
       " 40,\n",
       " 40,\n",
       " 40,\n",
       " 0,\n",
       " 0,\n",
       " 0,\n",
       " 0,\n",
       " 0,\n",
       " 0,\n",
       " 0,\n",
       " 0,\n",
       " 0,\n",
       " 0,\n",
       " 0,\n",
       " 0,\n",
       " 0,\n",
       " 0,\n",
       " 0,\n",
       " 0,\n",
       " 0,\n",
       " 0,\n",
       " 0,\n",
       " 0,\n",
       " 0]"
      ]
     },
     "execution_count": 415,
     "metadata": {},
     "output_type": "execute_result"
    }
   ],
   "source": [
    "speed_data"
   ]
  },
  {
   "cell_type": "code",
   "execution_count": 420,
   "metadata": {},
   "outputs": [
    {
     "name": "stdout",
     "output_type": "stream",
     "text": [
      "Collecting scipy\n",
      "  Downloading scipy-1.10.1-cp39-cp39-macosx_10_9_x86_64.whl (35.2 MB)\n",
      "\u001b[K     |████████████████████████████████| 35.2 MB 348 kB/s eta 0:00:01\n",
      "\u001b[?25hRequirement already satisfied: numpy<1.27.0,>=1.19.5 in /Users/tiffanyguo/Desktop/ECE4160/FastRobots_ble/lib/python3.9/site-packages (from scipy) (1.24.1)\n",
      "Installing collected packages: scipy\n",
      "Successfully installed scipy-1.10.1\n",
      "\u001b[33mWARNING: You are using pip version 21.2.4; however, version 23.0.1 is available.\n",
      "You should consider upgrading via the '/Users/tiffanyguo/Desktop/ECE4160/FastRobots_ble/bin/python3 -m pip install --upgrade pip' command.\u001b[0m\n"
     ]
    }
   ],
   "source": [
    "import sys\n",
    "!{sys.executable} -m pip install scipy"
   ]
  },
  {
   "cell_type": "code",
   "execution_count": 432,
   "metadata": {},
   "outputs": [],
   "source": [
    "import scipy\n",
    "import statistics\n",
    "tof_data = save_tof\n",
    "speed_data = save_sspeed\n",
    "avg_data = []\n",
    "avg_speed = []\n",
    "for i in range(len(tof_data)-5):\n",
    "    avg_data.append(statistics.mean(tof_data[i:i+5]))\n",
    "    avg_speed.append(statistics.mean(speed_data[i:i+5]))"
   ]
  },
  {
   "cell_type": "code",
   "execution_count": null,
   "metadata": {},
   "outputs": [],
   "source": []
  }
 ],
 "metadata": {
  "kernelspec": {
   "display_name": "Python 3 (ipykernel)",
   "language": "python",
   "name": "python3"
  },
  "language_info": {
   "codemirror_mode": {
    "name": "ipython",
    "version": 3
   },
   "file_extension": ".py",
   "mimetype": "text/x-python",
   "name": "python",
   "nbconvert_exporter": "python",
   "pygments_lexer": "ipython3",
   "version": "3.9.10"
  }
 },
 "nbformat": 4,
 "nbformat_minor": 4
}
