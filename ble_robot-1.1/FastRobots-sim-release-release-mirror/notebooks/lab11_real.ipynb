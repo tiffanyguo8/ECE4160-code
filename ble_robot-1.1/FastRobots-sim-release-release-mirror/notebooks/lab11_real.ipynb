{
 "cells": [
  {
   "cell_type": "markdown",
   "metadata": {
    "tags": []
   },
   "source": [
    "# Lab 11: Grid Localization using Bayes Filter (Real Robot)\n",
    "\n",
    "### <span style=\"color:rgb(0,150,0)\">It is recommended that you close any heavy-duty applications running on your system while working on this lab.</span>\n",
    "\n",
    "### <span style=\"color:rgb(0,150,0)\">The notebook only provides skeleton code for you to integrate the Localization class with the Real Robot.</span>\n",
    "\n",
    "<hr>"
   ]
  },
  {
   "cell_type": "code",
   "execution_count": 1,
   "metadata": {},
   "outputs": [
    {
     "name": "stdout",
     "output_type": "stream",
     "text": [
      "2023-05-11 16:26:00,334 |\u001b[32m INFO     \u001b[0m|: Logger demo_notebook.log initialized.\n"
     ]
    }
   ],
   "source": [
    "%load_ext autoreload\n",
    "%autoreload 2\n",
    "\n",
    "import traceback\n",
    "from notebook_utils import *\n",
    "from Traj import *\n",
    "import asyncio\n",
    "import pathlib\n",
    "import os\n",
    "from utils import load_config_params\n",
    "from localization_extras import Localization\n",
    "\n",
    "# The imports below will only work if you copied the required ble-related python files \n",
    "# into the notebooks directory\n",
    "from ble import get_ble_controller\n",
    "from base_ble import LOG\n",
    "from cmd_types import CMD\n",
    "import numpy as np\n",
    "import time\n",
    "\n",
    "# Setup Logger\n",
    "LOG = get_logger('demo_notebook.log')\n",
    "LOG.propagate = False\n",
    "\n",
    "# Init GUI and Commander\n",
    "gui = GET_GUI()\n",
    "cmdr = gui.launcher.commander"
   ]
  },
  {
   "cell_type": "code",
   "execution_count": 2,
   "metadata": {},
   "outputs": [
    {
     "name": "stderr",
     "output_type": "stream",
     "text": [
      "qt.pointer.dispatch: skipping QEventPoint(id=1 ts=0 pos=0,0 scn=850.746,394.531 gbl=850.746,394.531 Released ellipse=(1x1 ∡ 0) vel=0,0 press=-850.746,-394.531 last=-850.746,-394.531 Δ 850.746,394.531) : no target window\n",
      "qt.pointer.dispatch: skipping QEventPoint(id=1 ts=0 pos=0,0 scn=860.304,394.577 gbl=860.304,394.577 Released ellipse=(1x1 ∡ 0) vel=0,0 press=-860.304,-394.577 last=-860.304,-394.577 Δ 860.304,394.577) : no target window\n",
      "qt.pointer.dispatch: skipping QEventPoint(id=1 ts=0 pos=0,0 scn=880.441,398.207 gbl=880.441,398.207 Released ellipse=(1x1 ∡ 0) vel=0,0 press=-880.441,-398.207 last=-880.441,-398.207 Δ 880.441,398.207) : no target window\n",
      "qt.pointer.dispatch: skipping QEventPoint(id=1 ts=0 pos=0,0 scn=917.086,405.42 gbl=917.086,405.42 Released ellipse=(1x1 ∡ 0) vel=0,0 press=-917.086,-405.42 last=-917.086,-405.42 Δ 917.086,405.42) : no target window\n",
      "qt.pointer.dispatch: skipping QEventPoint(id=1 ts=0 pos=0,0 scn=975.183,418.573 gbl=975.183,418.573 Released ellipse=(1x1 ∡ 0) vel=0,0 press=-975.183,-418.573 last=-975.183,-418.573 Δ 975.183,418.573) : no target window\n",
      "qt.pointer.dispatch: skipping QEventPoint(id=1 ts=0 pos=0,0 scn=1013.41,428.985 gbl=1013.41,428.985 Released ellipse=(1x1 ∡ 0) vel=0,0 press=-1013.41,-428.985 last=-1013.41,-428.985 Δ 1013.41,428.985) : no target window\n"
     ]
    }
   ],
   "source": [
    "# Start the plotter\n",
    "START_PLOTTER()"
   ]
  },
  {
   "cell_type": "markdown",
   "metadata": {},
   "source": [
    "# The RealRobot class\n",
    "Define the RealRobot class in the code cell below, based on the documentation and your real robot communication protocol. <br>\n",
    "This class is used by the **Localization** class to communicate with the real robot. <br>\n",
    "More specifically, the **Localization** class utilizes the **RealRobot's** member function **perform_observation_loop()** to get the 18 sensor readings and store them in its member variable **obs_range_data**, which is then utilized in the update step."
   ]
  },
  {
   "cell_type": "code",
   "execution_count": null,
   "metadata": {},
   "outputs": [],
   "source": [
    "# Disconnect\n",
    "ble.disconnect()"
   ]
  },
  {
   "cell_type": "code",
   "execution_count": 3,
   "metadata": {},
   "outputs": [
    {
     "name": "stdout",
     "output_type": "stream",
     "text": [
      "2023-05-11 16:27:44,675 |\u001b[32m INFO     \u001b[0m|: Looking for Artemis Nano Peripheral Device: c0:83:24:6a:9a:3c\n",
      "2023-05-11 16:27:47,578 |\u001b[32m INFO     \u001b[0m|: Connected to c0:83:24:6a:9a:3c\n"
     ]
    },
    {
     "name": "stderr",
     "output_type": "stream",
     "text": [
      "/Users/tiffanyguo/Desktop/ECE4160-code/ble_robot-1.1/FastRobots-sim-release-release-mirror/notebooks/base_ble.py:87: FutureWarning: This method will be removed future version, pass the callback to the BleakClient constructor instead.\n",
      "  self.client.set_disconnected_callback(self.disconnect_handler)\n"
     ]
    }
   ],
   "source": [
    "# Get ArtemisBLEController object\n",
    "ble = get_ble_controller()\n",
    "\n",
    "# Connect to the Artemis Device\n",
    "ble.connect()"
   ]
  },
  {
   "cell_type": "code",
   "execution_count": null,
   "metadata": {},
   "outputs": [],
   "source": [
    "[425, 534, 429, 384, 351, 368, 471, 817, 0, 296, 663, 583, 463, 161, 1073, 807, 609, 532]\n",
    "[902, 635, 436, 386, 360, 389, 500, 695, 649, 694, 751, 250, 2008, 1762, 414, 970, 341, 902]\n",
    "[469, 578, 897, 2286, 817, 908, 374, 451, 1179, 650, 404, 300, 277, 289, 346, 539, 595, 577]"
   ]
  },
  {
   "cell_type": "code",
   "execution_count": 4,
   "metadata": {},
   "outputs": [],
   "source": [
    "ble.send_command(CMD.PID, \"\")\n",
    "\n",
    "tof_times = []\n",
    "tof_data = []\n",
    "imu_data = []\n",
    "\n",
    "def str_notify_handler(uuid, byte_array):\n",
    "            global tof_times\n",
    "            global tof_data\n",
    "            global imu_data\n",
    "            # print(byte_array)\n",
    "            data = ble.bytearray_to_string(byte_array)\n",
    "            print(data)\n",
    "\n",
    "            tof_times.append(int(data[1 : data.index(',')]))\n",
    "            data = data[data.index(',')+1:]\n",
    "            tof_data.append(int(data[:data.index(',')]))\n",
    "            data = data[data.index(',')+1:]\n",
    "            imu_data.append(int(data[:-1]))\n",
    "    \n",
    "ble.start_notify(ble.uuid['RX_STRING'], str_notify_handler)"
   ]
  },
  {
   "cell_type": "code",
   "execution_count": null,
   "metadata": {},
   "outputs": [],
   "source": [
    "# ble.send_command(CMD.PID, \"\")\n",
    "\n",
    "# begin_time = time.time()\n",
    "# while(time.time() < begin_time + 55):\n",
    "#     #give time for robot to rotate 360 degrees and collect data\n",
    "#     pass\n",
    "\n",
    "ble.send_command(CMD.SEND_DATA, \"\")\n",
    "\n",
    "# print(tof_times)\n",
    "# print(tof_data)\n",
    "# print(imu_data)"
   ]
  },
  {
   "cell_type": "code",
   "execution_count": 17,
   "metadata": {},
   "outputs": [
    {
     "name": "stdout",
     "output_type": "stream",
     "text": [
      "0\n",
      "20\n",
      "41\n",
      "60\n",
      "80\n",
      "101\n",
      "120\n",
      "140\n",
      "160\n",
      "181\n",
      "200\n",
      "220\n",
      "241\n",
      "260\n",
      "280\n",
      "301\n",
      "320\n",
      "340\n"
     ]
    },
    {
     "data": {
      "text/plain": [
       "[<matplotlib.lines.Line2D at 0x1246820d0>]"
      ]
     },
     "execution_count": 17,
     "metadata": {},
     "output_type": "execute_result"
    },
    {
     "data": {
      "image/png": "[encoded data removed]",
      "text/plain": [
       "<Figure size 640x480 with 1 Axes>"
      ]
     },
     "metadata": {},
     "output_type": "display_data"
    },
    {
     "name": "stderr",
     "output_type": "stream",
     "text": [
      "qt.pointer.dispatch: skipping QEventPoint(id=2 ts=0 pos=0,0 scn=490.188,425.101 gbl=490.188,425.101 Released ellipse=(1x1 ∡ 0) vel=0,0 press=-490.188,-425.101 last=-490.188,-425.101 Δ 490.188,425.101) : no target window\n"
     ]
    }
   ],
   "source": [
    "from matplotlib import pyplot as plt\n",
    "# print(tof_times)\n",
    "# print(tof_data)\n",
    "# print(imu_data)\n",
    "# print(len(tof_times))\n",
    "# print(len(tof_data))\n",
    "# print(len(imu_data))\n",
    "#save_data = tof_data\n",
    "deg = [0,20,40,60,80,100,120,140,160,180,200,220,240,260,280,300,320,340]\n",
    "deg_idx = 0;\n",
    "map_data = []\n",
    "\n",
    "for index in range(len(imu_data)):\n",
    "    if((imu_data[index]-(imu_data[index]%10)) == deg[deg_idx]):\n",
    "        print(imu_data[index])\n",
    "        map_data.append(tof_data[index])\n",
    "        deg_idx += 1\n",
    "    if(deg_idx == 18):\n",
    "        break\n",
    "        \n",
    "while(deg_idx < 18):\n",
    "    map_data.append(tof_data[0])\n",
    "\n",
    "rad = []\n",
    "for i in deg:\n",
    "    rad.append(i*math.pi/180)\n",
    "# plt.polar(rad, map_data, '.')\n",
    "# plt.title(\"Map (0, 0)\")\n",
    "\n",
    "return_data = [1.716, 1.177, 0.635, 0.485, 0.451, 0.475, 0.56, 0.76, 0.733, 0.701, 0.751, 0.877, 1.166, 1.447, 1.465, 0.678, 0.898, 0.846]\n",
    "plt.polar(rad, return_data, '.')"
   ]
  },
  {
   "cell_type": "code",
   "execution_count": 189,
   "metadata": {},
   "outputs": [],
   "source": [
    "#tof_data = [1955, 752, 150, 435, 463, 580, 812, 700, 650, 706, 750, 1160, 2421, 1987, 2268, 1359, 949, 2029, 2000]\n",
    "#[1955, 752, 150, 435, 463, 580, 812, 700, 650, 706, 750, 1160, 2421, 1987, 2268, 1359, 949, 2029, 2000]\n",
    "#[1955, 752, 95, 435, 463, 580, 812, 725, 713, 706, 778, 1160, 2421, 1987, 2268, 1359, 949, 2029, 2000]"
   ]
  },
  {
   "cell_type": "code",
   "execution_count": 18,
   "metadata": {},
   "outputs": [],
   "source": [
    "class RealRobot():\n",
    "    \"\"\"A class to interact with the real robot\n",
    "    \"\"\"\n",
    "    def __init__(self, commander, ble):\n",
    "        # Load world config\n",
    "        self.world_config = os.path.join(str(pathlib.Path(os.getcwd()).parent), \"config\", \"world.yaml\")\n",
    "        \n",
    "        self.config_params = load_config_params(self.world_config)\n",
    "        \n",
    "        # Commander to commuincate with the Plotter process\n",
    "        # Used by the Localization module to plot odom and belief\n",
    "        self.cmdr = commander\n",
    "\n",
    "        # ArtemisBLEController to communicate with the Robot\n",
    "        self.ble = ble\n",
    "\n",
    "    def get_pose(self):\n",
    "        \"\"\"Get robot pose based on odometry\n",
    "        \n",
    "        Returns:\n",
    "            current_odom -- Odometry Pose (meters, meters, degrees)\n",
    "        \"\"\"\n",
    "        raise NotImplementedError(\"get_pose is not implemented\")\n",
    "\n",
    "    def perform_observation_loop(self, rot_vel=120):\n",
    "        \"\"\"Perform the observation loop behavior on the real robot, where the robot does  \n",
    "        a 360 degree turn in place while collecting equidistant (in the angular space) sensor\n",
    "        readings, with the first sensor reading taken at the robot's current heading. \n",
    "        The number of sensor readings depends on \"observations_count\"(=18) defined in world.yaml.\n",
    "        \n",
    "        Keyword arguments:\n",
    "            rot_vel -- (Optional) Angular Velocity for loop (degrees/second)\n",
    "                        Do not remove this parameter from the function definition, even if you don't use it.\n",
    "        Returns:\n",
    "            sensor_ranges   -- A column numpy array of the range values (meters)\n",
    "            sensor_bearings -- A column numpy array of the bearings at which the sensor readings were taken (degrees)\n",
    "                               The bearing values are not used in the Localization module, so you may return a empty numpy array\n",
    "        \"\"\"\n",
    "        \n",
    "#         global tof_times\n",
    "#         global tof_data\n",
    "#         global imu_data\n",
    "        \n",
    "#         ble.send_command(CMD.PID, \"\")\n",
    "\n",
    "#         begin_time = time.time()\n",
    "#         while(time.time() < begin_time + 45):\n",
    "#             #give time for robot to rotate 360 degrees and collect data\n",
    "#             pass\n",
    "\n",
    "#         ble.send_command(CMD.SEND_DATA, \"\")\n",
    "\n",
    "        return_data = []\n",
    "        zero_array = []\n",
    "        for i in range(18):\n",
    "            return_data.append(map_data[i]/1000)\n",
    "            print(return_data)\n",
    "            zero_array.append(0)\n",
    "            \n",
    "        return_data[-1] = return_data[0]\n",
    "            \n",
    "        sensor_ranges = np.array([return_data]).T\n",
    "        sensor_bearings = np.array([zero_array]).T\n",
    "\n",
    "        return sensor_ranges, sensor_bearings"
   ]
  },
  {
   "cell_type": "code",
   "execution_count": 37,
   "metadata": {},
   "outputs": [
    {
     "name": "stdout",
     "output_type": "stream",
     "text": [
      "2023-05-11 15:59:15,812 |\u001b[32m INFO     \u001b[0m|: Already connected to a BLE device\n"
     ]
    }
   ],
   "source": [
    "# Get ArtemisBLEController object\n",
    "ble = get_ble_controller()\n",
    "\n",
    "# Connect to the Artemis Device\n",
    "ble.connect()"
   ]
  },
  {
   "cell_type": "code",
   "execution_count": 19,
   "metadata": {},
   "outputs": [
    {
     "name": "stdout",
     "output_type": "stream",
     "text": [
      "2023-05-11 16:35:09,102 |\u001b[32m INFO     \u001b[0m|:  | Number of observations per grid cell: 18\n",
      "2023-05-11 16:35:09,104 |\u001b[32m INFO     \u001b[0m|:  | Precaching Views...\n",
      "2023-05-11 16:35:13,706 |\u001b[32m INFO     \u001b[0m|:  | Precaching Time: 4.600 secs\n",
      "2023-05-11 16:35:13,707 |\u001b[32m INFO     \u001b[0m|: Initializing beliefs with a Uniform Distribution\n",
      "2023-05-11 16:35:13,708 |\u001b[32m INFO     \u001b[0m|: Uniform Belief with each cell value: 0.00051440329218107\n"
     ]
    }
   ],
   "source": [
    "# Initialize RealRobot with a Commander object to communicate with the plotter process\n",
    "# and the ArtemisBLEController object to communicate with the real robot\n",
    "robot = RealRobot(cmdr, ble)\n",
    "\n",
    "# Initialize mapper\n",
    "# Requires a VirtualRobot object as a parameter\n",
    "mapper = Mapper(robot)\n",
    "\n",
    "# Initialize your BaseLocalization object\n",
    "# Requires a RealRobot object and a Mapper object as parameters\n",
    "loc = Localization(robot, mapper)\n",
    "\n",
    "## Plot Map\n",
    "cmdr.plot_map()"
   ]
  },
  {
   "cell_type": "markdown",
   "metadata": {},
   "source": [
    "# Run an update step of the Bayes Filter"
   ]
  },
  {
   "cell_type": "code",
   "execution_count": 20,
   "metadata": {},
   "outputs": [
    {
     "name": "stdout",
     "output_type": "stream",
     "text": [
      "2023-05-11 16:35:14,720 |\u001b[32m INFO     \u001b[0m|: Initializing beliefs with a Uniform Distribution\n",
      "2023-05-11 16:35:14,721 |\u001b[32m INFO     \u001b[0m|: Uniform Belief with each cell value: 0.00051440329218107\n",
      "[1.716]\n",
      "[1.716, 1.177]\n",
      "[1.716, 1.177, 0.635]\n",
      "[1.716, 1.177, 0.635, 0.485]\n",
      "[1.716, 1.177, 0.635, 0.485, 0.451]\n",
      "[1.716, 1.177, 0.635, 0.485, 0.451, 0.475]\n",
      "[1.716, 1.177, 0.635, 0.485, 0.451, 0.475, 0.56]\n",
      "[1.716, 1.177, 0.635, 0.485, 0.451, 0.475, 0.56, 0.76]\n",
      "[1.716, 1.177, 0.635, 0.485, 0.451, 0.475, 0.56, 0.76, 0.733]\n",
      "[1.716, 1.177, 0.635, 0.485, 0.451, 0.475, 0.56, 0.76, 0.733, 0.701]\n",
      "[1.716, 1.177, 0.635, 0.485, 0.451, 0.475, 0.56, 0.76, 0.733, 0.701, 0.751]\n",
      "[1.716, 1.177, 0.635, 0.485, 0.451, 0.475, 0.56, 0.76, 0.733, 0.701, 0.751, 0.877]\n",
      "[1.716, 1.177, 0.635, 0.485, 0.451, 0.475, 0.56, 0.76, 0.733, 0.701, 0.751, 0.877, 1.166]\n",
      "[1.716, 1.177, 0.635, 0.485, 0.451, 0.475, 0.56, 0.76, 0.733, 0.701, 0.751, 0.877, 1.166, 1.447]\n",
      "[1.716, 1.177, 0.635, 0.485, 0.451, 0.475, 0.56, 0.76, 0.733, 0.701, 0.751, 0.877, 1.166, 1.447, 1.465]\n",
      "[1.716, 1.177, 0.635, 0.485, 0.451, 0.475, 0.56, 0.76, 0.733, 0.701, 0.751, 0.877, 1.166, 1.447, 1.465, 0.678]\n",
      "[1.716, 1.177, 0.635, 0.485, 0.451, 0.475, 0.56, 0.76, 0.733, 0.701, 0.751, 0.877, 1.166, 1.447, 1.465, 0.678, 0.898]\n",
      "[1.716, 1.177, 0.635, 0.485, 0.451, 0.475, 0.56, 0.76, 0.733, 0.701, 0.751, 0.877, 1.166, 1.447, 1.465, 0.678, 0.898, 0.846]\n",
      "2023-05-11 16:35:14,723 |\u001b[32m INFO     \u001b[0m|: Update Step\n",
      "2023-05-11 16:35:14,729 |\u001b[32m INFO     \u001b[0m|:      | Update Time: 0.004 secs\n",
      "2023-05-11 16:35:14,730 |\u001b[32m INFO     \u001b[0m|: Bel index     : (9, 6, 17) with prob = 0.9985524\n",
      "2023-05-11 16:35:14,732 |\u001b[32m INFO     \u001b[0m|: Bel_bar prob at index = 0.00051440329218107\n",
      "2023-05-11 16:35:14,734 |\u001b[32m INFO     \u001b[0m|: Belief        : (1.219, 0.610, 170.000)\n"
     ]
    }
   ],
   "source": [
    "# Reset Plots\n",
    "cmdr.reset_plotter()\n",
    "\n",
    "# Init Uniform Belief\n",
    "loc.init_grid_beliefs()\n",
    "\n",
    "# Get Observation Data by executing a 360 degree rotation motion\n",
    "loc.get_observation_data()\n",
    "\n",
    "# Run Update Step\n",
    "loc.update_step()\n",
    "loc.plot_update_step_data(plot_data=True)\n",
    "\n",
    "# Plot Odom and GT\n",
    "# current_odom, current_gt = robot.get_pose()\n",
    "cmdr.plot_gt(0*0.3048, 3*0.3048)\n",
    "# cmdr.plot_gt(current_gt[0], current_gt[1])\n",
    "# cmdr.plot_odom(current_odom[0], current_odom[1])"
   ]
  },
  {
   "cell_type": "code",
   "execution_count": 194,
   "metadata": {},
   "outputs": [
    {
     "name": "stdout",
     "output_type": "stream",
     "text": [
      "2023-05-09 09:19:01,032 |\u001b[31m ERROR    \u001b[0m|: Simulator is not running\n",
      "2023-05-09 09:19:01,042 |\u001b[32m INFO     \u001b[0m|: Plotter is stopped\n"
     ]
    }
   ],
   "source": [
    "# Start the simulator\n",
    "STOP_SIM()\n",
    "\n",
    "# Start the plotter\n",
    "STOP_PLOTTER()"
   ]
  },
  {
   "cell_type": "code",
   "execution_count": null,
   "metadata": {},
   "outputs": [],
   "source": []
  }
 ],
 "metadata": {
  "kernelspec": {
   "display_name": "Python 3 (ipykernel)",
   "language": "python",
   "name": "python3"
  },
  "language_info": {
   "codemirror_mode": {
    "name": "ipython",
    "version": 3
   },
   "file_extension": ".py",
   "mimetype": "text/x-python",
   "name": "python",
   "nbconvert_exporter": "python",
   "pygments_lexer": "ipython3",
   "version": "3.9.10"
  }
 },
 "nbformat": 4,
 "nbformat_minor": 4
}
