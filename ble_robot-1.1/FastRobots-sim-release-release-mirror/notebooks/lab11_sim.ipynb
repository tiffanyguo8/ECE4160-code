{
 "cells": [
  {
   "cell_type": "markdown",
   "metadata": {},
   "source": [
    "# Lab 11: Grid Localization using Bayes Filter (Virtual Robot)\n",
    "\n",
    "### <span style=\"color:rgb(0,150,0)\">It is recommended that you close any heavy-duty applications running on your system while working on this lab.</span>\n",
    "\n",
    "<hr>\n"
   ]
  },
  {
   "cell_type": "code",
   "execution_count": 5,
   "metadata": {},
   "outputs": [
    {
     "name": "stdout",
     "output_type": "stream",
     "text": [
      "2023-05-03 15:45:40,302 |\u001b[31m ERROR    \u001b[0m|: Simulator is not running\n",
      "2023-05-03 15:45:40,304 |\u001b[32m INFO     \u001b[0m|: Plotter is stopped\n"
     ]
    }
   ],
   "source": [
    "# Start the simulator\n",
    "STOP_SIM()\n",
    "\n",
    "# Start the plotter\n",
    "STOP_PLOTTER()"
   ]
  },
  {
   "cell_type": "code",
   "execution_count": 1,
   "metadata": {},
   "outputs": [
    {
     "name": "stdout",
     "output_type": "stream",
     "text": [
      "2023-05-03 15:39:03,450 |\u001b[32m INFO     \u001b[0m|: Logger demo_notebook.log initialized.\n"
     ]
    },
    {
     "data": {
      "application/vnd.jupyter.widget-view+json": {
       "model_id": "5e8a0f633f3440f49ac8a0880eea765e",
       "version_major": 2,
       "version_minor": 0
      },
      "text/plain": [
       "TwoByTwoLayout(children=(Label(value='Simulator', layout=Layout(grid_area='top-left', width='80px')), HBox(chi…"
      ]
     },
     "metadata": {},
     "output_type": "display_data"
    },
    {
     "name": "stderr",
     "output_type": "stream",
     "text": [
      "qt.pointer.dispatch: skipping QEventPoint(id=1 ts=0 pos=0,0 scn=823.877,362.283 gbl=823.877,362.283 Released ellipse=(1x1 ∡ 0) vel=0,0 press=-823.877,-362.283 last=-823.877,-362.283 Δ 823.877,362.283) : no target window\n",
      "qt.pointer.dispatch: skipping QEventPoint(id=1 ts=0 pos=0,0 scn=846.239,341.275 gbl=846.239,341.275 Released ellipse=(1x1 ∡ 0) vel=0,0 press=-846.239,-341.275 last=-846.239,-341.275 Δ 846.239,341.275) : no target window\n",
      "qt.pointer.dispatch: skipping QEventPoint(id=1 ts=0 pos=0,0 scn=873.118,328.421 gbl=873.118,328.421 Released ellipse=(1x1 ∡ 0) vel=0,0 press=-873.118,-328.421 last=-873.118,-328.421 Δ 873.118,328.421) : no target window\n",
      "qt.pointer.dispatch: skipping QEventPoint(id=1 ts=0 pos=0,0 scn=898.197,322.379 gbl=898.197,322.379 Released ellipse=(1x1 ∡ 0) vel=0,0 press=-898.197,-322.379 last=-898.197,-322.379 Δ 898.197,322.379) : no target window\n",
      "qt.pointer.dispatch: skipping QEventPoint(id=1 ts=0 pos=0,0 scn=921.641,320.182 gbl=921.641,320.182 Released ellipse=(1x1 ∡ 0) vel=0,0 press=-921.641,-320.182 last=-921.641,-320.182 Δ 921.641,320.182) : no target window\n",
      "qt.pointer.dispatch: skipping QEventPoint(id=1 ts=0 pos=0,0 scn=963.269,319.283 gbl=963.269,319.283 Released ellipse=(1x1 ∡ 0) vel=0,0 press=-963.269,-319.283 last=-963.269,-319.283 Δ 963.269,319.283) : no target window\n",
      "qt.pointer.dispatch: skipping QEventPoint(id=1 ts=0 pos=0,0 scn=987.102,319.283 gbl=987.102,319.283 Released ellipse=(1x1 ∡ 0) vel=0,0 press=-987.102,-319.283 last=-987.102,-319.283 Δ 987.102,319.283) : no target window\n",
      "qt.pointer.dispatch: skipping QEventPoint(id=1 ts=0 pos=0,0 scn=1011.46,319.462 gbl=1011.46,319.462 Released ellipse=(1x1 ∡ 0) vel=0,0 press=-1011.46,-319.462 last=-1011.46,-319.462 Δ 1011.46,319.462) : no target window\n",
      "qt.pointer.dispatch: skipping QEventPoint(id=1 ts=0 pos=0,0 scn=1025.2,321.431 gbl=1025.2,321.431 Released ellipse=(1x1 ∡ 0) vel=0,0 press=-1025.2,-321.431 last=-1025.2,-321.431 Δ 1025.2,321.431) : no target window\n"
     ]
    }
   ],
   "source": [
    "%load_ext autoreload\n",
    "%autoreload 2\n",
    "\n",
    "import traceback\n",
    "from notebook_utils import *\n",
    "from Traj import *\n",
    "import asyncio\n",
    "from localization_extras import Localization\n",
    "\n",
    "# Setup Logger\n",
    "LOG = get_logger('demo_notebook.log')\n",
    "\n",
    "# Init GUI and Commander\n",
    "gui = GET_GUI()\n",
    "cmdr = gui.launcher.commander\n",
    "\n",
    "gui.show()\n",
    "\n",
    "# Start the simulator\n",
    "START_SIM()\n",
    "\n",
    "# Start the plotter\n",
    "START_PLOTTER()"
   ]
  },
  {
   "cell_type": "code",
   "execution_count": 2,
   "metadata": {},
   "outputs": [
    {
     "name": "stdout",
     "output_type": "stream",
     "text": [
      "2023-05-03 15:39:07,253 |\u001b[32m INFO     \u001b[0m|:  | Number of observations per grid cell: 18\n",
      "2023-05-03 15:39:07,255 |\u001b[32m INFO     \u001b[0m|:  | Precaching Views...\n"
     ]
    },
    {
     "name": "stderr",
     "output_type": "stream",
     "text": [
      "/Users/tiffanyguo/Desktop/ECE4160-code/ble_robot-1.1/FastRobots-sim-release-release-mirror/localization.py:150: RuntimeWarning: All-NaN slice encountered\n",
      "  return np.nanmin(distance_intersections_tt), intersections_tt[np.nanargmin(distance_intersections_tt)]\n"
     ]
    },
    {
     "name": "stdout",
     "output_type": "stream",
     "text": [
      "2023-05-03 15:39:12,721 |\u001b[32m INFO     \u001b[0m|:  | Precaching Time: 5.464 secs\n",
      "2023-05-03 15:39:12,723 |\u001b[32m INFO     \u001b[0m|: Initializing beliefs with a Uniform Distribution\n",
      "2023-05-03 15:39:12,724 |\u001b[32m INFO     \u001b[0m|: Uniform Belief with each cell value: 0.00051440329218107\n"
     ]
    }
   ],
   "source": [
    "# Initialize Robot to communicate with the virtual robot and plotter\n",
    "robot = VirtualRobot(cmdr)\n",
    "\n",
    "# Initialize mapper\n",
    "# Requires a VirtualRobot object as a parameter\n",
    "mapper = Mapper(robot)\n",
    "\n",
    "# Initialize your BaseLocalization object\n",
    "# Requires a VirtualRobot object and a Mapper object as parameters\n",
    "loc = Localization(robot, mapper)\n",
    "\n",
    "## Plot Map\n",
    "cmdr.plot_map()"
   ]
  },
  {
   "cell_type": "markdown",
   "metadata": {},
   "source": [
    "# Run the Bayes Filter\n",
    "The cells below utilizes the member functions of class **Localization** (defined in [localization_extras.py](../localization_extras.py)) in each iteration of the Bayes filter algorithm to localize the robot in the grid map. <br>"
   ]
  },
  {
   "cell_type": "code",
   "execution_count": 3,
   "metadata": {},
   "outputs": [
    {
     "name": "stdout",
     "output_type": "stream",
     "text": [
      "2023-05-03 15:39:13,179 |\u001b[32m INFO     \u001b[0m|: Initializing beliefs with a Uniform Distribution\n",
      "2023-05-03 15:39:13,180 |\u001b[32m INFO     \u001b[0m|: Uniform Belief with each cell value: 0.00051440329218107\n",
      "2023-05-03 15:39:17,112 |\u001b[32m INFO     \u001b[0m|: Update Step\n",
      "2023-05-03 15:39:17,116 |\u001b[32m INFO     \u001b[0m|:      | Update Time: 0.003 secs\n",
      "2023-05-03 15:39:17,117 |\u001b[32m INFO     \u001b[0m|: ---------- UPDATE STATS -----------\n",
      "2023-05-03 15:39:17,126 |\u001b[32m INFO     \u001b[0m|: GT index      : (6, 4, 9)\n",
      "2023-05-03 15:39:17,127 |\u001b[32m INFO     \u001b[0m|: Bel index     : (5, 4, 9) with prob = 0.8559505\n",
      "2023-05-03 15:39:17,128 |\u001b[32m INFO     \u001b[0m|: Bel_bar prob at index = 0.00051440329218107\n",
      "2023-05-03 15:39:17,129 |\u001b[32m INFO     \u001b[0m|: GT            : (0.000, 0.000, 360.000)\n",
      "2023-05-03 15:39:17,130 |\u001b[32m INFO     \u001b[0m|: Belief        : (0.000, 0.000, 10.000)\n",
      "2023-05-03 15:39:17,132 |\u001b[32m INFO     \u001b[0m|: POS ERROR     : (-0.000, -0.000, 350.000)\n",
      "2023-05-03 15:39:17,134 |\u001b[32m INFO     \u001b[0m|: ---------- UPDATE STATS -----------\n"
     ]
    }
   ],
   "source": [
    "# Reset Robot and Plots\n",
    "robot.reset()\n",
    "cmdr.reset_plotter()\n",
    "\n",
    "# Init Uniform Belief\n",
    "loc.init_grid_beliefs()\n",
    "\n",
    "# Get Observation Data by executing a 360 degree rotation motion\n",
    "loc.get_observation_data()\n",
    "\n",
    "# Run Update Step\n",
    "loc.update_step()\n",
    "loc.print_update_stats(plot_data=True)\n",
    "\n",
    "# Plot Odom and GT\n",
    "current_odom, current_gt = robot.get_pose()\n",
    "cmdr.plot_gt(current_gt[0], current_gt[1])\n",
    "cmdr.plot_odom(current_odom[0], current_odom[1])"
   ]
  },
  {
   "cell_type": "code",
   "execution_count": 4,
   "metadata": {},
   "outputs": [
    {
     "name": "stdout",
     "output_type": "stream",
     "text": [
      "\n",
      "\n",
      "----------------- 0 -----------------\n"
     ]
    },
    {
     "name": "stderr",
     "output_type": "stream",
     "text": [
      "qt.pointer.dispatch: skipping QEventPoint(id=1 ts=0 pos=0,0 scn=844.512,188.481 gbl=844.512,188.481 Released ellipse=(1x1 ∡ 0) vel=0,0 press=-844.512,-188.481 last=-844.512,-188.481 Δ 844.512,188.481) : no target window\n"
     ]
    },
    {
     "name": "stdout",
     "output_type": "stream",
     "text": [
      "2023-05-03 15:39:20,425 |\u001b[32m INFO     \u001b[0m|: Prediction Step\n",
      "2023-05-03 15:39:20,546 |\u001b[32m INFO     \u001b[0m|:  | Prediction Time: 0.119 secs\n",
      "2023-05-03 15:39:20,547 |\u001b[32m INFO     \u001b[0m|: ---------- PREDICTION STATS -----------\n",
      "2023-05-03 15:39:20,557 |\u001b[32m INFO     \u001b[0m|: GT index         : (6, 3, 7)\n",
      "2023-05-03 15:39:20,559 |\u001b[32m INFO     \u001b[0m|: Prior Bel index  : (5, 5, 8) with prob = 0.1107539\n",
      "2023-05-03 15:39:20,561 |\u001b[32m INFO     \u001b[0m|: POS ERROR        : (0.287, -0.391, -29.534)\n",
      "2023-05-03 15:39:20,565 |\u001b[32m INFO     \u001b[0m|: ---------- PREDICTION STATS -----------\n"
     ]
    },
    {
     "name": "stderr",
     "output_type": "stream",
     "text": [
      "qt.pointer.dispatch: skipping QEventPoint(id=1 ts=0 pos=0,0 scn=777.821,302.767 gbl=777.821,302.767 Released ellipse=(1x1 ∡ 0) vel=0,0 press=-777.821,-302.767 last=-777.821,-302.767 Δ 777.821,302.767) : no target window\n"
     ]
    },
    {
     "name": "stdout",
     "output_type": "stream",
     "text": [
      "2023-05-03 15:39:23,490 |\u001b[32m INFO     \u001b[0m|: Update Step\n",
      "2023-05-03 15:39:23,494 |\u001b[32m INFO     \u001b[0m|:      | Update Time: 0.003 secs\n",
      "2023-05-03 15:39:23,496 |\u001b[32m INFO     \u001b[0m|: ---------- UPDATE STATS -----------\n",
      "2023-05-03 15:39:23,502 |\u001b[32m INFO     \u001b[0m|: GT index      : (6, 3, 7)\n",
      "2023-05-03 15:39:23,505 |\u001b[32m INFO     \u001b[0m|: Bel index     : (6, 4, 6) with prob = 1.0\n",
      "2023-05-03 15:39:23,507 |\u001b[32m INFO     \u001b[0m|: Bel_bar prob at index = 0.001316363471556414\n",
      "2023-05-03 15:39:23,509 |\u001b[32m INFO     \u001b[0m|: GT            : (0.287, -0.086, 320.466)\n",
      "2023-05-03 15:39:23,511 |\u001b[32m INFO     \u001b[0m|: Belief        : (0.305, 0.000, -50.000)\n",
      "2023-05-03 15:39:23,513 |\u001b[32m INFO     \u001b[0m|: POS ERROR     : (-0.017, -0.086, 370.466)\n",
      "2023-05-03 15:39:23,515 |\u001b[32m INFO     \u001b[0m|: ---------- UPDATE STATS -----------\n",
      "-------------------------------------\n",
      "\n",
      "\n",
      "----------------- 1 -----------------\n",
      "2023-05-03 15:39:25,551 |\u001b[32m INFO     \u001b[0m|: Prediction Step\n",
      "2023-05-03 15:39:25,607 |\u001b[32m INFO     \u001b[0m|:  | Prediction Time: 0.055 secs\n",
      "2023-05-03 15:39:25,608 |\u001b[32m INFO     \u001b[0m|: ---------- PREDICTION STATS -----------\n",
      "2023-05-03 15:39:25,617 |\u001b[32m INFO     \u001b[0m|: GT index         : (7, 2, 5)\n",
      "2023-05-03 15:39:25,618 |\u001b[32m INFO     \u001b[0m|: Prior Bel index  : (7, 3, 7) with prob = 0.1378016\n",
      "2023-05-03 15:39:25,620 |\u001b[32m INFO     \u001b[0m|: POS ERROR        : (-0.094, -0.226, 327.166)\n",
      "2023-05-03 15:39:25,623 |\u001b[32m INFO     \u001b[0m|: ---------- PREDICTION STATS -----------\n",
      "2023-05-03 15:39:28,560 |\u001b[32m INFO     \u001b[0m|: Update Step\n",
      "2023-05-03 15:39:28,565 |\u001b[32m INFO     \u001b[0m|:      | Update Time: 0.004 secs\n",
      "2023-05-03 15:39:28,566 |\u001b[32m INFO     \u001b[0m|: ---------- UPDATE STATS -----------\n",
      "2023-05-03 15:39:28,573 |\u001b[32m INFO     \u001b[0m|: GT index      : (7, 2, 5)\n",
      "2023-05-03 15:39:28,574 |\u001b[32m INFO     \u001b[0m|: Bel index     : (7, 2, 6) with prob = 1.0\n",
      "2023-05-03 15:39:28,576 |\u001b[32m INFO     \u001b[0m|: Bel_bar prob at index = 0.02137519935068557\n",
      "2023-05-03 15:39:28,578 |\u001b[32m INFO     \u001b[0m|: GT            : (0.516, -0.531, 657.166)\n",
      "2023-05-03 15:39:28,580 |\u001b[32m INFO     \u001b[0m|: Belief        : (0.610, -0.610, -50.000)\n",
      "2023-05-03 15:39:28,583 |\u001b[32m INFO     \u001b[0m|: POS ERROR     : (-0.094, 0.079, 707.166)\n",
      "2023-05-03 15:39:28,585 |\u001b[32m INFO     \u001b[0m|: ---------- UPDATE STATS -----------\n",
      "-------------------------------------\n",
      "\n",
      "\n",
      "----------------- 2 -----------------\n",
      "2023-05-03 15:39:29,612 |\u001b[32m INFO     \u001b[0m|: Prediction Step\n",
      "2023-05-03 15:39:29,673 |\u001b[32m INFO     \u001b[0m|:  | Prediction Time: 0.059 secs\n",
      "2023-05-03 15:39:29,674 |\u001b[32m INFO     \u001b[0m|: ---------- PREDICTION STATS -----------\n",
      "2023-05-03 15:39:29,679 |\u001b[32m INFO     \u001b[0m|: GT index         : (7, 2, 4)\n",
      "2023-05-03 15:39:29,680 |\u001b[32m INFO     \u001b[0m|: Prior Bel index  : (6, 2, 6) with prob = 0.1086495\n",
      "2023-05-03 15:39:29,681 |\u001b[32m INFO     \u001b[0m|: POS ERROR        : (0.211, 0.079, 684.246)\n",
      "2023-05-03 15:39:29,684 |\u001b[32m INFO     \u001b[0m|: ---------- PREDICTION STATS -----------\n",
      "2023-05-03 15:39:32,654 |\u001b[32m INFO     \u001b[0m|: Update Step\n",
      "2023-05-03 15:39:32,658 |\u001b[32m INFO     \u001b[0m|:      | Update Time: 0.003 secs\n",
      "2023-05-03 15:39:32,659 |\u001b[32m INFO     \u001b[0m|: ---------- UPDATE STATS -----------\n",
      "2023-05-03 15:39:32,666 |\u001b[32m INFO     \u001b[0m|: GT index      : (7, 2, 4)\n",
      "2023-05-03 15:39:32,668 |\u001b[32m INFO     \u001b[0m|: Bel index     : (6, 2, 4) with prob = 1.0\n",
      "2023-05-03 15:39:32,669 |\u001b[32m INFO     \u001b[0m|: Bel_bar prob at index = 0.0053499273772121885\n",
      "2023-05-03 15:39:32,671 |\u001b[32m INFO     \u001b[0m|: GT            : (0.516, -0.531, 994.246)\n",
      "2023-05-03 15:39:32,673 |\u001b[32m INFO     \u001b[0m|: Belief        : (0.305, -0.610, -90.000)\n",
      "2023-05-03 15:39:32,675 |\u001b[32m INFO     \u001b[0m|: POS ERROR     : (0.211, 0.079, 1084.246)\n",
      "2023-05-03 15:39:32,677 |\u001b[32m INFO     \u001b[0m|: ---------- UPDATE STATS -----------\n",
      "-------------------------------------\n",
      "\n",
      "\n",
      "----------------- 3 -----------------\n",
      "2023-05-03 15:39:33,705 |\u001b[32m INFO     \u001b[0m|: Prediction Step\n",
      "2023-05-03 15:39:33,760 |\u001b[32m INFO     \u001b[0m|:  | Prediction Time: 0.053 secs\n",
      "2023-05-03 15:39:33,761 |\u001b[32m INFO     \u001b[0m|: ---------- PREDICTION STATS -----------\n",
      "2023-05-03 15:39:33,773 |\u001b[32m INFO     \u001b[0m|: GT index         : (7, 0, 4)\n",
      "2023-05-03 15:39:33,774 |\u001b[32m INFO     \u001b[0m|: Prior Bel index  : (7, 1, 4) with prob = 0.2430294\n",
      "2023-05-03 15:39:33,776 |\u001b[32m INFO     \u001b[0m|: POS ERROR        : (-0.064, -0.015, 1084.246)\n",
      "2023-05-03 15:39:33,779 |\u001b[32m INFO     \u001b[0m|: ---------- PREDICTION STATS -----------\n",
      "2023-05-03 15:39:36,725 |\u001b[32m INFO     \u001b[0m|: Update Step\n",
      "2023-05-03 15:39:36,729 |\u001b[32m INFO     \u001b[0m|:      | Update Time: 0.003 secs\n",
      "2023-05-03 15:39:36,730 |\u001b[32m INFO     \u001b[0m|: ---------- UPDATE STATS -----------\n",
      "2023-05-03 15:39:36,738 |\u001b[32m INFO     \u001b[0m|: GT index      : (7, 0, 4)\n",
      "2023-05-03 15:39:36,740 |\u001b[32m INFO     \u001b[0m|: Bel index     : (7, 1, 4) with prob = 1.0\n",
      "2023-05-03 15:39:36,742 |\u001b[32m INFO     \u001b[0m|: Bel_bar prob at index = 0.24302945588017902\n",
      "2023-05-03 15:39:36,743 |\u001b[32m INFO     \u001b[0m|: GT            : (0.545, -0.930, 1354.246)\n",
      "2023-05-03 15:39:36,745 |\u001b[32m INFO     \u001b[0m|: Belief        : (0.610, -0.914, -90.000)\n",
      "2023-05-03 15:39:36,747 |\u001b[32m INFO     \u001b[0m|: POS ERROR     : (-0.064, -0.015, 1444.246)\n",
      "2023-05-03 15:39:36,748 |\u001b[32m INFO     \u001b[0m|: ---------- UPDATE STATS -----------\n",
      "-------------------------------------\n",
      "\n",
      "\n",
      "----------------- 4 -----------------\n",
      "2023-05-03 15:39:39,788 |\u001b[32m INFO     \u001b[0m|: Prediction Step\n",
      "2023-05-03 15:39:39,843 |\u001b[32m INFO     \u001b[0m|:  | Prediction Time: 0.053 secs\n",
      "2023-05-03 15:39:39,844 |\u001b[32m INFO     \u001b[0m|: ---------- PREDICTION STATS -----------\n",
      "2023-05-03 15:39:39,854 |\u001b[32m INFO     \u001b[0m|: GT index         : (8, 0, 8)\n",
      "2023-05-03 15:39:39,856 |\u001b[32m INFO     \u001b[0m|: Prior Bel index  : (7, 0, 8) with prob = 0.3831922\n",
      "2023-05-03 15:39:39,857 |\u001b[32m INFO     \u001b[0m|: POS ERROR        : (0.200, 0.147, 1449.711)\n",
      "2023-05-03 15:39:39,860 |\u001b[32m INFO     \u001b[0m|: ---------- PREDICTION STATS -----------\n",
      "2023-05-03 15:39:42,817 |\u001b[32m INFO     \u001b[0m|: Update Step\n",
      "2023-05-03 15:39:42,821 |\u001b[32m INFO     \u001b[0m|:      | Update Time: 0.003 secs\n",
      "2023-05-03 15:39:42,822 |\u001b[32m INFO     \u001b[0m|: ---------- UPDATE STATS -----------\n",
      "2023-05-03 15:39:42,828 |\u001b[32m INFO     \u001b[0m|: GT index      : (8, 0, 8)\n",
      "2023-05-03 15:39:42,830 |\u001b[32m INFO     \u001b[0m|: Bel index     : (8, 1, 9) with prob = 1.0\n",
      "2023-05-03 15:39:42,832 |\u001b[32m INFO     \u001b[0m|: Bel_bar prob at index = 2.4243602938611685e-12\n",
      "2023-05-03 15:39:42,835 |\u001b[32m INFO     \u001b[0m|: GT            : (0.809, -1.072, 1799.711)\n",
      "2023-05-03 15:39:42,836 |\u001b[32m INFO     \u001b[0m|: Belief        : (0.914, -0.914, 10.000)\n",
      "2023-05-03 15:39:42,838 |\u001b[32m INFO     \u001b[0m|: POS ERROR     : (-0.105, -0.158, 1789.711)\n",
      "2023-05-03 15:39:42,840 |\u001b[32m INFO     \u001b[0m|: ---------- UPDATE STATS -----------\n",
      "-------------------------------------\n",
      "\n",
      "\n",
      "----------------- 5 -----------------\n",
      "2023-05-03 15:39:48,887 |\u001b[32m INFO     \u001b[0m|: Prediction Step\n",
      "2023-05-03 15:39:48,941 |\u001b[32m INFO     \u001b[0m|:  | Prediction Time: 0.053 secs\n",
      "2023-05-03 15:39:48,942 |\u001b[32m INFO     \u001b[0m|: ---------- PREDICTION STATS -----------\n",
      "2023-05-03 15:39:48,953 |\u001b[32m INFO     \u001b[0m|: GT index         : (11, 0, 11)\n",
      "2023-05-03 15:39:48,955 |\u001b[32m INFO     \u001b[0m|: Prior Bel index  : (11, 3, 16) with prob = 0.0948695\n",
      "2023-05-03 15:39:48,956 |\u001b[32m INFO     \u001b[0m|: POS ERROR        : (-0.235, -0.613, 1698.678)\n",
      "2023-05-03 15:39:48,959 |\u001b[32m INFO     \u001b[0m|: ---------- PREDICTION STATS -----------\n",
      "2023-05-03 15:39:51,897 |\u001b[32m INFO     \u001b[0m|: Update Step\n",
      "2023-05-03 15:39:51,901 |\u001b[32m INFO     \u001b[0m|:      | Update Time: 0.003 secs\n",
      "2023-05-03 15:39:51,903 |\u001b[32m INFO     \u001b[0m|: ---------- UPDATE STATS -----------\n",
      "2023-05-03 15:39:51,908 |\u001b[32m INFO     \u001b[0m|: GT index      : (11, 0, 11)\n",
      "2023-05-03 15:39:51,910 |\u001b[32m INFO     \u001b[0m|: Bel index     : (10, 1, 11) with prob = 1.0\n",
      "2023-05-03 15:39:51,912 |\u001b[32m INFO     \u001b[0m|: Bel_bar prob at index = 1.7178852211081143e-08\n",
      "2023-05-03 15:39:51,913 |\u001b[32m INFO     \u001b[0m|: GT            : (1.594, -0.917, 2208.678)\n",
      "2023-05-03 15:39:51,915 |\u001b[32m INFO     \u001b[0m|: Belief        : (1.524, -0.914, 50.000)\n",
      "2023-05-03 15:39:51,917 |\u001b[32m INFO     \u001b[0m|: POS ERROR     : (0.070, -0.003, 2158.678)\n",
      "2023-05-03 15:39:51,919 |\u001b[32m INFO     \u001b[0m|: ---------- UPDATE STATS -----------\n",
      "-------------------------------------\n",
      "\n",
      "\n",
      "----------------- 6 -----------------\n",
      "2023-05-03 15:39:53,968 |\u001b[32m INFO     \u001b[0m|: Prediction Step\n",
      "2023-05-03 15:39:54,029 |\u001b[32m INFO     \u001b[0m|:  | Prediction Time: 0.060 secs\n",
      "2023-05-03 15:39:54,030 |\u001b[32m INFO     \u001b[0m|: ---------- PREDICTION STATS -----------\n",
      "2023-05-03 15:39:54,066 |\u001b[32m INFO     \u001b[0m|: GT index         : (11, 2, 12)\n",
      "2023-05-03 15:39:54,067 |\u001b[32m INFO     \u001b[0m|: Prior Bel index  : (11, 2, 11) with prob = 0.3265210\n",
      "2023-05-03 15:39:54,069 |\u001b[32m INFO     \u001b[0m|: POS ERROR        : (-0.144, 0.082, 2186.854)\n",
      "2023-05-03 15:39:54,071 |\u001b[32m INFO     \u001b[0m|: ---------- PREDICTION STATS -----------\n",
      "2023-05-03 15:39:57,007 |\u001b[32m INFO     \u001b[0m|: Update Step\n",
      "2023-05-03 15:39:57,011 |\u001b[32m INFO     \u001b[0m|:      | Update Time: 0.003 secs\n",
      "2023-05-03 15:39:57,012 |\u001b[32m INFO     \u001b[0m|: ---------- UPDATE STATS -----------\n",
      "2023-05-03 15:39:57,021 |\u001b[32m INFO     \u001b[0m|: GT index      : (11, 2, 12)\n",
      "2023-05-03 15:39:57,023 |\u001b[32m INFO     \u001b[0m|: Bel index     : (11, 3, 13) with prob = 1.0\n",
      "2023-05-03 15:39:57,024 |\u001b[32m INFO     \u001b[0m|: Bel_bar prob at index = 0.0709195402487833\n",
      "2023-05-03 15:39:57,025 |\u001b[32m INFO     \u001b[0m|: GT            : (1.685, -0.528, 2596.854)\n",
      "2023-05-03 15:39:57,027 |\u001b[32m INFO     \u001b[0m|: Belief        : (1.829, -0.305, 90.000)\n",
      "2023-05-03 15:39:57,028 |\u001b[32m INFO     \u001b[0m|: POS ERROR     : (-0.144, -0.223, 2506.854)\n",
      "2023-05-03 15:39:57,030 |\u001b[32m INFO     \u001b[0m|: ---------- UPDATE STATS -----------\n",
      "-------------------------------------\n",
      "\n",
      "\n",
      "----------------- 7 -----------------\n",
      "2023-05-03 15:39:59,074 |\u001b[32m INFO     \u001b[0m|: Prediction Step\n",
      "2023-05-03 15:39:59,127 |\u001b[32m INFO     \u001b[0m|:  | Prediction Time: 0.051 secs\n",
      "2023-05-03 15:39:59,128 |\u001b[32m INFO     \u001b[0m|: ---------- PREDICTION STATS -----------\n",
      "2023-05-03 15:39:59,141 |\u001b[32m INFO     \u001b[0m|: GT index         : (11, 3, 13)\n",
      "2023-05-03 15:39:59,142 |\u001b[32m INFO     \u001b[0m|: Prior Bel index  : (11, 3, 13) with prob = 0.5275733\n",
      "2023-05-03 15:39:59,144 |\u001b[32m INFO     \u001b[0m|: POS ERROR        : (-0.062, 0.127, 2512.585)\n",
      "2023-05-03 15:39:59,146 |\u001b[32m INFO     \u001b[0m|: ---------- PREDICTION STATS -----------\n",
      "2023-05-03 15:40:02,088 |\u001b[32m INFO     \u001b[0m|: Update Step\n",
      "2023-05-03 15:40:02,092 |\u001b[32m INFO     \u001b[0m|:      | Update Time: 0.003 secs\n",
      "2023-05-03 15:40:02,093 |\u001b[32m INFO     \u001b[0m|: ---------- UPDATE STATS -----------\n",
      "2023-05-03 15:40:02,098 |\u001b[32m INFO     \u001b[0m|: GT index      : (11, 3, 13)\n",
      "2023-05-03 15:40:02,100 |\u001b[32m INFO     \u001b[0m|: Bel index     : (11, 3, 13) with prob = 1.0\n",
      "2023-05-03 15:40:02,102 |\u001b[32m INFO     \u001b[0m|: Bel_bar prob at index = 0.5275733998112353\n",
      "2023-05-03 15:40:02,104 |\u001b[32m INFO     \u001b[0m|: GT            : (1.767, -0.177, 2962.585)\n",
      "2023-05-03 15:40:02,106 |\u001b[32m INFO     \u001b[0m|: Belief        : (1.829, -0.305, 90.000)\n",
      "2023-05-03 15:40:02,108 |\u001b[32m INFO     \u001b[0m|: POS ERROR     : (-0.062, 0.127, 2872.585)\n",
      "2023-05-03 15:40:02,111 |\u001b[32m INFO     \u001b[0m|: ---------- UPDATE STATS -----------\n",
      "-------------------------------------\n",
      "\n",
      "\n",
      "----------------- 8 -----------------\n",
      "2023-05-03 15:40:05,166 |\u001b[32m INFO     \u001b[0m|: Prediction Step\n",
      "2023-05-03 15:40:05,261 |\u001b[32m INFO     \u001b[0m|:  | Prediction Time: 0.093 secs\n",
      "2023-05-03 15:40:05,264 |\u001b[32m INFO     \u001b[0m|: ---------- PREDICTION STATS -----------\n",
      "2023-05-03 15:40:05,281 |\u001b[32m INFO     \u001b[0m|: GT index         : (11, 5, 14)\n",
      "2023-05-03 15:40:05,282 |\u001b[32m INFO     \u001b[0m|: Prior Bel index  : (9, 5, 15) with prob = 0.0881137\n",
      "2023-05-03 15:40:05,286 |\u001b[32m INFO     \u001b[0m|: POS ERROR        : (0.562, 0.018, 2855.508)\n",
      "2023-05-03 15:40:05,288 |\u001b[32m INFO     \u001b[0m|: ---------- PREDICTION STATS -----------\n"
     ]
    },
    {
     "name": "stderr",
     "output_type": "stream",
     "text": [
      "qt.pointer.dispatch: skipping QEventPoint(id=1 ts=0 pos=0,0 scn=856.985,360.459 gbl=856.985,360.459 Released ellipse=(1x1 ∡ 0) vel=0,0 press=-856.985,-360.459 last=-856.985,-360.459 Δ 856.985,360.459) : no target window\n"
     ]
    },
    {
     "name": "stdout",
     "output_type": "stream",
     "text": [
      "2023-05-03 15:40:08,198 |\u001b[32m INFO     \u001b[0m|: Update Step\n",
      "2023-05-03 15:40:08,202 |\u001b[32m INFO     \u001b[0m|:      | Update Time: 0.003 secs\n",
      "2023-05-03 15:40:08,203 |\u001b[32m INFO     \u001b[0m|: ---------- UPDATE STATS -----------\n",
      "2023-05-03 15:40:08,209 |\u001b[32m INFO     \u001b[0m|: GT index      : (11, 5, 14)\n",
      "2023-05-03 15:40:08,210 |\u001b[32m INFO     \u001b[0m|: Bel index     : (11, 4, 13) with prob = 0.7352045\n",
      "2023-05-03 15:40:08,211 |\u001b[32m INFO     \u001b[0m|: Bel_bar prob at index = 0.0007302406102185358\n",
      "2023-05-03 15:40:08,213 |\u001b[32m INFO     \u001b[0m|: GT            : (1.782, 0.322, 3345.508)\n",
      "2023-05-03 15:40:08,214 |\u001b[32m INFO     \u001b[0m|: Belief        : (1.829, 0.000, 90.000)\n",
      "2023-05-03 15:40:08,216 |\u001b[32m INFO     \u001b[0m|: POS ERROR     : (-0.047, 0.322, 3255.508)\n",
      "2023-05-03 15:40:08,218 |\u001b[32m INFO     \u001b[0m|: ---------- UPDATE STATS -----------\n",
      "-------------------------------------\n",
      "\n",
      "\n",
      "----------------- 9 -----------------\n",
      "2023-05-03 15:40:11,262 |\u001b[32m INFO     \u001b[0m|: Prediction Step\n",
      "2023-05-03 15:40:11,365 |\u001b[32m INFO     \u001b[0m|:  | Prediction Time: 0.102 secs\n",
      "2023-05-03 15:40:11,366 |\u001b[32m INFO     \u001b[0m|: ---------- PREDICTION STATS -----------\n",
      "2023-05-03 15:40:11,376 |\u001b[32m INFO     \u001b[0m|: GT index         : (11, 6, 16)\n",
      "2023-05-03 15:40:11,377 |\u001b[32m INFO     \u001b[0m|: Prior Bel index  : (10, 6, 16) with prob = 0.0883511\n",
      "2023-05-03 15:40:11,379 |\u001b[32m INFO     \u001b[0m|: POS ERROR        : (0.264, 0.043, 3236.184)\n",
      "2023-05-03 15:40:11,383 |\u001b[32m INFO     \u001b[0m|: ---------- PREDICTION STATS -----------\n",
      "2023-05-03 15:40:14,303 |\u001b[32m INFO     \u001b[0m|: Update Step\n",
      "2023-05-03 15:40:14,308 |\u001b[32m INFO     \u001b[0m|:      | Update Time: 0.003 secs\n",
      "2023-05-03 15:40:14,309 |\u001b[32m INFO     \u001b[0m|: ---------- UPDATE STATS -----------\n",
      "2023-05-03 15:40:14,313 |\u001b[32m INFO     \u001b[0m|: GT index      : (11, 6, 16)\n",
      "2023-05-03 15:40:14,315 |\u001b[32m INFO     \u001b[0m|: Bel index     : (11, 7, 16) with prob = 1.0\n",
      "2023-05-03 15:40:14,316 |\u001b[32m INFO     \u001b[0m|: Bel_bar prob at index = 0.0008752789889659511\n",
      "2023-05-03 15:40:14,318 |\u001b[32m INFO     \u001b[0m|: GT            : (1.788, 0.652, 3746.184)\n",
      "2023-05-03 15:40:14,319 |\u001b[32m INFO     \u001b[0m|: Belief        : (1.829, 0.914, 150.000)\n",
      "2023-05-03 15:40:14,321 |\u001b[32m INFO     \u001b[0m|: POS ERROR     : (-0.041, -0.262, 3596.184)\n",
      "2023-05-03 15:40:14,323 |\u001b[32m INFO     \u001b[0m|: ---------- UPDATE STATS -----------\n",
      "-------------------------------------\n",
      "\n",
      "\n",
      "----------------- 10 -----------------\n"
     ]
    },
    {
     "name": "stderr",
     "output_type": "stream",
     "text": [
      "qt.pointer.dispatch: skipping QEventPoint(id=1 ts=0 pos=0,0 scn=688.79,204.891 gbl=688.79,204.891 Released ellipse=(1x1 ∡ 0) vel=0,0 press=-688.79,-204.891 last=-688.79,-204.891 Δ 688.79,204.891) : no target window\n",
      "qt.pointer.dispatch: skipping QEventPoint(id=1 ts=0 pos=0,0 scn=579.217,232.203 gbl=579.217,232.203 Released ellipse=(1x1 ∡ 0) vel=0,0 press=-579.217,-232.203 last=-579.217,-232.203 Δ 579.217,232.203) : no target window\n"
     ]
    },
    {
     "name": "stdout",
     "output_type": "stream",
     "text": [
      "2023-05-03 15:40:16,366 |\u001b[32m INFO     \u001b[0m|: Prediction Step\n",
      "2023-05-03 15:40:16,427 |\u001b[32m INFO     \u001b[0m|:  | Prediction Time: 0.060 secs\n",
      "2023-05-03 15:40:16,428 |\u001b[32m INFO     \u001b[0m|: ---------- PREDICTION STATS -----------\n",
      "2023-05-03 15:40:16,431 |\u001b[32m INFO     \u001b[0m|: GT index         : (10, 7, 16)\n",
      "2023-05-03 15:40:16,434 |\u001b[32m INFO     \u001b[0m|: Prior Bel index  : (10, 6, 16) with prob = 0.1057888\n",
      "2023-05-03 15:40:16,436 |\u001b[32m INFO     \u001b[0m|: POS ERROR        : (-0.152, 0.321, 3607.836)\n",
      "2023-05-03 15:40:16,439 |\u001b[32m INFO     \u001b[0m|: ---------- PREDICTION STATS -----------\n",
      "2023-05-03 15:40:19,391 |\u001b[32m INFO     \u001b[0m|: Update Step\n",
      "2023-05-03 15:40:19,395 |\u001b[32m INFO     \u001b[0m|:      | Update Time: 0.003 secs\n",
      "2023-05-03 15:40:19,396 |\u001b[32m INFO     \u001b[0m|: ---------- UPDATE STATS -----------\n",
      "2023-05-03 15:40:19,406 |\u001b[32m INFO     \u001b[0m|: GT index      : (10, 7, 16)\n",
      "2023-05-03 15:40:19,407 |\u001b[32m INFO     \u001b[0m|: Bel index     : (10, 6, 16) with prob = 1.0\n",
      "2023-05-03 15:40:19,408 |\u001b[32m INFO     \u001b[0m|: Bel_bar prob at index = 0.10578888183939923\n",
      "2023-05-03 15:40:19,410 |\u001b[32m INFO     \u001b[0m|: GT            : (1.372, 0.931, 4117.836)\n",
      "2023-05-03 15:40:19,411 |\u001b[32m INFO     \u001b[0m|: Belief        : (1.524, 0.610, 150.000)\n",
      "2023-05-03 15:40:19,413 |\u001b[32m INFO     \u001b[0m|: POS ERROR     : (-0.152, 0.321, 3967.836)\n",
      "2023-05-03 15:40:19,414 |\u001b[32m INFO     \u001b[0m|: ---------- UPDATE STATS -----------\n",
      "-------------------------------------\n",
      "\n",
      "\n",
      "----------------- 11 -----------------\n",
      "2023-05-03 15:40:22,457 |\u001b[32m INFO     \u001b[0m|: Prediction Step\n",
      "2023-05-03 15:40:22,510 |\u001b[32m INFO     \u001b[0m|:  | Prediction Time: 0.052 secs\n",
      "2023-05-03 15:40:22,512 |\u001b[32m INFO     \u001b[0m|: ---------- PREDICTION STATS -----------\n",
      "2023-05-03 15:40:22,524 |\u001b[32m INFO     \u001b[0m|: GT index         : (7, 6, 3)\n",
      "2023-05-03 15:40:22,526 |\u001b[32m INFO     \u001b[0m|: Prior Bel index  : (8, 8, 1) with prob = 0.1271303\n",
      "2023-05-03 15:40:22,527 |\u001b[32m INFO     \u001b[0m|: POS ERROR        : (-0.436, -0.390, 4364.075)\n",
      "2023-05-03 15:40:22,530 |\u001b[32m INFO     \u001b[0m|: ---------- PREDICTION STATS -----------\n",
      "2023-05-03 15:40:25,449 |\u001b[32m INFO     \u001b[0m|: Update Step\n",
      "2023-05-03 15:40:25,452 |\u001b[32m INFO     \u001b[0m|:      | Update Time: 0.003 secs\n",
      "2023-05-03 15:40:25,454 |\u001b[32m INFO     \u001b[0m|: ---------- UPDATE STATS -----------\n",
      "2023-05-03 15:40:25,460 |\u001b[32m INFO     \u001b[0m|: GT index      : (7, 6, 3)\n",
      "2023-05-03 15:40:25,461 |\u001b[32m INFO     \u001b[0m|: Bel index     : (7, 7, 3) with prob = 0.9999999\n",
      "2023-05-03 15:40:25,463 |\u001b[32m INFO     \u001b[0m|: Bel_bar prob at index = 0.018344711962612156\n",
      "2023-05-03 15:40:25,465 |\u001b[32m INFO     \u001b[0m|: GT            : (0.478, 0.829, 4574.075)\n",
      "2023-05-03 15:40:25,466 |\u001b[32m INFO     \u001b[0m|: Belief        : (0.610, 0.914, -110.000)\n",
      "2023-05-03 15:40:25,468 |\u001b[32m INFO     \u001b[0m|: POS ERROR     : (-0.131, -0.085, 4684.075)\n",
      "2023-05-03 15:40:25,470 |\u001b[32m INFO     \u001b[0m|: ---------- UPDATE STATS -----------\n",
      "-------------------------------------\n",
      "\n",
      "\n",
      "----------------- 12 -----------------\n",
      "2023-05-03 15:40:27,507 |\u001b[32m INFO     \u001b[0m|: Prediction Step\n",
      "2023-05-03 15:40:27,565 |\u001b[32m INFO     \u001b[0m|:  | Prediction Time: 0.054 secs\n",
      "2023-05-03 15:40:27,566 |\u001b[32m INFO     \u001b[0m|: ---------- PREDICTION STATS -----------\n",
      "2023-05-03 15:40:27,569 |\u001b[32m INFO     \u001b[0m|: GT index         : (6, 4, 5)\n",
      "2023-05-03 15:40:27,571 |\u001b[32m INFO     \u001b[0m|: Prior Bel index  : (8, 4, 7) with prob = 0.0732117\n",
      "2023-05-03 15:40:27,573 |\u001b[32m INFO     \u001b[0m|: POS ERROR        : (-0.615, 0.204, 4649.922)\n",
      "2023-05-03 15:40:27,575 |\u001b[32m INFO     \u001b[0m|: ---------- PREDICTION STATS -----------\n",
      "2023-05-03 15:40:30,509 |\u001b[32m INFO     \u001b[0m|: Update Step\n",
      "2023-05-03 15:40:30,513 |\u001b[32m INFO     \u001b[0m|:      | Update Time: 0.003 secs\n",
      "2023-05-03 15:40:30,515 |\u001b[32m INFO     \u001b[0m|: ---------- UPDATE STATS -----------\n",
      "2023-05-03 15:40:30,523 |\u001b[32m INFO     \u001b[0m|: GT index      : (6, 4, 5)\n",
      "2023-05-03 15:40:30,525 |\u001b[32m INFO     \u001b[0m|: Bel index     : (6, 5, 5) with prob = 1.0\n",
      "2023-05-03 15:40:30,527 |\u001b[32m INFO     \u001b[0m|: Bel_bar prob at index = 0.0020139654513830173\n",
      "2023-05-03 15:40:30,529 |\u001b[32m INFO     \u001b[0m|: GT            : (0.300, 0.204, 4979.922)\n",
      "2023-05-03 15:40:30,530 |\u001b[32m INFO     \u001b[0m|: Belief        : (0.305, 0.305, -70.000)\n",
      "2023-05-03 15:40:30,532 |\u001b[32m INFO     \u001b[0m|: POS ERROR     : (-0.005, -0.101, 5049.922)\n",
      "2023-05-03 15:40:30,534 |\u001b[32m INFO     \u001b[0m|: ---------- UPDATE STATS -----------\n",
      "-------------------------------------\n",
      "\n",
      "\n",
      "----------------- 13 -----------------\n",
      "2023-05-03 15:40:32,578 |\u001b[32m INFO     \u001b[0m|: Prediction Step\n"
     ]
    },
    {
     "name": "stderr",
     "output_type": "stream",
     "text": [
      "qt.pointer.dispatch: skipping QEventPoint(id=1 ts=0 pos=0,0 scn=788.429,310.698 gbl=788.429,310.698 Released ellipse=(1x1 ∡ 0) vel=0,0 press=-788.429,-310.698 last=-788.429,-310.698 Δ 788.429,310.698) : no target window\n"
     ]
    },
    {
     "name": "stdout",
     "output_type": "stream",
     "text": [
      "2023-05-03 15:40:32,638 |\u001b[32m INFO     \u001b[0m|:  | Prediction Time: 0.058 secs\n",
      "2023-05-03 15:40:32,639 |\u001b[32m INFO     \u001b[0m|: ---------- PREDICTION STATS -----------\n",
      "2023-05-03 15:40:32,645 |\u001b[32m INFO     \u001b[0m|: GT index         : (6, 3, 2)\n",
      "2023-05-03 15:40:32,646 |\u001b[32m INFO     \u001b[0m|: Prior Bel index  : (7, 4, 3) with prob = 0.1414373\n",
      "2023-05-03 15:40:32,648 |\u001b[32m INFO     \u001b[0m|: POS ERROR        : (-0.560, -0.108, 5021.178)\n",
      "2023-05-03 15:40:32,652 |\u001b[32m INFO     \u001b[0m|: ---------- PREDICTION STATS -----------\n",
      "2023-05-03 15:40:35,625 |\u001b[32m INFO     \u001b[0m|: Update Step\n",
      "2023-05-03 15:40:35,629 |\u001b[32m INFO     \u001b[0m|:      | Update Time: 0.003 secs\n",
      "2023-05-03 15:40:35,631 |\u001b[32m INFO     \u001b[0m|: ---------- UPDATE STATS -----------\n",
      "2023-05-03 15:40:35,636 |\u001b[32m INFO     \u001b[0m|: GT index      : (6, 3, 2)\n",
      "2023-05-03 15:40:35,637 |\u001b[32m INFO     \u001b[0m|: Bel index     : (5, 3, 2) with prob = 1.0\n",
      "2023-05-03 15:40:35,639 |\u001b[32m INFO     \u001b[0m|: Bel_bar prob at index = 2.8031119421907132e-09\n",
      "2023-05-03 15:40:35,640 |\u001b[32m INFO     \u001b[0m|: GT            : (0.049, -0.108, 5271.178)\n",
      "2023-05-03 15:40:35,642 |\u001b[32m INFO     \u001b[0m|: Belief        : (0.000, -0.305, -130.000)\n",
      "2023-05-03 15:40:35,643 |\u001b[32m INFO     \u001b[0m|: POS ERROR     : (0.049, 0.197, 5401.178)\n",
      "2023-05-03 15:40:35,646 |\u001b[32m INFO     \u001b[0m|: ---------- UPDATE STATS -----------\n",
      "-------------------------------------\n",
      "\n",
      "\n",
      "----------------- 14 -----------------\n"
     ]
    },
    {
     "name": "stderr",
     "output_type": "stream",
     "text": [
      "Traceback (most recent call last):\n",
      "  File \"/Users/tiffanyguo/Desktop/ECE4160-code/ble_robot-1.1/FastRobots-sim-release-release-mirror/src/plotter.py\", line 263, in keyPressEvent\n",
      "    if event.key() == Qt.Key_Escape:\n",
      "AttributeError: type object 'Qt' has no attribute 'Key_Escape'\n"
     ]
    },
    {
     "name": "stdout",
     "output_type": "stream",
     "text": [
      "2023-05-03 15:40:38,697 |\u001b[32m INFO     \u001b[0m|: Prediction Step\n",
      "2023-05-03 15:40:38,750 |\u001b[32m INFO     \u001b[0m|:  | Prediction Time: 0.052 secs\n",
      "2023-05-03 15:40:38,752 |\u001b[32m INFO     \u001b[0m|: ---------- PREDICTION STATS -----------\n",
      "2023-05-03 15:40:38,765 |\u001b[32m INFO     \u001b[0m|: GT index         : (4, 3, 1)\n",
      "2023-05-03 15:40:38,766 |\u001b[32m INFO     \u001b[0m|: Prior Bel index  : (4, 3, 0) with prob = 0.1391339\n",
      "2023-05-03 15:40:38,768 |\u001b[32m INFO     \u001b[0m|: POS ERROR        : (-0.016, 0.044, 5418.255)\n",
      "2023-05-03 15:40:38,770 |\u001b[32m INFO     \u001b[0m|: ---------- PREDICTION STATS -----------\n"
     ]
    },
    {
     "name": "stderr",
     "output_type": "stream",
     "text": [
      "Traceback (most recent call last):\n",
      "  File \"/Users/tiffanyguo/Desktop/ECE4160-code/ble_robot-1.1/FastRobots-sim-release-release-mirror/src/plotter.py\", line 263, in keyPressEvent\n",
      "    if event.key() == Qt.Key_Escape:\n",
      "AttributeError: type object 'Qt' has no attribute 'Key_Escape'\n",
      "Traceback (most recent call last):\n",
      "  File \"/Users/tiffanyguo/Desktop/ECE4160-code/ble_robot-1.1/FastRobots-sim-release-release-mirror/src/plotter.py\", line 263, in keyPressEvent\n",
      "    if event.key() == Qt.Key_Escape:\n",
      "AttributeError: type object 'Qt' has no attribute 'Key_Escape'\n"
     ]
    },
    {
     "name": "stdout",
     "output_type": "stream",
     "text": [
      "2023-05-03 15:40:41,729 |\u001b[32m INFO     \u001b[0m|: Update Step\n",
      "2023-05-03 15:40:41,735 |\u001b[32m INFO     \u001b[0m|:      | Update Time: 0.005 secs\n",
      "2023-05-03 15:40:41,736 |\u001b[32m INFO     \u001b[0m|: ---------- UPDATE STATS -----------\n",
      "2023-05-03 15:40:41,739 |\u001b[32m INFO     \u001b[0m|: GT index      : (4, 3, 1)\n",
      "2023-05-03 15:40:41,742 |\u001b[32m INFO     \u001b[0m|: Bel index     : (4, 3, 1) with prob = 1.0\n",
      "2023-05-03 15:40:41,745 |\u001b[32m INFO     \u001b[0m|: Bel_bar prob at index = 0.02718916654055326\n",
      "2023-05-03 15:40:41,747 |\u001b[32m INFO     \u001b[0m|: GT            : (-0.320, -0.261, 5608.255)\n",
      "2023-05-03 15:40:41,750 |\u001b[32m INFO     \u001b[0m|: Belief        : (-0.305, -0.305, -150.000)\n",
      "2023-05-03 15:40:41,751 |\u001b[32m INFO     \u001b[0m|: POS ERROR     : (-0.016, 0.044, 5758.255)\n",
      "2023-05-03 15:40:41,754 |\u001b[32m INFO     \u001b[0m|: ---------- UPDATE STATS -----------\n",
      "-------------------------------------\n",
      "\n",
      "\n",
      "----------------- 15 -----------------\n",
      "2023-05-03 15:40:44,810 |\u001b[32m INFO     \u001b[0m|: Prediction Step\n",
      "2023-05-03 15:40:44,865 |\u001b[32m INFO     \u001b[0m|:  | Prediction Time: 0.054 secs\n",
      "2023-05-03 15:40:44,866 |\u001b[32m INFO     \u001b[0m|: ---------- PREDICTION STATS -----------\n",
      "2023-05-03 15:40:44,876 |\u001b[32m INFO     \u001b[0m|: GT index         : (3, 3, 0)\n",
      "2023-05-03 15:40:44,879 |\u001b[32m INFO     \u001b[0m|: Prior Bel index  : (5, 2, 15) with prob = 0.1663205\n",
      "2023-05-03 15:40:44,880 |\u001b[32m INFO     \u001b[0m|: POS ERROR        : (-0.714, 0.355, 5454.855)\n",
      "2023-05-03 15:40:44,883 |\u001b[32m INFO     \u001b[0m|: ---------- PREDICTION STATS -----------\n",
      "2023-05-03 15:40:47,828 |\u001b[32m INFO     \u001b[0m|: Update Step\n",
      "2023-05-03 15:40:47,831 |\u001b[32m INFO     \u001b[0m|:      | Update Time: 0.003 secs\n",
      "2023-05-03 15:40:47,833 |\u001b[32m INFO     \u001b[0m|: ---------- UPDATE STATS -----------\n",
      "2023-05-03 15:40:47,841 |\u001b[32m INFO     \u001b[0m|: GT index      : (3, 3, 0)\n",
      "2023-05-03 15:40:47,843 |\u001b[32m INFO     \u001b[0m|: Bel index     : (3, 3, 0) with prob = 0.9999997\n",
      "2023-05-03 15:40:47,845 |\u001b[32m INFO     \u001b[0m|: Bel_bar prob at index = 2.4816715438039115e-49\n",
      "2023-05-03 15:40:47,846 |\u001b[32m INFO     \u001b[0m|: GT            : (-0.714, -0.255, 5944.855)\n",
      "2023-05-03 15:40:47,848 |\u001b[32m INFO     \u001b[0m|: Belief        : (-0.610, -0.305, -170.000)\n",
      "2023-05-03 15:40:47,849 |\u001b[32m INFO     \u001b[0m|: POS ERROR     : (-0.104, 0.050, 6114.855)\n",
      "2023-05-03 15:40:47,851 |\u001b[32m INFO     \u001b[0m|: ---------- UPDATE STATS -----------\n",
      "-------------------------------------\n"
     ]
    },
    {
     "name": "stderr",
     "output_type": "stream",
     "text": [
      "Traceback (most recent call last):\n",
      "  File \"/Users/tiffanyguo/Desktop/ECE4160-code/ble_robot-1.1/FastRobots-sim-release-release-mirror/src/plotter.py\", line 252, in closeEvent\n",
      "    result = QtGui.QMessageBox.question(self,\n",
      "AttributeError: module 'pyqtgraph.Qt.QtGui' has no attribute 'QMessageBox'\n"
     ]
    },
    {
     "name": "stdout",
     "output_type": "stream",
     "text": [
      "Loading Flatland...\n",
      "Initializing pygame framework...\n"
     ]
    }
   ],
   "source": [
    "# Initialize the Trajectory object\n",
    "traj = Trajectory(loc)\n",
    "\n",
    "# Run through each motion steps\n",
    "for t in range(0, traj.total_time_steps):\n",
    "    print(\"\\n\\n-----------------\", t, \"-----------------\")\n",
    "    \n",
    "    prev_odom, current_odom, prev_gt, current_gt = traj.execute_time_step(t)\n",
    "        \n",
    "    # Prediction Step\n",
    "    loc.prediction_step(current_odom, prev_odom)\n",
    "    loc.print_prediction_stats(plot_data=True)\n",
    "    \n",
    "    # Get Observation Data by executing a 360 degree rotation motion\n",
    "    loc.get_observation_data()\n",
    "    \n",
    "    # Update Step\n",
    "    loc.update_step()\n",
    "    loc.print_update_stats(plot_data=True)\n",
    "\n",
    "# Uncomment the below line to wait for keyboard input between each iteration.\n",
    "#   input(\"Press Enter to Continue\")\n",
    "        \n",
    "    print(\"-------------------------------------\")"
   ]
  },
  {
   "cell_type": "code",
   "execution_count": null,
   "metadata": {},
   "outputs": [],
   "source": []
  }
 ],
 "metadata": {
  "kernelspec": {
   "display_name": "Python 3 (ipykernel)",
   "language": "python",
   "name": "python3"
  },
  "language_info": {
   "codemirror_mode": {
    "name": "ipython",
    "version": 3
   },
   "file_extension": ".py",
   "mimetype": "text/x-python",
   "name": "python",
   "nbconvert_exporter": "python",
   "pygments_lexer": "ipython3",
   "version": "3.9.10"
  }
 },
 "nbformat": 4,
 "nbformat_minor": 4
}
