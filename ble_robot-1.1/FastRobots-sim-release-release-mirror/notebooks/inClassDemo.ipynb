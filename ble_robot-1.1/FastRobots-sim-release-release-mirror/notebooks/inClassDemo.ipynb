{
 "cells": [
  {
   "cell_type": "code",
   "execution_count": 1,
   "metadata": {},
   "outputs": [
    {
     "name": "stdout",
     "output_type": "stream",
     "text": [
      "2023-04-14 14:04:59,934 |\u001b[32m INFO     \u001b[0m|: Logger demo_notebook.log initialized.\n"
     ]
    }
   ],
   "source": [
    "%load_ext autoreload\n",
    "%autoreload 2\n",
    "\n",
    "import traceback\n",
    "from notebook_utils import *\n",
    "import asyncio\n",
    "\n",
    "# Setup Logger\n",
    "LOG = get_logger('demo_notebook.log')\n",
    "\n",
    "# Init GUI and Commander\n",
    "gui = GET_GUI()\n",
    "cmdr = gui.launcher.commander"
   ]
  },
  {
   "cell_type": "markdown",
   "metadata": {},
   "source": [
    "# Start/Stop the Simulator and Plotter"
   ]
  },
  {
   "cell_type": "markdown",
   "metadata": {},
   "source": [
    "### OPTION 1: GUI\n",
    "- You can use a GUI to start, stop and track the running status of the simulator and plotter.\n",
    "- Run the below cell **only once** to render the GUI. You can then interact with the GUI using your mouse.\n",
    "- The GUI will not respond when the notebook's kernel is busy, just like any other cell."
   ]
  },
  {
   "cell_type": "code",
   "execution_count": 2,
   "metadata": {},
   "outputs": [
    {
     "data": {
      "application/vnd.jupyter.widget-view+json": {
       "model_id": "3e6647a4a562427aad0e4906faa401d7",
       "version_major": 2,
       "version_minor": 0
      },
      "text/plain": [
       "TwoByTwoLayout(children=(Label(value='Simulator', layout=Layout(grid_area='top-left', width='80px')), HBox(chi…"
      ]
     },
     "metadata": {},
     "output_type": "display_data"
    }
   ],
   "source": [
    "gui.show()"
   ]
  },
  {
   "cell_type": "markdown",
   "metadata": {},
   "source": [
    "### OPTION 2: Programmatically\n",
    "You can also use functions to do the same."
   ]
  },
  {
   "cell_type": "code",
   "execution_count": 3,
   "metadata": {},
   "outputs": [
    {
     "name": "stderr",
     "output_type": "stream",
     "text": [
      "qt.pointer.dispatch: skipping QEventPoint(id=1 ts=0 pos=0,0 scn=674.213,405.626 gbl=674.213,405.626 Released ellipse=(1x1 ∡ 0) vel=0,0 press=-674.213,-405.626 last=-674.213,-405.626 Δ 674.213,405.626) : no target window\n",
      "qt.pointer.dispatch: skipping QEventPoint(id=1 ts=0 pos=0,0 scn=677.1,395.039 gbl=677.1,395.039 Released ellipse=(1x1 ∡ 0) vel=0,0 press=-677.1,-395.039 last=-677.1,-395.039 Δ 677.1,395.039) : no target window\n",
      "qt.pointer.dispatch: skipping QEventPoint(id=1 ts=0 pos=0,0 scn=677.281,369.49 gbl=677.281,369.49 Released ellipse=(1x1 ∡ 0) vel=0,0 press=-677.281,-369.49 last=-677.281,-369.49 Δ 677.281,369.49) : no target window\n",
      "qt.pointer.dispatch: skipping QEventPoint(id=1 ts=0 pos=0,0 scn=678.29,330.824 gbl=678.29,330.824 Released ellipse=(1x1 ∡ 0) vel=0,0 press=-678.29,-330.824 last=-678.29,-330.824 Δ 678.29,330.824) : no target window\n",
      "qt.pointer.dispatch: skipping QEventPoint(id=1 ts=0 pos=0,0 scn=683.767,286.282 gbl=683.767,286.282 Released ellipse=(1x1 ∡ 0) vel=0,0 press=-683.767,-286.282 last=-683.767,-286.282 Δ 683.767,286.282) : no target window\n",
      "qt.pointer.dispatch: skipping QEventPoint(id=1 ts=0 pos=0,0 scn=691.158,244.488 gbl=691.158,244.488 Released ellipse=(1x1 ∡ 0) vel=0,0 press=-691.158,-244.488 last=-691.158,-244.488 Δ 691.158,244.488) : no target window\n",
      "qt.pointer.dispatch: skipping QEventPoint(id=1 ts=0 pos=0,0 scn=696.302,218.187 gbl=696.302,218.187 Released ellipse=(1x1 ∡ 0) vel=0,0 press=-696.302,-218.187 last=-696.302,-218.187 Δ 696.302,218.187) : no target window\n",
      "qt.pointer.dispatch: skipping QEventPoint(id=1 ts=0 pos=0,0 scn=703.131,192.076 gbl=703.131,192.076 Released ellipse=(1x1 ∡ 0) vel=0,0 press=-703.131,-192.076 last=-703.131,-192.076 Δ 703.131,192.076) : no target window\n",
      "qt.pointer.dispatch: skipping QEventPoint(id=1 ts=0 pos=0,0 scn=1009.23,202.503 gbl=1009.23,202.503 Released ellipse=(1x1 ∡ 0) vel=0,0 press=-1009.23,-202.503 last=-1009.23,-202.503 Δ 1009.23,202.503) : no target window\n",
      "2023-04-14 14:05:33.018 Python[15433:480681] TSM AdjustCapsLockLEDForKeyTransitionHandling - _ISSetPhysicalKeyboardCapsLockLED Inhibit\n",
      "qt.pointer.dispatch: skipping QEventPoint(id=1 ts=0 pos=0,0 scn=894.944,621.639 gbl=894.944,621.639 Released ellipse=(1x1 ∡ 0) vel=0,0 press=-894.944,-621.639 last=-894.944,-621.639 Δ 894.944,621.639) : no target window\n",
      "Traceback (most recent call last):\n",
      "  File \"/Users/tiffanyguo/Desktop/ECE4160-code/ble_robot-1.1/FastRobots-sim-release-release-mirror/src/plotter.py\", line 263, in keyPressEvent\n",
      "    if event.key() == Qt.Key_Escape:\n",
      "AttributeError: type object 'Qt' has no attribute 'Key_Escape'\n"
     ]
    },
    {
     "name": "stdout",
     "output_type": "stream",
     "text": [
      "Loading Flatland...\n",
      "Initializing pygame framework...\n"
     ]
    },
    {
     "name": "stderr",
     "output_type": "stream",
     "text": [
      "Traceback (most recent call last):\n",
      "  File \"/Users/tiffanyguo/Desktop/ECE4160-code/ble_robot-1.1/FastRobots-sim-release-release-mirror/src/plotter.py\", line 252, in closeEvent\n",
      "    result = QtGui.QMessageBox.question(self,\n",
      "AttributeError: module 'pyqtgraph.Qt.QtGui' has no attribute 'QMessageBox'\n"
     ]
    }
   ],
   "source": [
    "# Start the simulator\n",
    "START_SIM()\n",
    "\n",
    "# Start the plotter\n",
    "START_PLOTTER()"
   ]
  },
  {
   "cell_type": "code",
   "execution_count": null,
   "metadata": {},
   "outputs": [],
   "source": [
    "# Start the simulator\n",
    "STOP_SIM()\n",
    "\n",
    "# Start the plotter\n",
    "STOP_PLOTTER()"
   ]
  },
  {
   "cell_type": "code",
   "execution_count": null,
   "metadata": {},
   "outputs": [],
   "source": [
    "# Reset the simulator\n",
    "RESET_SIM()\n",
    "\n",
    "# Start the plotter\n",
    "RESET_PLOTTER()"
   ]
  },
  {
   "cell_type": "markdown",
   "metadata": {},
   "source": [
    "You can also quit each process by closing their respective windows.\n",
    "\n",
    "### Make sure there is only one running instance of the simulator and plotter to prevent any confusion."
   ]
  },
  {
   "cell_type": "markdown",
   "metadata": {},
   "source": [
    "<hr>\n",
    "\n",
    "# Interactions\n",
    "\n",
    "## Using your mouse and keyboard\n",
    "\n",
    "### Simulator\n",
    "- Press the up and down arrow keys to increase and decrease the linear velocity of the virtual robot, respectively.\n",
    "- Press the left and right arrow keys to increase to increase and decrease the angular velocity of the virtual robot, respectively.\n",
    "- Hit spacebar to stop the robot.\n",
    "- Press h to display the full keyboard map.\n",
    "\n",
    "### Plotter\n",
    "- Use the GUI buttons to show/hide the various plots.\n",
    "- Use your mouse to zoom in and out of the plot.\n",
    "- Press the \"A\" button (bottom-left to the plotting box and above \"Plotted Points\") to auto-fit the plot to your window.\n"
   ]
  },
  {
   "cell_type": "markdown",
   "metadata": {},
   "source": [
    "\n",
    "## Using the Commander class\n",
    "The **Commander** class (defined in *commander.py*) allows you to interact with the simulator and the plotter programmatically. <br>\n",
    "__NOTE__: The units of measurement are meters and radians.\n",
    "\n",
    "<table align=\"left\">\n",
    "    <tr>\n",
    "        <th style=\"text-align: left; font-size: medium\">Member Functions</th>\n",
    "        <th style=\"text-align: left; font-size: medium\">Description</th style=\"text-align: left\">\n",
    "    </tr>\n",
    "    <tr>\n",
    "        <th style=\"text-align: left\"><span style=\"font-family:monospace\">Utility Functions</span></th>\n",
    "    </tr>\n",
    "    <tr>\n",
    "        <th style=\"text-align: left\"><span style=\"color:rgb(201,152,4);font-family:monospace\">sim_is_running()</span></th>\n",
    "        <th style=\"text-align: left\"><span style=\"font-weight: normal\">Get the run status of the simulator.</span></th>\n",
    "    </tr>\n",
    "    <tr>\n",
    "        <th style=\"text-align: left\"><span style=\"color:rgb(201,152,4);font-family:monospace\">plotter_is_running()</span></th>\n",
    "        <th style=\"text-align: left\"><span style=\"font-weight: normal\">Get the run status of the plotter.</span></th>\n",
    "    </tr>\n",
    "    <tr>\n",
    "        <th style=\"text-align: left\"><span style=\"font-family:monospace\">Plotter Functions</span></th>\n",
    "    </tr>\n",
    "    <tr>\n",
    "        <th style=\"text-align: left\"><span style=\"color:rgb(201,152,4);font-family:monospace\">plot_odom(x,y)</span></th>\n",
    "        <th style=\"text-align: left\"><span style=\"font-weight: normal\">Plot a point (x,y) in the plotter in red. Units are (meters, meters).</span></th style=\"text-align: left\">\n",
    "    </tr>\n",
    "    <tr>\n",
    "        <th style=\"text-align: left\"><span style=\"color:rgb(201,152,4);font-family:monospace\">plot_gt(x,y)</span></th>\n",
    "        <th style=\"text-align: left\"><span style=\"font-weight: normal\">Plot a point (x,y) in the plotter in green. Units are (meters, meters).</span></th>\n",
    "    </tr>\n",
    "    <tr>\n",
    "        <th style=\"text-align: left\"><span style=\"color:rgb(201,152,4);font-family:monospace\">plot_bel(x,y)</span></th>\n",
    "        <th style=\"text-align: left\"><span style=\"font-weight: normal\">Plot a point (x,y) in the plotter in blue. Units are (meters, meters).</span></th>\n",
    "    </tr>\n",
    "    <tr>\n",
    "        <th style=\"text-align: left\"><span style=\"color:rgb(201,152,4);font-family:monospace\">plot_map()</span></th>\n",
    "        <th style=\"text-align: left\"><span style=\"font-weight: normal\">Plot the map based on the map lines in <em>world.yaml</em>.</span></th>\n",
    "    </tr>\n",
    "    <tr>\n",
    "        <th style=\"text-align: left\"><span style=\"color:rgb(201,152,4);font-family:monospace\">reset_plotter()</span></th>\n",
    "        <th style=\"text-align: left\"><span style=\"font-weight: normal\">Reset the plots in the plotter.</span></th>\n",
    "    </tr>\n",
    "    <tr>\n",
    "        <th style=\"text-align: left\"><span style=\"font-family:monospace\">Simulator Functions</span></th>\n",
    "    </tr>\n",
    "    <tr>\n",
    "        <th style=\"text-align: left\"><span style=\"color:rgb(201,152,4);font-family:monospace\">set_vel(linear_vel, angular_vel)</span></th>\n",
    "        <th style=\"text-align: left\"><span style=\"font-weight: normal\">Set the linear velocity (m/s) and angular velocity (rad/s) of the virtual robot.</span></th style=\"text-align: left\">\n",
    "    </tr>\n",
    "    <tr>\n",
    "        <th style=\"text-align: left\"><span style=\"color:rgb(201,152,4);font-family:monospace\">get_pose()</span></th>\n",
    "        <th style=\"text-align: left\"><span style=\"font-weight: normal\">Get the odometry and ground truth poses of the virtual robot as two numpy arrays. The units of each pose are (meters, meters, radians)</span></th>\n",
    "    </tr>\n",
    "    <tr>\n",
    "        <th style=\"text-align: left\"><span style=\"color:rgb(201,152,4);font-family:monospace\">get_sensor()</span></th>\n",
    "        <th style=\"text-align: left\"><span style=\"font-weight: normal\">Get the ToF sensor data (in meters) of the virtual robot as a numpy column array.</span></th>\n",
    "    </tr>\n",
    "    <tr>\n",
    "        <th style=\"text-align: left\"><span style=\"color:rgb(201,152,4);font-family:monospace\">reset_sim()</span></th>\n",
    "        <th style=\"text-align: left\"><span style=\"font-weight: normal\">Reset the virtual robot to its initial pose.</span></th>\n",
    "    </tr>    \n",
    "   \n",
    "</table>\n"
   ]
  },
  {
   "cell_type": "code",
   "execution_count": null,
   "metadata": {},
   "outputs": [],
   "source": [
    "# Reset Plotter and Simulator\n",
    "cmdr.reset_plotter()\n",
    "cmdr.reset_sim()\n",
    "\n",
    "# Loop for pose\n",
    "while cmdr.sim_is_running() and cmdr.plotter_is_running():\n",
    "    pose, gt_pose = cmdr.get_pose()\n",
    "\n",
    "    cmdr.plot_odom(pose[0], pose[1])\n",
    "    cmdr.plot_gt(gt_pose[0], gt_pose[1])"
   ]
  },
  {
   "cell_type": "code",
   "execution_count": null,
   "metadata": {},
   "outputs": [],
   "source": [
    "# Loop for sensor\n",
    "while cmdr.sim_is_running() and cmdr.plotter_is_running():\n",
    "    sensor_values = cmdr.get_sensor()\n",
    "    print(sensor_values)\n",
    "    await asyncio.sleep(1)"
   ]
  }
 ],
 "metadata": {
  "kernelspec": {
   "display_name": "Python 3 (ipykernel)",
   "language": "python",
   "name": "python3"
  },
  "language_info": {
   "codemirror_mode": {
    "name": "ipython",
    "version": 3
   },
   "file_extension": ".py",
   "mimetype": "text/x-python",
   "name": "python",
   "nbconvert_exporter": "python",
   "pygments_lexer": "ipython3",
   "version": "3.9.10"
  }
 },
 "nbformat": 4,
 "nbformat_minor": 4
}
